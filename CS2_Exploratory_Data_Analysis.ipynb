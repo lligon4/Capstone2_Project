{
 "cells": [
  {
   "cell_type": "markdown",
   "metadata": {},
   "source": [
    "# Exploratory Data Analysis"
   ]
  },
  {
   "cell_type": "markdown",
   "metadata": {},
   "source": [
    "## Introduction\n",
    "\n",
    "EDA will continue the effort of predicting MLB pitch types using Statcast data. We start with 61 feature variables and the target variable of 'pitch_type'. Given the high dimensionality of our data, we will be focused on exploring features to potentially drop. Many features are post-pitch data and can not be used to provide meaningful predictions. There will also be a need to transform our data to discover pitch sequences within a single at-bat. "
   ]
  },
  {
   "cell_type": "markdown",
   "metadata": {},
   "source": [
    "## Imports and Data Load"
   ]
  },
  {
   "cell_type": "code",
   "execution_count": 1,
   "metadata": {},
   "outputs": [],
   "source": [
    "import pandas as pd\n",
    "import numpy as np\n",
    "import matplotlib.pyplot as plt\n",
    "import seaborn as sns"
   ]
  },
  {
   "cell_type": "code",
   "execution_count": 2,
   "metadata": {},
   "outputs": [],
   "source": [
    "data = pd.read_csv('data_cleaned.csv', index_col='index')"
   ]
  },
  {
   "cell_type": "code",
   "execution_count": 3,
   "metadata": {},
   "outputs": [
    {
     "data": {
      "text/html": [
       "<div>\n",
       "<style scoped>\n",
       "    .dataframe tbody tr th:only-of-type {\n",
       "        vertical-align: middle;\n",
       "    }\n",
       "\n",
       "    .dataframe tbody tr th {\n",
       "        vertical-align: top;\n",
       "    }\n",
       "\n",
       "    .dataframe thead th {\n",
       "        text-align: right;\n",
       "    }\n",
       "</style>\n",
       "<table border=\"1\" class=\"dataframe\">\n",
       "  <thead>\n",
       "    <tr style=\"text-align: right;\">\n",
       "      <th></th>\n",
       "      <th>pitch_type</th>\n",
       "      <th>game_date</th>\n",
       "      <th>release_speed</th>\n",
       "      <th>release_pos_x</th>\n",
       "      <th>release_pos_z</th>\n",
       "      <th>batter</th>\n",
       "      <th>pitcher</th>\n",
       "      <th>events</th>\n",
       "      <th>description</th>\n",
       "      <th>zone</th>\n",
       "      <th>...</th>\n",
       "      <th>home_score</th>\n",
       "      <th>away_score</th>\n",
       "      <th>bat_score</th>\n",
       "      <th>fld_score</th>\n",
       "      <th>post_away_score</th>\n",
       "      <th>post_home_score</th>\n",
       "      <th>post_bat_score</th>\n",
       "      <th>post_fld_score</th>\n",
       "      <th>if_fielding_alignment</th>\n",
       "      <th>of_fielding_alignment</th>\n",
       "    </tr>\n",
       "    <tr>\n",
       "      <th>index</th>\n",
       "      <th></th>\n",
       "      <th></th>\n",
       "      <th></th>\n",
       "      <th></th>\n",
       "      <th></th>\n",
       "      <th></th>\n",
       "      <th></th>\n",
       "      <th></th>\n",
       "      <th></th>\n",
       "      <th></th>\n",
       "      <th></th>\n",
       "      <th></th>\n",
       "      <th></th>\n",
       "      <th></th>\n",
       "      <th></th>\n",
       "      <th></th>\n",
       "      <th></th>\n",
       "      <th></th>\n",
       "      <th></th>\n",
       "      <th></th>\n",
       "      <th></th>\n",
       "    </tr>\n",
       "  </thead>\n",
       "  <tbody>\n",
       "    <tr>\n",
       "      <th>1778</th>\n",
       "      <td>SI</td>\n",
       "      <td>2019-07-31</td>\n",
       "      <td>101.0</td>\n",
       "      <td>0.56</td>\n",
       "      <td>6.14</td>\n",
       "      <td>606466.0</td>\n",
       "      <td>547973.0</td>\n",
       "      <td>force_out</td>\n",
       "      <td>hit_into_play</td>\n",
       "      <td>6.0</td>\n",
       "      <td>...</td>\n",
       "      <td>7.0</td>\n",
       "      <td>5.0</td>\n",
       "      <td>5.0</td>\n",
       "      <td>7.0</td>\n",
       "      <td>5.0</td>\n",
       "      <td>7.0</td>\n",
       "      <td>5.0</td>\n",
       "      <td>7.0</td>\n",
       "      <td>Standard</td>\n",
       "      <td>Standard</td>\n",
       "    </tr>\n",
       "    <tr>\n",
       "      <th>1839</th>\n",
       "      <td>SL</td>\n",
       "      <td>2019-07-31</td>\n",
       "      <td>88.1</td>\n",
       "      <td>0.55</td>\n",
       "      <td>6.24</td>\n",
       "      <td>606466.0</td>\n",
       "      <td>547973.0</td>\n",
       "      <td>NaN</td>\n",
       "      <td>foul</td>\n",
       "      <td>5.0</td>\n",
       "      <td>...</td>\n",
       "      <td>7.0</td>\n",
       "      <td>5.0</td>\n",
       "      <td>5.0</td>\n",
       "      <td>7.0</td>\n",
       "      <td>5.0</td>\n",
       "      <td>7.0</td>\n",
       "      <td>5.0</td>\n",
       "      <td>7.0</td>\n",
       "      <td>Standard</td>\n",
       "      <td>Standard</td>\n",
       "    </tr>\n",
       "    <tr>\n",
       "      <th>1867</th>\n",
       "      <td>SL</td>\n",
       "      <td>2019-07-31</td>\n",
       "      <td>85.8</td>\n",
       "      <td>0.39</td>\n",
       "      <td>6.13</td>\n",
       "      <td>606466.0</td>\n",
       "      <td>547973.0</td>\n",
       "      <td>NaN</td>\n",
       "      <td>swinging_strike</td>\n",
       "      <td>13.0</td>\n",
       "      <td>...</td>\n",
       "      <td>7.0</td>\n",
       "      <td>5.0</td>\n",
       "      <td>5.0</td>\n",
       "      <td>7.0</td>\n",
       "      <td>5.0</td>\n",
       "      <td>7.0</td>\n",
       "      <td>5.0</td>\n",
       "      <td>7.0</td>\n",
       "      <td>Standard</td>\n",
       "      <td>Standard</td>\n",
       "    </tr>\n",
       "    <tr>\n",
       "      <th>1932</th>\n",
       "      <td>FF</td>\n",
       "      <td>2019-07-31</td>\n",
       "      <td>96.5</td>\n",
       "      <td>0.72</td>\n",
       "      <td>6.13</td>\n",
       "      <td>572233.0</td>\n",
       "      <td>547973.0</td>\n",
       "      <td>walk</td>\n",
       "      <td>ball</td>\n",
       "      <td>12.0</td>\n",
       "      <td>...</td>\n",
       "      <td>7.0</td>\n",
       "      <td>5.0</td>\n",
       "      <td>5.0</td>\n",
       "      <td>7.0</td>\n",
       "      <td>5.0</td>\n",
       "      <td>7.0</td>\n",
       "      <td>5.0</td>\n",
       "      <td>7.0</td>\n",
       "      <td>Standard</td>\n",
       "      <td>Standard</td>\n",
       "    </tr>\n",
       "    <tr>\n",
       "      <th>1956</th>\n",
       "      <td>FF</td>\n",
       "      <td>2019-07-31</td>\n",
       "      <td>96.8</td>\n",
       "      <td>0.50</td>\n",
       "      <td>6.16</td>\n",
       "      <td>572233.0</td>\n",
       "      <td>547973.0</td>\n",
       "      <td>NaN</td>\n",
       "      <td>ball</td>\n",
       "      <td>12.0</td>\n",
       "      <td>...</td>\n",
       "      <td>7.0</td>\n",
       "      <td>5.0</td>\n",
       "      <td>5.0</td>\n",
       "      <td>7.0</td>\n",
       "      <td>5.0</td>\n",
       "      <td>7.0</td>\n",
       "      <td>5.0</td>\n",
       "      <td>7.0</td>\n",
       "      <td>Standard</td>\n",
       "      <td>Standard</td>\n",
       "    </tr>\n",
       "  </tbody>\n",
       "</table>\n",
       "<p>5 rows × 62 columns</p>\n",
       "</div>"
      ],
      "text/plain": [
       "      pitch_type   game_date  release_speed  release_pos_x  release_pos_z  \\\n",
       "index                                                                       \n",
       "1778          SI  2019-07-31          101.0           0.56           6.14   \n",
       "1839          SL  2019-07-31           88.1           0.55           6.24   \n",
       "1867          SL  2019-07-31           85.8           0.39           6.13   \n",
       "1932          FF  2019-07-31           96.5           0.72           6.13   \n",
       "1956          FF  2019-07-31           96.8           0.50           6.16   \n",
       "\n",
       "         batter   pitcher     events      description  zone  ... home_score  \\\n",
       "index                                                        ...              \n",
       "1778   606466.0  547973.0  force_out    hit_into_play   6.0  ...        7.0   \n",
       "1839   606466.0  547973.0        NaN             foul   5.0  ...        7.0   \n",
       "1867   606466.0  547973.0        NaN  swinging_strike  13.0  ...        7.0   \n",
       "1932   572233.0  547973.0       walk             ball  12.0  ...        7.0   \n",
       "1956   572233.0  547973.0        NaN             ball  12.0  ...        7.0   \n",
       "\n",
       "      away_score bat_score  fld_score post_away_score  post_home_score  \\\n",
       "index                                                                    \n",
       "1778         5.0       5.0        7.0             5.0              7.0   \n",
       "1839         5.0       5.0        7.0             5.0              7.0   \n",
       "1867         5.0       5.0        7.0             5.0              7.0   \n",
       "1932         5.0       5.0        7.0             5.0              7.0   \n",
       "1956         5.0       5.0        7.0             5.0              7.0   \n",
       "\n",
       "       post_bat_score  post_fld_score  if_fielding_alignment  \\\n",
       "index                                                          \n",
       "1778              5.0             7.0               Standard   \n",
       "1839              5.0             7.0               Standard   \n",
       "1867              5.0             7.0               Standard   \n",
       "1932              5.0             7.0               Standard   \n",
       "1956              5.0             7.0               Standard   \n",
       "\n",
       "       of_fielding_alignment  \n",
       "index                         \n",
       "1778                Standard  \n",
       "1839                Standard  \n",
       "1867                Standard  \n",
       "1932                Standard  \n",
       "1956                Standard  \n",
       "\n",
       "[5 rows x 62 columns]"
      ]
     },
     "execution_count": 3,
     "metadata": {},
     "output_type": "execute_result"
    }
   ],
   "source": [
    "data.head()"
   ]
  },
  {
   "cell_type": "code",
   "execution_count": 4,
   "metadata": {},
   "outputs": [
    {
     "name": "stdout",
     "output_type": "stream",
     "text": [
      "<class 'pandas.core.frame.DataFrame'>\n",
      "Int64Index: 110615 entries, 1778 to 22574\n",
      "Data columns (total 62 columns):\n",
      " #   Column                 Non-Null Count   Dtype  \n",
      "---  ------                 --------------   -----  \n",
      " 0   pitch_type             110314 non-null  object \n",
      " 1   game_date              110615 non-null  object \n",
      " 2   release_speed          110327 non-null  float64\n",
      " 3   release_pos_x          110323 non-null  float64\n",
      " 4   release_pos_z          110323 non-null  float64\n",
      " 5   batter                 110615 non-null  float64\n",
      " 6   pitcher                110615 non-null  float64\n",
      " 7   events                 28216 non-null   object \n",
      " 8   description            110615 non-null  object \n",
      " 9   zone                   110323 non-null  float64\n",
      " 10  stand                  110615 non-null  object \n",
      " 11  p_throws               110615 non-null  object \n",
      " 12  type                   110615 non-null  object \n",
      " 13  hit_location           24620 non-null   float64\n",
      " 14  bb_type                19165 non-null   object \n",
      " 15  balls                  110615 non-null  float64\n",
      " 16  strikes                110615 non-null  float64\n",
      " 17  pfx_x                  110323 non-null  float64\n",
      " 18  pfx_z                  110323 non-null  float64\n",
      " 19  plate_x                110323 non-null  float64\n",
      " 20  plate_z                110323 non-null  float64\n",
      " 21  on_3b                  9956 non-null    float64\n",
      " 22  on_2b                  20231 non-null   float64\n",
      " 23  on_1b                  33138 non-null   float64\n",
      " 24  outs_when_up           110615 non-null  float64\n",
      " 25  inning                 110615 non-null  float64\n",
      " 26  inning_topbot          110615 non-null  object \n",
      " 27  hc_x                   19131 non-null   float64\n",
      " 28  hc_y                   19131 non-null   float64\n",
      " 29  fielder_2              110615 non-null  float64\n",
      " 30  vx0                    110323 non-null  float64\n",
      " 31  vy0                    110323 non-null  float64\n",
      " 32  vz0                    110323 non-null  float64\n",
      " 33  ax                     110323 non-null  float64\n",
      " 34  ay                     110323 non-null  float64\n",
      " 35  az                     110323 non-null  float64\n",
      " 36  sz_top                 110323 non-null  float64\n",
      " 37  sz_bot                 110323 non-null  float64\n",
      " 38  hit_distance_sc        29607 non-null   float64\n",
      " 39  launch_speed           30921 non-null   float64\n",
      " 40  launch_angle           30921 non-null   float64\n",
      " 41  effective_speed        110612 non-null  float64\n",
      " 42  release_spin_rate      108285 non-null  float64\n",
      " 43  release_extension      110323 non-null  float64\n",
      " 44  game_pk                110615 non-null  float64\n",
      " 45  pitcher.1              110615 non-null  float64\n",
      " 46  fielder_2.1            110615 non-null  float64\n",
      " 47  release_pos_y          110323 non-null  float64\n",
      " 48  launch_speed_angle     18969 non-null   float64\n",
      " 49  at_bat_number          110615 non-null  float64\n",
      " 50  pitch_number           110615 non-null  float64\n",
      " 51  pitch_name             110314 non-null  object \n",
      " 52  home_score             110615 non-null  float64\n",
      " 53  away_score             110615 non-null  float64\n",
      " 54  bat_score              110615 non-null  float64\n",
      " 55  fld_score              110615 non-null  float64\n",
      " 56  post_away_score        110615 non-null  float64\n",
      " 57  post_home_score        110615 non-null  float64\n",
      " 58  post_bat_score         110615 non-null  float64\n",
      " 59  post_fld_score         110615 non-null  float64\n",
      " 60  if_fielding_alignment  110602 non-null  object \n",
      " 61  of_fielding_alignment  110602 non-null  object \n",
      "dtypes: float64(50), object(12)\n",
      "memory usage: 53.2+ MB\n"
     ]
    }
   ],
   "source": [
    "data.info()"
   ]
  },
  {
   "cell_type": "markdown",
   "metadata": {},
   "source": [
    "## Data Exploration"
   ]
  },
  {
   "cell_type": "markdown",
   "metadata": {},
   "source": [
    "There are currently an excessive number of feature variables in our dataset based on the [Statcast data dictionary](https://baseballsavant.mlb.com/csv-docs 'Data Dictionary'). We will confirm this and determine the appropriate features by exploring each variable."
   ]
  },
  {
   "cell_type": "markdown",
   "metadata": {},
   "source": [
    "### Feature Variables of type 'object'"
   ]
  },
  {
   "cell_type": "markdown",
   "metadata": {},
   "source": [
    "The [Statcast data dictionary](https://baseballsavant.mlb.com/csv-docs 'Data Dictionary') will be used to help determine which features are insignificant or inapplicable. Starting with 'object' type features, we reserve exploration of our target feature 'pitch_type' and begin with 'game_date'."
   ]
  },
  {
   "cell_type": "code",
   "execution_count": 5,
   "metadata": {},
   "outputs": [
    {
     "data": {
      "text/plain": [
       "Index(['pitch_type', 'game_date', 'events', 'description', 'stand', 'p_throws',\n",
       "       'type', 'bb_type', 'inning_topbot', 'pitch_name',\n",
       "       'if_fielding_alignment', 'of_fielding_alignment'],\n",
       "      dtype='object')"
      ]
     },
     "execution_count": 5,
     "metadata": {},
     "output_type": "execute_result"
    }
   ],
   "source": [
    "data.select_dtypes('object').columns"
   ]
  },
  {
   "cell_type": "markdown",
   "metadata": {},
   "source": [
    "'game_date' is the date a game was played and will not determine 'pitch_type'."
   ]
  },
  {
   "cell_type": "code",
   "execution_count": 6,
   "metadata": {},
   "outputs": [],
   "source": [
    "data.drop(columns='game_date', inplace=True)"
   ]
  },
  {
   "cell_type": "markdown",
   "metadata": {},
   "source": [
    "'events' capture the various baseball events that occur within a game. An event does not happen with every pitch; however, 'description' will and it provides a reference to the outcome of each pitch. These features are the first of many that will be inapplicable to the task at hand. Any information gain or result from a pitch is considered post-pitch data and can not be used to help us predict pitch type."
   ]
  },
  {
   "cell_type": "code",
   "execution_count": 7,
   "metadata": {},
   "outputs": [
    {
     "data": {
      "text/plain": [
       "field_out                       10907\n",
       "strikeout                        6522\n",
       "single                           3999\n",
       "walk                             2183\n",
       "double                           1363\n",
       "home_run                         1057\n",
       "force_out                         528\n",
       "grounded_into_double_play         525\n",
       "hit_by_pitch                      281\n",
       "field_error                       214\n",
       "sac_fly                           172\n",
       "triple                            121\n",
       "sac_bunt                          104\n",
       "double_play                        67\n",
       "fielders_choice                    64\n",
       "fielders_choice_out                41\n",
       "strikeout_double_play              24\n",
       "caught_stealing_2b                 21\n",
       "catcher_interf                      8\n",
       "batter_interference                 8\n",
       "other_out                           1\n",
       "pickoff_1b                          1\n",
       "pickoff_caught_stealing_home        1\n",
       "pickoff_2b                          1\n",
       "caught_stealing_3b                  1\n",
       "triple_play                         1\n",
       "pickoff_3b                          1\n",
       "Name: events, dtype: int64"
      ]
     },
     "execution_count": 7,
     "metadata": {},
     "output_type": "execute_result"
    }
   ],
   "source": [
    "data['events'].value_counts()"
   ]
  },
  {
   "cell_type": "code",
   "execution_count": 8,
   "metadata": {},
   "outputs": [
    {
     "data": {
      "text/plain": [
       "ball                       36706\n",
       "foul                       20130\n",
       "hit_into_play              19166\n",
       "called_strike              17882\n",
       "swinging_strike            11708\n",
       "blocked_ball                2573\n",
       "foul_tip                     967\n",
       "swinging_strike_blocked      895\n",
       "hit_by_pitch                 281\n",
       "foul_bunt                    256\n",
       "missed_bunt                   37\n",
       "pitchout                      11\n",
       "bunt_foul_tip                  3\n",
       "Name: description, dtype: int64"
      ]
     },
     "execution_count": 8,
     "metadata": {},
     "output_type": "execute_result"
    }
   ],
   "source": [
    "data['description'].value_counts()"
   ]
  },
  {
   "cell_type": "code",
   "execution_count": 9,
   "metadata": {},
   "outputs": [],
   "source": [
    "data.drop(columns=['events', 'description'], inplace=True)"
   ]
  },
  {
   "cell_type": "markdown",
   "metadata": {},
   "source": [
    "'stand' and 'p_throws' reference the batter and pitcher, respectively, and indicates if each is left (L) or right handed (R). Pitchers could be throwing different pitch types based on where the batter stands to face him."
   ]
  },
  {
   "cell_type": "code",
   "execution_count": 10,
   "metadata": {},
   "outputs": [
    {
     "data": {
      "text/plain": [
       "R    0.581856\n",
       "L    0.418144\n",
       "Name: stand, dtype: float64"
      ]
     },
     "execution_count": 10,
     "metadata": {},
     "output_type": "execute_result"
    }
   ],
   "source": [
    "data['stand'].value_counts(normalize=True)"
   ]
  },
  {
   "cell_type": "code",
   "execution_count": 11,
   "metadata": {},
   "outputs": [
    {
     "data": {
      "text/plain": [
       "R    0.721304\n",
       "L    0.278696\n",
       "Name: p_throws, dtype: float64"
      ]
     },
     "execution_count": 11,
     "metadata": {},
     "output_type": "execute_result"
    }
   ],
   "source": [
    "data['p_throws'].value_counts(normalize=True)"
   ]
  },
  {
   "cell_type": "markdown",
   "metadata": {},
   "source": [
    "It's interesting to see the disproportionate mix of R and L between batters and hitters. \n",
    "\n",
    "**Do right handed pitchers tend to throw different pitches based on the batter's position?**"
   ]
  },
  {
   "cell_type": "code",
   "execution_count": 12,
   "metadata": {},
   "outputs": [
    {
     "data": {
      "image/png": "[encoded data removed]",
      "text/plain": [
       "<Figure size 432x288 with 1 Axes>"
      ]
     },
     "metadata": {
      "needs_background": "light"
     },
     "output_type": "display_data"
    },
    {
     "data": {
      "image/png": "[encoded data removed]",
      "text/plain": [
       "<Figure size 432x288 with 1 Axes>"
      ]
     },
     "metadata": {
      "needs_background": "light"
     },
     "output_type": "display_data"
    }
   ],
   "source": [
    "data_RtoR = data[(data['p_throws'] == 'R') & (data['stand'] == 'R')]\n",
    "val_counts = pd.DataFrame(data_RtoR.pitch_type.value_counts())\n",
    "val_counts = val_counts.reset_index().sort_values('index')\n",
    "val_counts.plot(x = 'index', y = 'pitch_type', kind='bar')\n",
    " \n",
    "plt.title('R Handed Pitcher vs. R Handed Batter')\n",
    "plt.xlabel('Pitch Type')\n",
    "plt.ylabel('Counts')\n",
    "\n",
    "data_RtoL = data[(data['p_throws'] == 'R') & (data['stand'] == 'L')]\n",
    "val_counts1 = pd.DataFrame(data_RtoL.pitch_type.value_counts())\n",
    "val_counts1 = val_counts1.reset_index().sort_values('index')\n",
    "val_counts1.plot(x = 'index', y = 'pitch_type', kind='bar')\n",
    "\n",
    "plt.title('R Handed Pitcher vs. L Handed Batter')\n",
    "plt.xlabel('Pitch Type')\n",
    "plt.ylabel('Counts')\n",
    "plt.show()"
   ]
  },
  {
   "cell_type": "markdown",
   "metadata": {},
   "source": [
    "Right handed (RH) pitchers are throwing fastballs (FF) the most to both sides of the plate, but there's a clear difference betweeen the next most frequent pitch types! A RH batter receives a lot more sliders (SL) than a LH batter while a LH batter will see a changeup (CH) more than any other pitch except fastballs. \n",
    "\n",
    "**What about left handed pitchers?**"
   ]
  },
  {
   "cell_type": "code",
   "execution_count": 13,
   "metadata": {},
   "outputs": [
    {
     "data": {
      "image/png": "[encoded data removed]",
      "text/plain": [
       "<Figure size 432x288 with 1 Axes>"
      ]
     },
     "metadata": {
      "needs_background": "light"
     },
     "output_type": "display_data"
    },
    {
     "data": {
      "image/png": "[encoded data removed]",
      "text/plain": [
       "<Figure size 432x288 with 1 Axes>"
      ]
     },
     "metadata": {
      "needs_background": "light"
     },
     "output_type": "display_data"
    }
   ],
   "source": [
    "data_LtoL = data[(data['p_throws'] == 'L') & (data['stand'] == 'L')]\n",
    "val_counts = pd.DataFrame(data_LtoL.pitch_type.value_counts())\n",
    "val_counts = val_counts.reset_index().sort_values('index')\n",
    "val_counts.plot(x = 'index', y = 'pitch_type', kind='bar')\n",
    " \n",
    "plt.title('L Handed Pitcher vs. L Handed Batter')\n",
    "plt.xlabel('Pitch Type')\n",
    "plt.ylabel('Counts')\n",
    "\n",
    "data_LtoR = data[(data['p_throws'] == 'L') & (data['stand'] == 'R')]\n",
    "val_counts1 = pd.DataFrame(data_LtoR.pitch_type.value_counts())\n",
    "val_counts1 = val_counts1.reset_index().sort_values('index')\n",
    "val_counts1.plot(x = 'index', y = 'pitch_type', kind='bar')\n",
    "\n",
    "plt.title('L Handed Pitcher vs. R Handed Batter')\n",
    "plt.xlabel('Pitch Type')\n",
    "plt.ylabel('Counts')\n",
    "plt.show()"
   ]
  },
  {
   "cell_type": "markdown",
   "metadata": {},
   "source": [
    "Not suprisingly, the reciprical is occuring with LH pitchers. This is due to the nature of how pitches move. A slider breaks down and away from a batter of the same orientation which is one of the more desired pitch locations to make a batter miss the ball. Changeups (CH) are again most frequent after fastballs (FF) when the batter is opposite hand of the pitcher."
   ]
  },
  {
   "cell_type": "markdown",
   "metadata": {},
   "source": [
    "'type' is a short hand general reference to the result of each pitch: \n",
    "\n",
    "- B = ball \n",
    "- S = strike \n",
    "- X = in play\n",
    "\n",
    "It won't make sense for us to use 'type' or 'bb_type' as predictors for the 'pitch_type' as these are post-pitch references."
   ]
  },
  {
   "cell_type": "code",
   "execution_count": 14,
   "metadata": {},
   "outputs": [
    {
     "data": {
      "text/plain": [
       "S    51879\n",
       "B    39570\n",
       "X    19166\n",
       "Name: type, dtype: int64"
      ]
     },
     "execution_count": 14,
     "metadata": {},
     "output_type": "execute_result"
    }
   ],
   "source": [
    "data['type'].value_counts()"
   ]
  },
  {
   "cell_type": "markdown",
   "metadata": {},
   "source": [
    "'bb_type' indicates the type of batted ball. 'bb_type' will have a value only when 'type' = X (in play)."
   ]
  },
  {
   "cell_type": "code",
   "execution_count": 15,
   "metadata": {},
   "outputs": [
    {
     "data": {
      "text/plain": [
       "ground_ball    8344\n",
       "line_drive     4802\n",
       "fly_ball       4631\n",
       "popup          1388\n",
       "Name: bb_type, dtype: int64"
      ]
     },
     "execution_count": 15,
     "metadata": {},
     "output_type": "execute_result"
    }
   ],
   "source": [
    "data['bb_type'].value_counts()"
   ]
  },
  {
   "cell_type": "code",
   "execution_count": 16,
   "metadata": {},
   "outputs": [],
   "source": [
    "data.drop(columns=['type', 'bb_type'], inplace=True)"
   ]
  },
  {
   "cell_type": "markdown",
   "metadata": {},
   "source": [
    "The last 3 object features indicate the inning and fielding alignment for the infield and outfield. "
   ]
  },
  {
   "cell_type": "code",
   "execution_count": 17,
   "metadata": {},
   "outputs": [
    {
     "data": {
      "text/plain": [
       "Top    56263\n",
       "Bot    54352\n",
       "Name: inning_topbot, dtype: int64"
      ]
     },
     "execution_count": 17,
     "metadata": {},
     "output_type": "execute_result"
    }
   ],
   "source": [
    "data['inning_topbot'].value_counts()"
   ]
  },
  {
   "cell_type": "markdown",
   "metadata": {},
   "source": [
    "It makes sense to see a smaller count of bottom innings since the bottom of the 9th inning is not played when the home team has more runs than the visiting team. Inning is explored further in the 'float64' features."
   ]
  },
  {
   "cell_type": "code",
   "execution_count": 18,
   "metadata": {},
   "outputs": [
    {
     "data": {
      "text/plain": [
       "Standard         71739\n",
       "Infield shift    28271\n",
       "Strategic        10592\n",
       "Name: if_fielding_alignment, dtype: int64"
      ]
     },
     "execution_count": 18,
     "metadata": {},
     "output_type": "execute_result"
    }
   ],
   "source": [
    "data['if_fielding_alignment'].value_counts()"
   ]
  },
  {
   "cell_type": "code",
   "execution_count": 19,
   "metadata": {},
   "outputs": [
    {
     "data": {
      "text/plain": [
       "Standard          99249\n",
       "Strategic         11267\n",
       "4th outfielder       86\n",
       "Name: of_fielding_alignment, dtype: int64"
      ]
     },
     "execution_count": 19,
     "metadata": {},
     "output_type": "execute_result"
    }
   ],
   "source": [
    "data['of_fielding_alignment'].value_counts()"
   ]
  },
  {
   "cell_type": "markdown",
   "metadata": {},
   "source": [
    "It's possible that pitchers are throwing certain pitch types depending on the alignment of the infield. We'll keep all of our object features for now except for 'game_date'. There may be justification later to drop additional object features."
   ]
  },
  {
   "cell_type": "markdown",
   "metadata": {},
   "source": [
    "### Feature Variables of type 'float64'"
   ]
  },
  {
   "cell_type": "markdown",
   "metadata": {},
   "source": [
    "Now we'll begin exploring variables of numeric type."
   ]
  },
  {
   "cell_type": "code",
   "execution_count": 20,
   "metadata": {},
   "outputs": [
    {
     "data": {
      "text/plain": [
       "Index(['release_speed', 'release_pos_x', 'release_pos_z', 'batter', 'pitcher',\n",
       "       'zone', 'hit_location', 'balls', 'strikes', 'pfx_x', 'pfx_z', 'plate_x',\n",
       "       'plate_z', 'on_3b', 'on_2b', 'on_1b', 'outs_when_up', 'inning', 'hc_x',\n",
       "       'hc_y', 'fielder_2', 'vx0', 'vy0', 'vz0', 'ax', 'ay', 'az', 'sz_top',\n",
       "       'sz_bot', 'hit_distance_sc', 'launch_speed', 'launch_angle',\n",
       "       'effective_speed', 'release_spin_rate', 'release_extension', 'game_pk',\n",
       "       'pitcher.1', 'fielder_2.1', 'release_pos_y', 'launch_speed_angle',\n",
       "       'at_bat_number', 'pitch_number', 'home_score', 'away_score',\n",
       "       'bat_score', 'fld_score', 'post_away_score', 'post_home_score',\n",
       "       'post_bat_score', 'post_fld_score'],\n",
       "      dtype='object')"
      ]
     },
     "execution_count": 20,
     "metadata": {},
     "output_type": "execute_result"
    }
   ],
   "source": [
    "data.select_dtypes('float64').columns"
   ]
  },
  {
   "cell_type": "markdown",
   "metadata": {},
   "source": [
    "One of two major benefits, and arguably the most valuable, in predicting pitch type is the knowledge of expected pitch speed. The other is ball movement and both are associated with pitch type. The data has reference to 2 speeds: release_speed and effective_speed. The release speed is measured by Statcast as the ball leaves the pitcher's hand, and the effective speed is a derived speed based on the extension of the pitcher's release."
   ]
  },
  {
   "cell_type": "code",
   "execution_count": 21,
   "metadata": {},
   "outputs": [
    {
     "data": {
      "text/html": [
       "<div>\n",
       "<style scoped>\n",
       "    .dataframe tbody tr th:only-of-type {\n",
       "        vertical-align: middle;\n",
       "    }\n",
       "\n",
       "    .dataframe tbody tr th {\n",
       "        vertical-align: top;\n",
       "    }\n",
       "\n",
       "    .dataframe thead th {\n",
       "        text-align: right;\n",
       "    }\n",
       "</style>\n",
       "<table border=\"1\" class=\"dataframe\">\n",
       "  <thead>\n",
       "    <tr style=\"text-align: right;\">\n",
       "      <th></th>\n",
       "      <th>release_speed</th>\n",
       "      <th>effective_speed</th>\n",
       "    </tr>\n",
       "  </thead>\n",
       "  <tbody>\n",
       "    <tr>\n",
       "      <th>count</th>\n",
       "      <td>110327.000000</td>\n",
       "      <td>110612.000000</td>\n",
       "    </tr>\n",
       "    <tr>\n",
       "      <th>mean</th>\n",
       "      <td>88.742331</td>\n",
       "      <td>88.233588</td>\n",
       "    </tr>\n",
       "    <tr>\n",
       "      <th>std</th>\n",
       "      <td>5.966305</td>\n",
       "      <td>7.743009</td>\n",
       "    </tr>\n",
       "    <tr>\n",
       "      <th>min</th>\n",
       "      <td>50.800000</td>\n",
       "      <td>0.000000</td>\n",
       "    </tr>\n",
       "    <tr>\n",
       "      <th>25%</th>\n",
       "      <td>84.500000</td>\n",
       "      <td>84.000000</td>\n",
       "    </tr>\n",
       "    <tr>\n",
       "      <th>50%</th>\n",
       "      <td>90.000000</td>\n",
       "      <td>89.700000</td>\n",
       "    </tr>\n",
       "    <tr>\n",
       "      <th>75%</th>\n",
       "      <td>93.500000</td>\n",
       "      <td>93.500000</td>\n",
       "    </tr>\n",
       "    <tr>\n",
       "      <th>max</th>\n",
       "      <td>102.300000</td>\n",
       "      <td>103.500000</td>\n",
       "    </tr>\n",
       "  </tbody>\n",
       "</table>\n",
       "</div>"
      ],
      "text/plain": [
       "       release_speed  effective_speed\n",
       "count  110327.000000    110612.000000\n",
       "mean       88.742331        88.233588\n",
       "std         5.966305         7.743009\n",
       "min        50.800000         0.000000\n",
       "25%        84.500000        84.000000\n",
       "50%        90.000000        89.700000\n",
       "75%        93.500000        93.500000\n",
       "max       102.300000       103.500000"
      ]
     },
     "execution_count": 21,
     "metadata": {},
     "output_type": "execute_result"
    }
   ],
   "source": [
    "data[['release_speed', 'effective_speed']].describe()"
   ]
  },
  {
   "cell_type": "code",
   "execution_count": 22,
   "metadata": {},
   "outputs": [
    {
     "data": {
      "text/plain": [
       "289"
      ]
     },
     "execution_count": 22,
     "metadata": {},
     "output_type": "execute_result"
    }
   ],
   "source": [
    "len(data['effective_speed'][data['effective_speed'] == 0])"
   ]
  },
  {
   "cell_type": "markdown",
   "metadata": {},
   "source": [
    "A minimum speed of 0.0 doesn't make sense. Effective speed stats are skewed by 289 zero values so we'll filter for speeds greater than 0."
   ]
  },
  {
   "cell_type": "code",
   "execution_count": 23,
   "metadata": {},
   "outputs": [
    {
     "data": {
      "text/plain": [
       "count    110323.000000\n",
       "mean         88.464723\n",
       "std           6.297918\n",
       "min          48.500000\n",
       "25%          84.000000\n",
       "50%          89.700000\n",
       "75%          93.500000\n",
       "max         103.500000\n",
       "Name: effective_speed, dtype: float64"
      ]
     },
     "execution_count": 23,
     "metadata": {},
     "output_type": "execute_result"
    }
   ],
   "source": [
    "data.loc[data['effective_speed'] > 0, 'effective_speed'].describe()"
   ]
  },
  {
   "cell_type": "markdown",
   "metadata": {},
   "source": [
    "We can see the release speed and effective speed are very close. Given the definitions of the two speeds, we'll focus on release_speed moving forward."
   ]
  },
  {
   "cell_type": "markdown",
   "metadata": {},
   "source": [
    "The plot below is a 2D representation of the catcher's view looking back at the pitcher's mound. Each plotted point represents the release point of a given pitch from the pitcher's hand. Remember that a right handed pitcher is facing the catcher, so their release points will appear on the left while the blue points are released from a left handed pitcher.\n",
    "\n",
    "Notice the small clusters on each side. These represent the release points of unconventional pitchers known as sidearm pitchers."
   ]
  },
  {
   "cell_type": "code",
   "execution_count": 24,
   "metadata": {},
   "outputs": [
    {
     "data": {
      "image/png": "[encoded data removed]",
      "text/plain": [
       "<Figure size 864x576 with 1 Axes>"
      ]
     },
     "metadata": {
      "needs_background": "light"
     },
     "output_type": "display_data"
    }
   ],
   "source": [
    "plt.figure(figsize = (12,8))\n",
    "sns.scatterplot(x='release_pos_x', y='release_pos_z', data=data, hue='p_throws', alpha=0.8)\n",
    "plt.title('Catcher\\'s View of Pitcher\\'s Release Position')\n",
    "plt.xlabel('Feet from Catcher\\'s Horizontal Center')\n",
    "plt.ylabel('Feet from Catcher\\'s Vertical Center');"
   ]
  },
  {
   "cell_type": "markdown",
   "metadata": {},
   "source": [
    "While this is interesting, we can't rely on the speed or position of the pitch to help determine 'pitch_type'. A 100 mph fastball will reach the plate in less than 500 milliseconds. This is obviously not enough time to identify the speed and position, predict the pitch, and communicate the prediction."
   ]
  },
  {
   "cell_type": "code",
   "execution_count": 25,
   "metadata": {},
   "outputs": [],
   "source": [
    "data.drop(columns=['release_pos_x', 'release_pos_z', 'effective_speed'], inplace=True)"
   ]
  },
  {
   "cell_type": "markdown",
   "metadata": {},
   "source": [
    "'batter', 'pitcher', 'on_1b', 'on_2b', 'on_3b', 'fielder_2', 'fielder_2.1', and 'pitcher.1' are all numerical identifiers so descriptive statistics are not meaningful. I suspect that 'fielder_2.1' and 'pitcher.1' are duplicates of 'fielder_2' and 'pitcher', so let's at least see what the stats look like for those:"
   ]
  },
  {
   "cell_type": "code",
   "execution_count": 26,
   "metadata": {},
   "outputs": [
    {
     "data": {
      "text/html": [
       "<div>\n",
       "<style scoped>\n",
       "    .dataframe tbody tr th:only-of-type {\n",
       "        vertical-align: middle;\n",
       "    }\n",
       "\n",
       "    .dataframe tbody tr th {\n",
       "        vertical-align: top;\n",
       "    }\n",
       "\n",
       "    .dataframe thead th {\n",
       "        text-align: right;\n",
       "    }\n",
       "</style>\n",
       "<table border=\"1\" class=\"dataframe\">\n",
       "  <thead>\n",
       "    <tr style=\"text-align: right;\">\n",
       "      <th></th>\n",
       "      <th>fielder_2</th>\n",
       "      <th>fielder_2.1</th>\n",
       "      <th>pitcher</th>\n",
       "      <th>pitcher.1</th>\n",
       "    </tr>\n",
       "  </thead>\n",
       "  <tbody>\n",
       "    <tr>\n",
       "      <th>count</th>\n",
       "      <td>110615.000000</td>\n",
       "      <td>110615.000000</td>\n",
       "      <td>110615.000000</td>\n",
       "      <td>110615.000000</td>\n",
       "    </tr>\n",
       "    <tr>\n",
       "      <th>mean</th>\n",
       "      <td>545935.081842</td>\n",
       "      <td>545935.081842</td>\n",
       "      <td>572594.659793</td>\n",
       "      <td>572594.659793</td>\n",
       "    </tr>\n",
       "    <tr>\n",
       "      <th>std</th>\n",
       "      <td>66114.784146</td>\n",
       "      <td>66114.784146</td>\n",
       "      <td>67262.753649</td>\n",
       "      <td>67262.753649</td>\n",
       "    </tr>\n",
       "    <tr>\n",
       "      <th>min</th>\n",
       "      <td>425772.000000</td>\n",
       "      <td>425772.000000</td>\n",
       "      <td>282332.000000</td>\n",
       "      <td>282332.000000</td>\n",
       "    </tr>\n",
       "    <tr>\n",
       "      <th>25%</th>\n",
       "      <td>488771.000000</td>\n",
       "      <td>488771.000000</td>\n",
       "      <td>519443.000000</td>\n",
       "      <td>519443.000000</td>\n",
       "    </tr>\n",
       "    <tr>\n",
       "      <th>50%</th>\n",
       "      <td>547172.000000</td>\n",
       "      <td>547172.000000</td>\n",
       "      <td>592858.000000</td>\n",
       "      <td>592858.000000</td>\n",
       "    </tr>\n",
       "    <tr>\n",
       "      <th>75%</th>\n",
       "      <td>595978.000000</td>\n",
       "      <td>595978.000000</td>\n",
       "      <td>621366.000000</td>\n",
       "      <td>621366.000000</td>\n",
       "    </tr>\n",
       "    <tr>\n",
       "      <th>max</th>\n",
       "      <td>669257.000000</td>\n",
       "      <td>669257.000000</td>\n",
       "      <td>673633.000000</td>\n",
       "      <td>673633.000000</td>\n",
       "    </tr>\n",
       "  </tbody>\n",
       "</table>\n",
       "</div>"
      ],
      "text/plain": [
       "           fielder_2    fielder_2.1        pitcher      pitcher.1\n",
       "count  110615.000000  110615.000000  110615.000000  110615.000000\n",
       "mean   545935.081842  545935.081842  572594.659793  572594.659793\n",
       "std     66114.784146   66114.784146   67262.753649   67262.753649\n",
       "min    425772.000000  425772.000000  282332.000000  282332.000000\n",
       "25%    488771.000000  488771.000000  519443.000000  519443.000000\n",
       "50%    547172.000000  547172.000000  592858.000000  592858.000000\n",
       "75%    595978.000000  595978.000000  621366.000000  621366.000000\n",
       "max    669257.000000  669257.000000  673633.000000  673633.000000"
      ]
     },
     "execution_count": 26,
     "metadata": {},
     "output_type": "execute_result"
    }
   ],
   "source": [
    "data[['fielder_2', 'fielder_2.1', 'pitcher', 'pitcher.1']].describe()"
   ]
  },
  {
   "cell_type": "markdown",
   "metadata": {},
   "source": [
    "Confirmed! The fields have identical descriptive statistics and can be considered duplicate columns. 'pitch_name' is also a repetitive, long-hand reference to 'pitch_type' so we'll drop that as well. "
   ]
  },
  {
   "cell_type": "code",
   "execution_count": 27,
   "metadata": {},
   "outputs": [],
   "source": [
    "data.drop(columns=['fielder_2.1', 'pitcher.1', 'pitch_name'], inplace=True)"
   ]
  },
  {
   "cell_type": "markdown",
   "metadata": {},
   "source": [
    "The count of balls, strikes, and outs are fundamental metrics in baseball. For any given pitch, there should be a maximum of 3 balls, 2 strikes, and 2 outs. When a pitch results in a 4th ball, 3rd strike, or 3rd out, the batter changes and the pitch count will reset. We don't see those counts in the data because it is pre-pitch data that we're working with, as desired."
   ]
  },
  {
   "cell_type": "code",
   "execution_count": 28,
   "metadata": {},
   "outputs": [
    {
     "data": {
      "text/html": [
       "<div>\n",
       "<style scoped>\n",
       "    .dataframe tbody tr th:only-of-type {\n",
       "        vertical-align: middle;\n",
       "    }\n",
       "\n",
       "    .dataframe tbody tr th {\n",
       "        vertical-align: top;\n",
       "    }\n",
       "\n",
       "    .dataframe thead th {\n",
       "        text-align: right;\n",
       "    }\n",
       "</style>\n",
       "<table border=\"1\" class=\"dataframe\">\n",
       "  <thead>\n",
       "    <tr style=\"text-align: right;\">\n",
       "      <th></th>\n",
       "      <th>balls</th>\n",
       "      <th>strikes</th>\n",
       "      <th>outs_when_up</th>\n",
       "    </tr>\n",
       "  </thead>\n",
       "  <tbody>\n",
       "    <tr>\n",
       "      <th>count</th>\n",
       "      <td>110615.000000</td>\n",
       "      <td>110615.000000</td>\n",
       "      <td>110615.000000</td>\n",
       "    </tr>\n",
       "    <tr>\n",
       "      <th>mean</th>\n",
       "      <td>0.882602</td>\n",
       "      <td>0.901894</td>\n",
       "      <td>0.978782</td>\n",
       "    </tr>\n",
       "    <tr>\n",
       "      <th>std</th>\n",
       "      <td>0.968063</td>\n",
       "      <td>0.828099</td>\n",
       "      <td>0.817827</td>\n",
       "    </tr>\n",
       "    <tr>\n",
       "      <th>min</th>\n",
       "      <td>0.000000</td>\n",
       "      <td>0.000000</td>\n",
       "      <td>0.000000</td>\n",
       "    </tr>\n",
       "    <tr>\n",
       "      <th>25%</th>\n",
       "      <td>0.000000</td>\n",
       "      <td>0.000000</td>\n",
       "      <td>0.000000</td>\n",
       "    </tr>\n",
       "    <tr>\n",
       "      <th>50%</th>\n",
       "      <td>1.000000</td>\n",
       "      <td>1.000000</td>\n",
       "      <td>1.000000</td>\n",
       "    </tr>\n",
       "    <tr>\n",
       "      <th>75%</th>\n",
       "      <td>2.000000</td>\n",
       "      <td>2.000000</td>\n",
       "      <td>2.000000</td>\n",
       "    </tr>\n",
       "    <tr>\n",
       "      <th>max</th>\n",
       "      <td>3.000000</td>\n",
       "      <td>2.000000</td>\n",
       "      <td>2.000000</td>\n",
       "    </tr>\n",
       "  </tbody>\n",
       "</table>\n",
       "</div>"
      ],
      "text/plain": [
       "               balls        strikes   outs_when_up\n",
       "count  110615.000000  110615.000000  110615.000000\n",
       "mean        0.882602       0.901894       0.978782\n",
       "std         0.968063       0.828099       0.817827\n",
       "min         0.000000       0.000000       0.000000\n",
       "25%         0.000000       0.000000       0.000000\n",
       "50%         1.000000       1.000000       1.000000\n",
       "75%         2.000000       2.000000       2.000000\n",
       "max         3.000000       2.000000       2.000000"
      ]
     },
     "execution_count": 28,
     "metadata": {},
     "output_type": "execute_result"
    }
   ],
   "source": [
    "data[['balls', 'strikes', 'outs_when_up']].describe()"
   ]
  },
  {
   "cell_type": "code",
   "execution_count": 29,
   "metadata": {},
   "outputs": [
    {
     "data": {
      "text/plain": [
       "balls           0\n",
       "strikes         0\n",
       "outs_when_up    0\n",
       "dtype: int64"
      ]
     },
     "execution_count": 29,
     "metadata": {},
     "output_type": "execute_result"
    }
   ],
   "source": [
    "data[['balls', 'strikes', 'outs_when_up']].isnull().sum()"
   ]
  },
  {
   "cell_type": "markdown",
   "metadata": {},
   "source": [
    "These features appear as expected and do not have any null values to address. **What does the pitch type distribution look like for a variety of these features?** We'll answer this question after we transform the data accordingly."
   ]
  },
  {
   "cell_type": "markdown",
   "metadata": {},
   "source": [
    "The 'hit_location' is an integer value (1-9) for the position player that first touches the hit ball. 'zone', 'pfx_x', 'pfx_z', 'plate_x', 'plate_z', 'hc_x', 'hc_y', 'vx0', 'vy0', 'vz0', 'ax', 'ay', 'az', 'sz_top', 'sz_bot', 'hit_distance_sc', 'launch_speed', 'launch_angle', 'release_spin_rate', 'release_extension', 'release_pos_y', 'launch_speed_angle' are all movement, position, or velocity references to the pitch or hit ball. While some of these features will certainly help predict pitch type, it wouldn't be practical for our use as the pitch has to occur in order to gather this information. Our aim is to predict 'pitch_type' with only the information we have before a pitch is thrown.  "
   ]
  },
  {
   "cell_type": "code",
   "execution_count": 30,
   "metadata": {},
   "outputs": [],
   "source": [
    "data.drop(columns=['hit_location', 'zone', 'pfx_x', 'pfx_z', 'plate_x', 'plate_z', 'hc_x', 'hc_y', 'vx0', 'vy0', 'vz0', \n",
    "                   'ax', 'ay', 'az', 'sz_top', 'sz_bot', 'hit_distance_sc', 'launch_speed', 'launch_angle', \n",
    "                   'release_spin_rate', 'release_extension', 'release_pos_y', 'launch_speed_angle'], inplace=True)"
   ]
  },
  {
   "cell_type": "markdown",
   "metadata": {},
   "source": [
    "Baseball games are played over 9 innings. Each inning has a top and a bottom, indicated in this data by 'inning_topbot'. As mentioned, the bottom of the 9th inning is not always played. The max of 'inning' is greater than 9 because extra innings are played when teams are tied after 9 full innings. Play continues until one of the teams is leading after the bottom of an extra inning. "
   ]
  },
  {
   "cell_type": "code",
   "execution_count": 31,
   "metadata": {},
   "outputs": [
    {
     "data": {
      "text/plain": [
       "count    110615.000000\n",
       "mean          5.052850\n",
       "std           2.707358\n",
       "min           1.000000\n",
       "25%           3.000000\n",
       "50%           5.000000\n",
       "75%           7.000000\n",
       "max          16.000000\n",
       "Name: inning, dtype: float64"
      ]
     },
     "execution_count": 31,
     "metadata": {},
     "output_type": "execute_result"
    }
   ],
   "source": [
    "data['inning'].describe()"
   ]
  },
  {
   "cell_type": "code",
   "execution_count": 32,
   "metadata": {},
   "outputs": [
    {
     "data": {
      "text/plain": [
       "0"
      ]
     },
     "execution_count": 32,
     "metadata": {},
     "output_type": "execute_result"
    }
   ],
   "source": [
    "data['inning'].isnull().sum()"
   ]
  },
  {
   "cell_type": "markdown",
   "metadata": {},
   "source": [
    "'game_pk', 'at_bat_number', and 'pitch_number' are indicators used to differentiate between games, batters, and pitches. They will be very useful in creating pitch sequences for a given at-bat within a specific game. We can also use them to calculate some interesting stats such as the average count of at-bats in a game, or the average count of pitches per at-bat."
   ]
  },
  {
   "cell_type": "code",
   "execution_count": 33,
   "metadata": {},
   "outputs": [
    {
     "data": {
      "text/html": [
       "<div>\n",
       "<style scoped>\n",
       "    .dataframe tbody tr th:only-of-type {\n",
       "        vertical-align: middle;\n",
       "    }\n",
       "\n",
       "    .dataframe tbody tr th {\n",
       "        vertical-align: top;\n",
       "    }\n",
       "\n",
       "    .dataframe thead th {\n",
       "        text-align: right;\n",
       "    }\n",
       "</style>\n",
       "<table border=\"1\" class=\"dataframe\">\n",
       "  <thead>\n",
       "    <tr style=\"text-align: right;\">\n",
       "      <th></th>\n",
       "      <th>game_pk</th>\n",
       "      <th>at_bat_number</th>\n",
       "      <th>pitch_number</th>\n",
       "    </tr>\n",
       "  </thead>\n",
       "  <tbody>\n",
       "    <tr>\n",
       "      <th>count</th>\n",
       "      <td>110615.000000</td>\n",
       "      <td>110615.000000</td>\n",
       "      <td>110615.000000</td>\n",
       "    </tr>\n",
       "    <tr>\n",
       "      <th>mean</th>\n",
       "      <td>566202.750893</td>\n",
       "      <td>39.697889</td>\n",
       "      <td>2.924287</td>\n",
       "    </tr>\n",
       "    <tr>\n",
       "      <th>std</th>\n",
       "      <td>834.508178</td>\n",
       "      <td>23.584122</td>\n",
       "      <td>1.747854</td>\n",
       "    </tr>\n",
       "    <tr>\n",
       "      <th>min</th>\n",
       "      <td>564777.000000</td>\n",
       "      <td>1.000000</td>\n",
       "      <td>1.000000</td>\n",
       "    </tr>\n",
       "    <tr>\n",
       "      <th>25%</th>\n",
       "      <td>565463.000000</td>\n",
       "      <td>19.000000</td>\n",
       "      <td>1.000000</td>\n",
       "    </tr>\n",
       "    <tr>\n",
       "      <th>50%</th>\n",
       "      <td>566218.000000</td>\n",
       "      <td>39.000000</td>\n",
       "      <td>3.000000</td>\n",
       "    </tr>\n",
       "    <tr>\n",
       "      <th>75%</th>\n",
       "      <td>566913.000000</td>\n",
       "      <td>59.000000</td>\n",
       "      <td>4.000000</td>\n",
       "    </tr>\n",
       "    <tr>\n",
       "      <th>max</th>\n",
       "      <td>567608.000000</td>\n",
       "      <td>139.000000</td>\n",
       "      <td>13.000000</td>\n",
       "    </tr>\n",
       "  </tbody>\n",
       "</table>\n",
       "</div>"
      ],
      "text/plain": [
       "             game_pk  at_bat_number   pitch_number\n",
       "count  110615.000000  110615.000000  110615.000000\n",
       "mean   566202.750893      39.697889       2.924287\n",
       "std       834.508178      23.584122       1.747854\n",
       "min    564777.000000       1.000000       1.000000\n",
       "25%    565463.000000      19.000000       1.000000\n",
       "50%    566218.000000      39.000000       3.000000\n",
       "75%    566913.000000      59.000000       4.000000\n",
       "max    567608.000000     139.000000      13.000000"
      ]
     },
     "execution_count": 33,
     "metadata": {},
     "output_type": "execute_result"
    }
   ],
   "source": [
    "data[['game_pk', 'at_bat_number', 'pitch_number']].describe()"
   ]
  },
  {
   "cell_type": "markdown",
   "metadata": {},
   "source": [
    "'game_pk' is a primary key while 'at_bat_number' and 'pitch_number' are counts. \n",
    "\n",
    "**What is the average number of at-bats per game?**"
   ]
  },
  {
   "cell_type": "code",
   "execution_count": 34,
   "metadata": {},
   "outputs": [
    {
     "data": {
      "text/plain": [
       "77.42896174863388"
      ]
     },
     "execution_count": 34,
     "metadata": {},
     "output_type": "execute_result"
    }
   ],
   "source": [
    "data.groupby('game_pk')['at_bat_number'].agg(max).mean()"
   ]
  },
  {
   "cell_type": "markdown",
   "metadata": {},
   "source": [
    "**What is the minimum number of at-bats in any of the games?**\n",
    "\n",
    "Note that each team gets a minimum of 3 batters per inning, over 9 innings, for a total of 27 at-bats. We can calculate the minimum allowed by multiplying this by 2 and assuming the very last batter hits a homerun to win the game. This results in 54 at-bats as the absolute lowest possible number in a game of baseball."
   ]
  },
  {
   "cell_type": "code",
   "execution_count": 35,
   "metadata": {},
   "outputs": [
    {
     "data": {
      "text/plain": [
       "60.0"
      ]
     },
     "execution_count": 35,
     "metadata": {},
     "output_type": "execute_result"
    }
   ],
   "source": [
    "data.groupby('game_pk')['at_bat_number'].agg(max).min()"
   ]
  },
  {
   "cell_type": "markdown",
   "metadata": {},
   "source": [
    "Pretty close. This game wasn't very exciting for offense as only a handful of players got on base in this game."
   ]
  },
  {
   "cell_type": "markdown",
   "metadata": {},
   "source": [
    "**What is the average number of pitches per at-bat?**\n"
   ]
  },
  {
   "cell_type": "code",
   "execution_count": 36,
   "metadata": {},
   "outputs": [
    {
     "data": {
      "text/plain": [
       "3.9148823217129713"
      ]
     },
     "execution_count": 36,
     "metadata": {},
     "output_type": "execute_result"
    }
   ],
   "source": [
    "data.groupby(['game_pk', 'at_bat_number'])['pitch_number'].agg(max).mean()"
   ]
  },
  {
   "cell_type": "markdown",
   "metadata": {},
   "source": [
    "Finally, we know that the last 4 object categories starting with 'post_' are post-pitch references and again do not align \n",
    "with our intentions."
   ]
  },
  {
   "cell_type": "code",
   "execution_count": 37,
   "metadata": {},
   "outputs": [],
   "source": [
    "data.drop(columns=['post_away_score', 'post_home_score', 'post_bat_score', 'post_fld_score'], inplace=True)"
   ]
  },
  {
   "cell_type": "code",
   "execution_count": 38,
   "metadata": {},
   "outputs": [
    {
     "data": {
      "text/plain": [
       "Index(['release_speed', 'batter', 'pitcher', 'balls', 'strikes', 'on_3b',\n",
       "       'on_2b', 'on_1b', 'outs_when_up', 'inning', 'fielder_2', 'game_pk',\n",
       "       'at_bat_number', 'pitch_number', 'home_score', 'away_score',\n",
       "       'bat_score', 'fld_score'],\n",
       "      dtype='object')"
      ]
     },
     "execution_count": 38,
     "metadata": {},
     "output_type": "execute_result"
    }
   ],
   "source": [
    "data.select_dtypes('float64').columns"
   ]
  },
  {
   "cell_type": "code",
   "execution_count": 39,
   "metadata": {},
   "outputs": [
    {
     "name": "stdout",
     "output_type": "stream",
     "text": [
      "Index(['pitch_type', 'release_speed', 'batter', 'pitcher', 'stand', 'p_throws',\n",
      "       'balls', 'strikes', 'on_3b', 'on_2b', 'on_1b', 'outs_when_up', 'inning',\n",
      "       'inning_topbot', 'fielder_2', 'game_pk', 'at_bat_number',\n",
      "       'pitch_number', 'home_score', 'away_score', 'bat_score', 'fld_score',\n",
      "       'if_fielding_alignment', 'of_fielding_alignment'],\n",
      "      dtype='object')\n"
     ]
    },
    {
     "data": {
      "text/plain": [
       "24"
      ]
     },
     "execution_count": 39,
     "metadata": {},
     "output_type": "execute_result"
    }
   ],
   "source": [
    "print(data.columns)\n",
    "len(data.columns)"
   ]
  },
  {
   "cell_type": "markdown",
   "metadata": {},
   "source": [
    "We know have less than 30 features plus our target feature. Let's dive into our target feature, 'pitch_type'. We'll see what we can discover within and how 'pitch_type' relates to some other features."
   ]
  },
  {
   "cell_type": "markdown",
   "metadata": {},
   "source": [
    "### Target Variable: pitch_type"
   ]
  },
  {
   "cell_type": "markdown",
   "metadata": {},
   "source": [
    "We start by exploring our target feature, 'pitch_type'. Pitch type is defined as the type of pitch derived from Statcast. It is possible that the Statcast system occasionally misclassifies a pitch type but we may not have a way to determine if and when this happens. The statcast pitch type abbreviations are associated with the following pitch types:\n",
    "\n",
    "- Changeup (CH)\n",
    "- Curveball (CU)\n",
    "- Cutter (FC)\n",
    "- Eephus (EP)\n",
    "- Forkball (FO)\n",
    "- Four-Seam Fastball (FF)\n",
    "- Knuckleball (KN)\n",
    "- Knuckle-curve (KC)\n",
    "- Screwball (SC)\n",
    "- Sinker (SI)\n",
    "- Slider (SL)\n",
    "- Splitter (FS)\n",
    "- Two-Seam Fastball (FT)"
   ]
  },
  {
   "cell_type": "code",
   "execution_count": 40,
   "metadata": {},
   "outputs": [
    {
     "data": {
      "text/plain": [
       "array(['SI', 'SL', 'FF', 'CH', 'FS', 'FC', 'FT', 'EP', 'CU', 'KC', nan,\n",
       "       'FO', 'KN'], dtype=object)"
      ]
     },
     "execution_count": 40,
     "metadata": {},
     "output_type": "execute_result"
    }
   ],
   "source": [
    "data['pitch_type'].unique()"
   ]
  },
  {
   "cell_type": "markdown",
   "metadata": {},
   "source": [
    "Every pitch type except SC (screwball) is represented in the data. This is not surprising given the difficulty of throwing this pitch. In fact, New York Daily News reports no one has thrown a SC in 2019 as of 7/21/19. Our data is from July 2019."
   ]
  },
  {
   "cell_type": "code",
   "execution_count": 41,
   "metadata": {},
   "outputs": [
    {
     "data": {
      "text/plain": [
       "301"
      ]
     },
     "execution_count": 41,
     "metadata": {},
     "output_type": "execute_result"
    }
   ],
   "source": [
    "data['pitch_type'].isnull().sum()"
   ]
  },
  {
   "cell_type": "code",
   "execution_count": 42,
   "metadata": {},
   "outputs": [
    {
     "data": {
      "image/png": "[encoded data removed]",
      "text/plain": [
       "<Figure size 432x288 with 1 Axes>"
      ]
     },
     "metadata": {
      "needs_background": "light"
     },
     "output_type": "display_data"
    }
   ],
   "source": [
    "data.pitch_type.value_counts().plot(kind='bar')\n",
    "plt.title('Pitch Type Distribution')\n",
    "plt.xlabel('Pitch Type')\n",
    "plt.ylabel('Count');"
   ]
  },
  {
   "cell_type": "markdown",
   "metadata": {},
   "source": [
    "FF is the most frequent pitch type with 36.3% of all pitches. SL and CH are the only other types with more than 10% at 17.8% and 11.2% respectively. FT and FF are both fastballs and combine for 45% of all pitches. This will be useful in testing our model as we can compare it to simply guessing fastball for every pitch."
   ]
  },
  {
   "cell_type": "code",
   "execution_count": 43,
   "metadata": {},
   "outputs": [
    {
     "data": {
      "text/html": [
       "<div>\n",
       "<style scoped>\n",
       "    .dataframe tbody tr th:only-of-type {\n",
       "        vertical-align: middle;\n",
       "    }\n",
       "\n",
       "    .dataframe tbody tr th {\n",
       "        vertical-align: top;\n",
       "    }\n",
       "\n",
       "    .dataframe thead th {\n",
       "        text-align: right;\n",
       "    }\n",
       "</style>\n",
       "<table border=\"1\" class=\"dataframe\">\n",
       "  <thead>\n",
       "    <tr style=\"text-align: right;\">\n",
       "      <th></th>\n",
       "      <th>%</th>\n",
       "      <th>count</th>\n",
       "    </tr>\n",
       "  </thead>\n",
       "  <tbody>\n",
       "    <tr>\n",
       "      <th>FF</th>\n",
       "      <td>36.3</td>\n",
       "      <td>40020</td>\n",
       "    </tr>\n",
       "    <tr>\n",
       "      <th>SL</th>\n",
       "      <td>17.8</td>\n",
       "      <td>19666</td>\n",
       "    </tr>\n",
       "    <tr>\n",
       "      <th>CH</th>\n",
       "      <td>11.2</td>\n",
       "      <td>12350</td>\n",
       "    </tr>\n",
       "    <tr>\n",
       "      <th>FT</th>\n",
       "      <td>8.7</td>\n",
       "      <td>9638</td>\n",
       "    </tr>\n",
       "    <tr>\n",
       "      <th>CU</th>\n",
       "      <td>8.3</td>\n",
       "      <td>9160</td>\n",
       "    </tr>\n",
       "    <tr>\n",
       "      <th>SI</th>\n",
       "      <td>7.4</td>\n",
       "      <td>8181</td>\n",
       "    </tr>\n",
       "    <tr>\n",
       "      <th>FC</th>\n",
       "      <td>6.5</td>\n",
       "      <td>7153</td>\n",
       "    </tr>\n",
       "    <tr>\n",
       "      <th>KC</th>\n",
       "      <td>2.3</td>\n",
       "      <td>2586</td>\n",
       "    </tr>\n",
       "    <tr>\n",
       "      <th>FS</th>\n",
       "      <td>1.3</td>\n",
       "      <td>1480</td>\n",
       "    </tr>\n",
       "    <tr>\n",
       "      <th>KN</th>\n",
       "      <td>0.0</td>\n",
       "      <td>50</td>\n",
       "    </tr>\n",
       "    <tr>\n",
       "      <th>FO</th>\n",
       "      <td>0.0</td>\n",
       "      <td>25</td>\n",
       "    </tr>\n",
       "    <tr>\n",
       "      <th>EP</th>\n",
       "      <td>0.0</td>\n",
       "      <td>5</td>\n",
       "    </tr>\n",
       "  </tbody>\n",
       "</table>\n",
       "</div>"
      ],
      "text/plain": [
       "       %  count\n",
       "FF  36.3  40020\n",
       "SL  17.8  19666\n",
       "CH  11.2  12350\n",
       "FT   8.7   9638\n",
       "CU   8.3   9160\n",
       "SI   7.4   8181\n",
       "FC   6.5   7153\n",
       "KC   2.3   2586\n",
       "FS   1.3   1480\n",
       "KN   0.0     50\n",
       "FO   0.0     25\n",
       "EP   0.0      5"
      ]
     },
     "execution_count": 43,
     "metadata": {},
     "output_type": "execute_result"
    }
   ],
   "source": [
    "pitch_counts = pd.concat([100 * data['pitch_type'].value_counts(normalize=True).round(3), \n",
    "                          data['pitch_type'].value_counts()], axis=1)\n",
    "pitch_counts.columns = ['%', 'count']\n",
    "pitch_counts"
   ]
  },
  {
   "cell_type": "markdown",
   "metadata": {},
   "source": [
    "KN, FO, and EP have exceptionally low counts. This is expected as these 3 types of pitches are very difficult to throw and are rarely seen in MLB. Let's take a look at the pitchers that are capable of these pitches."
   ]
  },
  {
   "cell_type": "code",
   "execution_count": 44,
   "metadata": {},
   "outputs": [
    {
     "data": {
      "text/plain": [
       "array([453214.])"
      ]
     },
     "execution_count": 44,
     "metadata": {},
     "output_type": "execute_result"
    }
   ],
   "source": [
    "data.loc[data['pitch_type'] == 'KN', 'pitcher'].unique()"
   ]
  },
  {
   "cell_type": "code",
   "execution_count": 45,
   "metadata": {},
   "outputs": [
    {
     "data": {
      "text/plain": [
       "array([571539.])"
      ]
     },
     "execution_count": 45,
     "metadata": {},
     "output_type": "execute_result"
    }
   ],
   "source": [
    "data.loc[data['pitch_type'] == 'FO', 'pitcher'].unique()"
   ]
  },
  {
   "cell_type": "code",
   "execution_count": 46,
   "metadata": {},
   "outputs": [
    {
     "data": {
      "text/plain": [
       "array([425844., 506433.])"
      ]
     },
     "execution_count": 46,
     "metadata": {},
     "output_type": "execute_result"
    }
   ],
   "source": [
    "data.loc[data['pitch_type'] == 'EP', 'pitcher'].unique()"
   ]
  },
  {
   "cell_type": "markdown",
   "metadata": {},
   "source": [
    "One pitcher is responsible for each of the two types KN and FO. Somewhat unexpectedly given a count of 5, the EP pitch type was thrown by 2 different pitchers. The EP (eephus) is an extremely slow pitch that is usually thrown in jest or as an attempt to aggitate your opponent."
   ]
  },
  {
   "cell_type": "markdown",
   "metadata": {},
   "source": [
    "## Data Transformation \n",
    "We need to transform our data so we can get a sense of the sequences of pitch types a batter will see. Let's start with a subset of the data containing at least our indicator features and pitch type."
   ]
  },
  {
   "cell_type": "code",
   "execution_count": 47,
   "metadata": {},
   "outputs": [
    {
     "data": {
      "text/html": [
       "<div>\n",
       "<style scoped>\n",
       "    .dataframe tbody tr th:only-of-type {\n",
       "        vertical-align: middle;\n",
       "    }\n",
       "\n",
       "    .dataframe tbody tr th {\n",
       "        vertical-align: top;\n",
       "    }\n",
       "\n",
       "    .dataframe thead th {\n",
       "        text-align: right;\n",
       "    }\n",
       "</style>\n",
       "<table border=\"1\" class=\"dataframe\">\n",
       "  <thead>\n",
       "    <tr style=\"text-align: right;\">\n",
       "      <th></th>\n",
       "      <th>game_pk</th>\n",
       "      <th>at_bat_number</th>\n",
       "      <th>pitch_number</th>\n",
       "      <th>pitch_type</th>\n",
       "      <th>balls</th>\n",
       "      <th>strikes</th>\n",
       "      <th>outs_when_up</th>\n",
       "      <th>inning</th>\n",
       "      <th>on_1b</th>\n",
       "      <th>on_2b</th>\n",
       "      <th>on_3b</th>\n",
       "    </tr>\n",
       "    <tr>\n",
       "      <th>index</th>\n",
       "      <th></th>\n",
       "      <th></th>\n",
       "      <th></th>\n",
       "      <th></th>\n",
       "      <th></th>\n",
       "      <th></th>\n",
       "      <th></th>\n",
       "      <th></th>\n",
       "      <th></th>\n",
       "      <th></th>\n",
       "      <th></th>\n",
       "    </tr>\n",
       "  </thead>\n",
       "  <tbody>\n",
       "    <tr>\n",
       "      <th>1778</th>\n",
       "      <td>567514.0</td>\n",
       "      <td>77.0</td>\n",
       "      <td>3.0</td>\n",
       "      <td>SI</td>\n",
       "      <td>0.0</td>\n",
       "      <td>2.0</td>\n",
       "      <td>2.0</td>\n",
       "      <td>9.0</td>\n",
       "      <td>572233.0</td>\n",
       "      <td>444482.0</td>\n",
       "      <td>NaN</td>\n",
       "    </tr>\n",
       "    <tr>\n",
       "      <th>1839</th>\n",
       "      <td>567514.0</td>\n",
       "      <td>77.0</td>\n",
       "      <td>2.0</td>\n",
       "      <td>SL</td>\n",
       "      <td>0.0</td>\n",
       "      <td>1.0</td>\n",
       "      <td>2.0</td>\n",
       "      <td>9.0</td>\n",
       "      <td>572233.0</td>\n",
       "      <td>444482.0</td>\n",
       "      <td>NaN</td>\n",
       "    </tr>\n",
       "    <tr>\n",
       "      <th>1867</th>\n",
       "      <td>567514.0</td>\n",
       "      <td>77.0</td>\n",
       "      <td>1.0</td>\n",
       "      <td>SL</td>\n",
       "      <td>0.0</td>\n",
       "      <td>0.0</td>\n",
       "      <td>2.0</td>\n",
       "      <td>9.0</td>\n",
       "      <td>572233.0</td>\n",
       "      <td>444482.0</td>\n",
       "      <td>NaN</td>\n",
       "    </tr>\n",
       "    <tr>\n",
       "      <th>1932</th>\n",
       "      <td>567514.0</td>\n",
       "      <td>76.0</td>\n",
       "      <td>4.0</td>\n",
       "      <td>FF</td>\n",
       "      <td>3.0</td>\n",
       "      <td>0.0</td>\n",
       "      <td>2.0</td>\n",
       "      <td>9.0</td>\n",
       "      <td>NaN</td>\n",
       "      <td>444482.0</td>\n",
       "      <td>NaN</td>\n",
       "    </tr>\n",
       "    <tr>\n",
       "      <th>1956</th>\n",
       "      <td>567514.0</td>\n",
       "      <td>76.0</td>\n",
       "      <td>3.0</td>\n",
       "      <td>FF</td>\n",
       "      <td>2.0</td>\n",
       "      <td>0.0</td>\n",
       "      <td>2.0</td>\n",
       "      <td>9.0</td>\n",
       "      <td>NaN</td>\n",
       "      <td>444482.0</td>\n",
       "      <td>NaN</td>\n",
       "    </tr>\n",
       "  </tbody>\n",
       "</table>\n",
       "</div>"
      ],
      "text/plain": [
       "        game_pk  at_bat_number  pitch_number pitch_type  balls  strikes  \\\n",
       "index                                                                     \n",
       "1778   567514.0           77.0           3.0         SI    0.0      2.0   \n",
       "1839   567514.0           77.0           2.0         SL    0.0      1.0   \n",
       "1867   567514.0           77.0           1.0         SL    0.0      0.0   \n",
       "1932   567514.0           76.0           4.0         FF    3.0      0.0   \n",
       "1956   567514.0           76.0           3.0         FF    2.0      0.0   \n",
       "\n",
       "       outs_when_up  inning     on_1b     on_2b  on_3b  \n",
       "index                                                   \n",
       "1778            2.0     9.0  572233.0  444482.0    NaN  \n",
       "1839            2.0     9.0  572233.0  444482.0    NaN  \n",
       "1867            2.0     9.0  572233.0  444482.0    NaN  \n",
       "1932            2.0     9.0       NaN  444482.0    NaN  \n",
       "1956            2.0     9.0       NaN  444482.0    NaN  "
      ]
     },
     "execution_count": 47,
     "metadata": {},
     "output_type": "execute_result"
    }
   ],
   "source": [
    "basics = data[['game_pk', 'at_bat_number', 'pitch_number', 'pitch_type', 'balls', 'strikes', 'outs_when_up', 'inning', \n",
    "               'on_1b', 'on_2b', 'on_3b']]\n",
    "basics.head()"
   ]
  },
  {
   "cell_type": "markdown",
   "metadata": {},
   "source": [
    "Now we need to pivot the data so that there is a sequence of pitch types for each at-bat within a given game."
   ]
  },
  {
   "cell_type": "code",
   "execution_count": 48,
   "metadata": {},
   "outputs": [],
   "source": [
    "pitches = pd.pivot(basics, index=['game_pk', 'at_bat_number'], columns='pitch_number', values='pitch_type')"
   ]
  },
  {
   "cell_type": "code",
   "execution_count": 49,
   "metadata": {},
   "outputs": [
    {
     "data": {
      "text/html": [
       "<div>\n",
       "<style scoped>\n",
       "    .dataframe tbody tr th:only-of-type {\n",
       "        vertical-align: middle;\n",
       "    }\n",
       "\n",
       "    .dataframe tbody tr th {\n",
       "        vertical-align: top;\n",
       "    }\n",
       "\n",
       "    .dataframe thead th {\n",
       "        text-align: right;\n",
       "    }\n",
       "</style>\n",
       "<table border=\"1\" class=\"dataframe\">\n",
       "  <thead>\n",
       "    <tr style=\"text-align: right;\">\n",
       "      <th></th>\n",
       "      <th>pitch_number</th>\n",
       "      <th>1.0</th>\n",
       "      <th>2.0</th>\n",
       "      <th>3.0</th>\n",
       "      <th>4.0</th>\n",
       "      <th>5.0</th>\n",
       "      <th>6.0</th>\n",
       "      <th>7.0</th>\n",
       "      <th>8.0</th>\n",
       "      <th>9.0</th>\n",
       "      <th>10.0</th>\n",
       "      <th>11.0</th>\n",
       "      <th>12.0</th>\n",
       "      <th>13.0</th>\n",
       "    </tr>\n",
       "    <tr>\n",
       "      <th>game_pk</th>\n",
       "      <th>at_bat_number</th>\n",
       "      <th></th>\n",
       "      <th></th>\n",
       "      <th></th>\n",
       "      <th></th>\n",
       "      <th></th>\n",
       "      <th></th>\n",
       "      <th></th>\n",
       "      <th></th>\n",
       "      <th></th>\n",
       "      <th></th>\n",
       "      <th></th>\n",
       "      <th></th>\n",
       "      <th></th>\n",
       "    </tr>\n",
       "  </thead>\n",
       "  <tbody>\n",
       "    <tr>\n",
       "      <th rowspan=\"5\" valign=\"top\">564777.0</th>\n",
       "      <th>1.0</th>\n",
       "      <td>CH</td>\n",
       "      <td>CH</td>\n",
       "      <td>CH</td>\n",
       "      <td>CH</td>\n",
       "      <td>NaN</td>\n",
       "      <td>NaN</td>\n",
       "      <td>NaN</td>\n",
       "      <td>NaN</td>\n",
       "      <td>NaN</td>\n",
       "      <td>NaN</td>\n",
       "      <td>NaN</td>\n",
       "      <td>NaN</td>\n",
       "      <td>NaN</td>\n",
       "    </tr>\n",
       "    <tr>\n",
       "      <th>2.0</th>\n",
       "      <td>FF</td>\n",
       "      <td>SL</td>\n",
       "      <td>FC</td>\n",
       "      <td>CH</td>\n",
       "      <td>NaN</td>\n",
       "      <td>NaN</td>\n",
       "      <td>NaN</td>\n",
       "      <td>NaN</td>\n",
       "      <td>NaN</td>\n",
       "      <td>NaN</td>\n",
       "      <td>NaN</td>\n",
       "      <td>NaN</td>\n",
       "      <td>NaN</td>\n",
       "    </tr>\n",
       "    <tr>\n",
       "      <th>3.0</th>\n",
       "      <td>SL</td>\n",
       "      <td>FF</td>\n",
       "      <td>FF</td>\n",
       "      <td>FF</td>\n",
       "      <td>NaN</td>\n",
       "      <td>NaN</td>\n",
       "      <td>NaN</td>\n",
       "      <td>NaN</td>\n",
       "      <td>NaN</td>\n",
       "      <td>NaN</td>\n",
       "      <td>NaN</td>\n",
       "      <td>NaN</td>\n",
       "      <td>NaN</td>\n",
       "    </tr>\n",
       "    <tr>\n",
       "      <th>4.0</th>\n",
       "      <td>SI</td>\n",
       "      <td>FC</td>\n",
       "      <td>CH</td>\n",
       "      <td>CH</td>\n",
       "      <td>KC</td>\n",
       "      <td>FF</td>\n",
       "      <td>FC</td>\n",
       "      <td>NaN</td>\n",
       "      <td>NaN</td>\n",
       "      <td>NaN</td>\n",
       "      <td>NaN</td>\n",
       "      <td>NaN</td>\n",
       "      <td>NaN</td>\n",
       "    </tr>\n",
       "    <tr>\n",
       "      <th>5.0</th>\n",
       "      <td>SI</td>\n",
       "      <td>NaN</td>\n",
       "      <td>NaN</td>\n",
       "      <td>NaN</td>\n",
       "      <td>NaN</td>\n",
       "      <td>NaN</td>\n",
       "      <td>NaN</td>\n",
       "      <td>NaN</td>\n",
       "      <td>NaN</td>\n",
       "      <td>NaN</td>\n",
       "      <td>NaN</td>\n",
       "      <td>NaN</td>\n",
       "      <td>NaN</td>\n",
       "    </tr>\n",
       "  </tbody>\n",
       "</table>\n",
       "</div>"
      ],
      "text/plain": [
       "pitch_number           1.0  2.0  3.0  4.0  5.0  6.0  7.0  8.0  9.0  10.0 11.0  \\\n",
       "game_pk  at_bat_number                                                          \n",
       "564777.0 1.0             CH   CH   CH   CH  NaN  NaN  NaN  NaN  NaN  NaN  NaN   \n",
       "         2.0             FF   SL   FC   CH  NaN  NaN  NaN  NaN  NaN  NaN  NaN   \n",
       "         3.0             SL   FF   FF   FF  NaN  NaN  NaN  NaN  NaN  NaN  NaN   \n",
       "         4.0             SI   FC   CH   CH   KC   FF   FC  NaN  NaN  NaN  NaN   \n",
       "         5.0             SI  NaN  NaN  NaN  NaN  NaN  NaN  NaN  NaN  NaN  NaN   \n",
       "\n",
       "pitch_number           12.0 13.0  \n",
       "game_pk  at_bat_number            \n",
       "564777.0 1.0            NaN  NaN  \n",
       "         2.0            NaN  NaN  \n",
       "         3.0            NaN  NaN  \n",
       "         4.0            NaN  NaN  \n",
       "         5.0            NaN  NaN  "
      ]
     },
     "execution_count": 49,
     "metadata": {},
     "output_type": "execute_result"
    }
   ],
   "source": [
    "pitches.head()"
   ]
  },
  {
   "cell_type": "markdown",
   "metadata": {},
   "source": [
    "Now we can create a column that combines all the pitches in an at-bat into a single reference."
   ]
  },
  {
   "cell_type": "code",
   "execution_count": 50,
   "metadata": {},
   "outputs": [],
   "source": [
    "pitches['sequence'] = pitches[pitches.columns[0:]].apply(\n",
    "    lambda x: ','.join(x.dropna().astype(str)), axis=1)"
   ]
  },
  {
   "cell_type": "code",
   "execution_count": 51,
   "metadata": {
    "scrolled": true
   },
   "outputs": [
    {
     "data": {
      "text/html": [
       "<div>\n",
       "<style scoped>\n",
       "    .dataframe tbody tr th:only-of-type {\n",
       "        vertical-align: middle;\n",
       "    }\n",
       "\n",
       "    .dataframe tbody tr th {\n",
       "        vertical-align: top;\n",
       "    }\n",
       "\n",
       "    .dataframe thead th {\n",
       "        text-align: right;\n",
       "    }\n",
       "</style>\n",
       "<table border=\"1\" class=\"dataframe\">\n",
       "  <thead>\n",
       "    <tr style=\"text-align: right;\">\n",
       "      <th></th>\n",
       "      <th>pitch_number</th>\n",
       "      <th>1.0</th>\n",
       "      <th>2.0</th>\n",
       "      <th>3.0</th>\n",
       "      <th>4.0</th>\n",
       "      <th>5.0</th>\n",
       "      <th>6.0</th>\n",
       "      <th>7.0</th>\n",
       "      <th>8.0</th>\n",
       "      <th>9.0</th>\n",
       "      <th>10.0</th>\n",
       "      <th>11.0</th>\n",
       "      <th>12.0</th>\n",
       "      <th>13.0</th>\n",
       "      <th>sequence</th>\n",
       "    </tr>\n",
       "    <tr>\n",
       "      <th>game_pk</th>\n",
       "      <th>at_bat_number</th>\n",
       "      <th></th>\n",
       "      <th></th>\n",
       "      <th></th>\n",
       "      <th></th>\n",
       "      <th></th>\n",
       "      <th></th>\n",
       "      <th></th>\n",
       "      <th></th>\n",
       "      <th></th>\n",
       "      <th></th>\n",
       "      <th></th>\n",
       "      <th></th>\n",
       "      <th></th>\n",
       "      <th></th>\n",
       "    </tr>\n",
       "  </thead>\n",
       "  <tbody>\n",
       "    <tr>\n",
       "      <th rowspan=\"5\" valign=\"top\">564777.0</th>\n",
       "      <th>1.0</th>\n",
       "      <td>CH</td>\n",
       "      <td>CH</td>\n",
       "      <td>CH</td>\n",
       "      <td>CH</td>\n",
       "      <td>NaN</td>\n",
       "      <td>NaN</td>\n",
       "      <td>NaN</td>\n",
       "      <td>NaN</td>\n",
       "      <td>NaN</td>\n",
       "      <td>NaN</td>\n",
       "      <td>NaN</td>\n",
       "      <td>NaN</td>\n",
       "      <td>NaN</td>\n",
       "      <td>CH,CH,CH,CH</td>\n",
       "    </tr>\n",
       "    <tr>\n",
       "      <th>2.0</th>\n",
       "      <td>FF</td>\n",
       "      <td>SL</td>\n",
       "      <td>FC</td>\n",
       "      <td>CH</td>\n",
       "      <td>NaN</td>\n",
       "      <td>NaN</td>\n",
       "      <td>NaN</td>\n",
       "      <td>NaN</td>\n",
       "      <td>NaN</td>\n",
       "      <td>NaN</td>\n",
       "      <td>NaN</td>\n",
       "      <td>NaN</td>\n",
       "      <td>NaN</td>\n",
       "      <td>FF,SL,FC,CH</td>\n",
       "    </tr>\n",
       "    <tr>\n",
       "      <th>3.0</th>\n",
       "      <td>SL</td>\n",
       "      <td>FF</td>\n",
       "      <td>FF</td>\n",
       "      <td>FF</td>\n",
       "      <td>NaN</td>\n",
       "      <td>NaN</td>\n",
       "      <td>NaN</td>\n",
       "      <td>NaN</td>\n",
       "      <td>NaN</td>\n",
       "      <td>NaN</td>\n",
       "      <td>NaN</td>\n",
       "      <td>NaN</td>\n",
       "      <td>NaN</td>\n",
       "      <td>SL,FF,FF,FF</td>\n",
       "    </tr>\n",
       "    <tr>\n",
       "      <th>4.0</th>\n",
       "      <td>SI</td>\n",
       "      <td>FC</td>\n",
       "      <td>CH</td>\n",
       "      <td>CH</td>\n",
       "      <td>KC</td>\n",
       "      <td>FF</td>\n",
       "      <td>FC</td>\n",
       "      <td>NaN</td>\n",
       "      <td>NaN</td>\n",
       "      <td>NaN</td>\n",
       "      <td>NaN</td>\n",
       "      <td>NaN</td>\n",
       "      <td>NaN</td>\n",
       "      <td>SI,FC,CH,CH,KC,FF,FC</td>\n",
       "    </tr>\n",
       "    <tr>\n",
       "      <th>5.0</th>\n",
       "      <td>SI</td>\n",
       "      <td>NaN</td>\n",
       "      <td>NaN</td>\n",
       "      <td>NaN</td>\n",
       "      <td>NaN</td>\n",
       "      <td>NaN</td>\n",
       "      <td>NaN</td>\n",
       "      <td>NaN</td>\n",
       "      <td>NaN</td>\n",
       "      <td>NaN</td>\n",
       "      <td>NaN</td>\n",
       "      <td>NaN</td>\n",
       "      <td>NaN</td>\n",
       "      <td>SI</td>\n",
       "    </tr>\n",
       "  </tbody>\n",
       "</table>\n",
       "</div>"
      ],
      "text/plain": [
       "pitch_number           1.0  2.0  3.0  4.0  5.0  6.0  7.0  8.0  9.0 10.0 11.0  \\\n",
       "game_pk  at_bat_number                                                         \n",
       "564777.0 1.0            CH   CH   CH   CH  NaN  NaN  NaN  NaN  NaN  NaN  NaN   \n",
       "         2.0            FF   SL   FC   CH  NaN  NaN  NaN  NaN  NaN  NaN  NaN   \n",
       "         3.0            SL   FF   FF   FF  NaN  NaN  NaN  NaN  NaN  NaN  NaN   \n",
       "         4.0            SI   FC   CH   CH   KC   FF   FC  NaN  NaN  NaN  NaN   \n",
       "         5.0            SI  NaN  NaN  NaN  NaN  NaN  NaN  NaN  NaN  NaN  NaN   \n",
       "\n",
       "pitch_number           12.0 13.0              sequence  \n",
       "game_pk  at_bat_number                                  \n",
       "564777.0 1.0            NaN  NaN           CH,CH,CH,CH  \n",
       "         2.0            NaN  NaN           FF,SL,FC,CH  \n",
       "         3.0            NaN  NaN           SL,FF,FF,FF  \n",
       "         4.0            NaN  NaN  SI,FC,CH,CH,KC,FF,FC  \n",
       "         5.0            NaN  NaN                    SI  "
      ]
     },
     "execution_count": 51,
     "metadata": {},
     "output_type": "execute_result"
    }
   ],
   "source": [
    "pitches.head()"
   ]
  },
  {
   "cell_type": "markdown",
   "metadata": {},
   "source": [
    "Great! Pitch number column '13.0' aligns with the max we saw in our descriptive statistics for 'pitch_number'. Let's take a look at how many unique combinations of pitch types there are within an at-bat:"
   ]
  },
  {
   "cell_type": "code",
   "execution_count": 52,
   "metadata": {},
   "outputs": [
    {
     "data": {
      "text/plain": [
       "FF                         1222\n",
       "FF,FF                       653\n",
       "FF,FF,FF                    449\n",
       "SL                          432\n",
       "FT                          379\n",
       "                           ... \n",
       "SL,CU,FT,FT,SL                1\n",
       "FF,FC,FF,CU,CU,CU,FC,FF       1\n",
       "FF,FF,FS,FF,FS,FF,FS          1\n",
       "FF,FT,FF,CU                   1\n",
       "FF,CH,CU,FF,SL,FF,FF,SL       1\n",
       "Name: sequence, Length: 8401, dtype: int64"
      ]
     },
     "execution_count": 52,
     "metadata": {},
     "output_type": "execute_result"
    }
   ],
   "source": [
    "pitches['sequence'].value_counts()"
   ]
  },
  {
   "cell_type": "markdown",
   "metadata": {},
   "source": [
    "8,401 different combinations of pitch type is too many for us to explore individually. Let's take a look at the pitch type distributions for each pitch number, 1 through 13."
   ]
  },
  {
   "cell_type": "code",
   "execution_count": 53,
   "metadata": {
    "scrolled": false
   },
   "outputs": [
    {
     "data": {
      "image/png": "[encoded data removed]",
      "text/plain": [
       "<Figure size 432x288 with 1 Axes>"
      ]
     },
     "metadata": {
      "needs_background": "light"
     },
     "output_type": "display_data"
    },
    {
     "data": {
      "image/png": "[encoded data removed]",
      "text/plain": [
       "<Figure size 432x288 with 1 Axes>"
      ]
     },
     "metadata": {
      "needs_background": "light"
     },
     "output_type": "display_data"
    },
    {
     "data": {
      "image/png": "[encoded data removed]",
      "text/plain": [
       "<Figure size 432x288 with 1 Axes>"
      ]
     },
     "metadata": {
      "needs_background": "light"
     },
     "output_type": "display_data"
    },
    {
     "data": {
      "image/png": "[encoded data removed]",
      "text/plain": [
       "<Figure size 432x288 with 1 Axes>"
      ]
     },
     "metadata": {
      "needs_background": "light"
     },
     "output_type": "display_data"
    },
    {
     "data": {
      "image/png": "[encoded data removed]",
      "text/plain": [
       "<Figure size 432x288 with 1 Axes>"
      ]
     },
     "metadata": {
      "needs_background": "light"
     },
     "output_type": "display_data"
    },
    {
     "data": {
      "image/png": "[encoded data removed]",
      "text/plain": [
       "<Figure size 432x288 with 1 Axes>"
      ]
     },
     "metadata": {
      "needs_background": "light"
     },
     "output_type": "display_data"
    },
    {
     "data": {
      "image/png": "[encoded data removed]",
      "text/plain": [
       "<Figure size 432x288 with 1 Axes>"
      ]
     },
     "metadata": {
      "needs_background": "light"
     },
     "output_type": "display_data"
    },
    {
     "data": {
      "image/png": "[encoded data removed]",
      "text/plain": [
       "<Figure size 432x288 with 1 Axes>"
      ]
     },
     "metadata": {
      "needs_background": "light"
     },
     "output_type": "display_data"
    },
    {
     "data": {
      "image/png": "[encoded data removed]",
      "text/plain": [
       "<Figure size 432x288 with 1 Axes>"
      ]
     },
     "metadata": {
      "needs_background": "light"
     },
     "output_type": "display_data"
    },
    {
     "data": {
      "image/png": "[encoded data removed]",
      "text/plain": [
       "<Figure size 432x288 with 1 Axes>"
      ]
     },
     "metadata": {
      "needs_background": "light"
     },
     "output_type": "display_data"
    },
    {
     "data": {
      "image/png": "[encoded data removed]",
      "text/plain": [
       "<Figure size 432x288 with 1 Axes>"
      ]
     },
     "metadata": {
      "needs_background": "light"
     },
     "output_type": "display_data"
    },
    {
     "data": {
      "image/png": "[encoded data removed]",
      "text/plain": [
       "<Figure size 432x288 with 1 Axes>"
      ]
     },
     "metadata": {
      "needs_background": "light"
     },
     "output_type": "display_data"
    },
    {
     "data": {
      "image/png": "[encoded data removed]",
      "text/plain": [
       "<Figure size 432x288 with 1 Axes>"
      ]
     },
     "metadata": {
      "needs_background": "light"
     },
     "output_type": "display_data"
    }
   ],
   "source": [
    "for pitch in range(1,14):\n",
    "    sns.countplot(x=pitch, data=pitches, order=['CH','CU','EP','FC','FF','FS','FT','KC','SI','SL','KN'])\n",
    "    plt.title(f'Pitch Types for Pitch #{pitch}')\n",
    "    plt.xlabel('Pitch Type')\n",
    "    plt.ylabel('Count')\n",
    "    plt.show();"
   ]
  },
  {
   "cell_type": "markdown",
   "metadata": {},
   "source": [
    "It is interesting to see a very similar relative distribution of pitch type for any of the pitches numbered 1 through 10. Based on this information, in addition to the high count of unique combinations, we will move forward with treating each pitch type as independent from the previous pitch type. This assumption will also make it more practical for working with the data that we have.  "
   ]
  },
  {
   "cell_type": "markdown",
   "metadata": {},
   "source": [
    "## Speed vs. Pitch Type"
   ]
  },
  {
   "cell_type": "code",
   "execution_count": 54,
   "metadata": {},
   "outputs": [
    {
     "data": {
      "image/png": "[encoded data removed]",
      "text/plain": [
       "<Figure size 864x576 with 1 Axes>"
      ]
     },
     "metadata": {
      "needs_background": "light"
     },
     "output_type": "display_data"
    }
   ],
   "source": [
    "plt.subplots(figsize=(12, 8))\n",
    "sns.boxplot(x='pitch_type', y='release_speed', hue='p_throws', data=data)\n",
    "plt.title('Pitch Speed by Pitch Type')\n",
    "plt.xticks(rotation='horizontal')\n",
    "plt.ylabel('Speed')\n",
    "plt.xlabel('Pitch Type');"
   ]
  },
  {
   "cell_type": "markdown",
   "metadata": {},
   "source": [
    "Here we can see how speed varies by pitch type. A batter's swing timing will depend on the speed of the pitch. The box plot above shows how a fastball (FF & FT) is much faster than a slider (SL) or changeup (CH). Note that right handed pitchers tend to throw faster pitches for all pitch types. They also have a larger range, especially on the slow end, than left handed pitchers. The range is most likely due to the higher count of right handers.\n",
    "\n",
    "Pitch speed is not pre-pitch data, so it won't be used to predict 'pitch_type'. Instead, this illustrates some of the value in predicting pitch type as a batter can be better prepared for the timing of his swing."
   ]
  },
  {
   "cell_type": "markdown",
   "metadata": {},
   "source": [
    "## Balls, Strikes, and Outs vs. Pitch Type"
   ]
  },
  {
   "cell_type": "markdown",
   "metadata": {},
   "source": [
    "A couple significant features expected to affect the pitch type is the count of balls and strikes. Recall that for any given pitch, there will never be more than 3 balls or 2 strikes. A 4th ball results in a base on balls and the batter goes to 1st base. A 3rd strike results in a strike out and will retire the batter and add 1 to the count of outs. We can look at 2 extreme examples: \n",
    "\n",
    "1. All pitches where the count is 3 balls and 0 strikes\n",
    "2. All pitches where the count is 0 balls and 2 strikes "
   ]
  },
  {
   "cell_type": "code",
   "execution_count": 55,
   "metadata": {},
   "outputs": [
    {
     "data": {
      "image/png": "[encoded data removed]",
      "text/plain": [
       "<Figure size 432x288 with 1 Axes>"
      ]
     },
     "metadata": {
      "needs_background": "light"
     },
     "output_type": "display_data"
    },
    {
     "data": {
      "image/png": "[encoded data removed]",
      "text/plain": [
       "<Figure size 432x288 with 1 Axes>"
      ]
     },
     "metadata": {
      "needs_background": "light"
     },
     "output_type": "display_data"
    }
   ],
   "source": [
    "_30count = basics[(basics['balls'] == 3.0) & (basics['strikes'] == 0.0)]\n",
    "val_counts = pd.DataFrame(_30count.pitch_type.value_counts())\n",
    "val_counts = val_counts.reset_index().sort_values('index')\n",
    "val_counts.plot(x = 'index', y = 'pitch_type', kind='bar')\n",
    " \n",
    "plt.title('3 Balls and 0 Strikes')\n",
    "plt.xlabel('Pitch Type')\n",
    "plt.ylabel('Counts');\n",
    "\n",
    "_02count = basics[(basics['balls'] == 0.0) & (basics['strikes'] == 2.0)]\n",
    "val_counts1 = pd.DataFrame(_02count.pitch_type.value_counts())\n",
    "val_counts1 = val_counts1.reset_index().sort_values('index')\n",
    "val_counts1.plot(x = 'index', y = 'pitch_type', kind='bar')\n",
    " \n",
    "plt.title('0 Balls and 2 Strikes')\n",
    "plt.xlabel('Pitch Type')\n",
    "plt.ylabel('Counts');"
   ]
  },
  {
   "cell_type": "markdown",
   "metadata": {},
   "source": [
    "The plots above align with my expectations. When a pitcher is throwing his 4th pitch with 3 balls and 0 strikes, he wants to be certain to throw a strike in order to avoid putting the batter on base. This is why we see a large majority of the pitches as type FF or FT, both fastballs, in the first plot. The second plot shows a greater variety of pitch types with slider (SL) having a significant count. This is because the pitcher has an advantage with 2 strikes and can throw a more aggressive pitch in an attempt to make the batter swing at strike 3. "
   ]
  },
  {
   "cell_type": "markdown",
   "metadata": {},
   "source": [
    "**What about somewhere in the middle like 2 balls and 1 strike? What does the distribution look like for a full count (3 balls and 2 strikes)?**"
   ]
  },
  {
   "cell_type": "code",
   "execution_count": 56,
   "metadata": {},
   "outputs": [
    {
     "data": {
      "image/png": "[encoded data removed]",
      "text/plain": [
       "<Figure size 432x288 with 1 Axes>"
      ]
     },
     "metadata": {
      "needs_background": "light"
     },
     "output_type": "display_data"
    },
    {
     "data": {
      "image/png": "[encoded data removed]",
      "text/plain": [
       "<Figure size 432x288 with 1 Axes>"
      ]
     },
     "metadata": {
      "needs_background": "light"
     },
     "output_type": "display_data"
    }
   ],
   "source": [
    "_21count = basics[(basics['balls'] == 2.0) & (basics['strikes'] == 1.0)]\n",
    "val_counts = pd.DataFrame(_21count.pitch_type.value_counts())\n",
    "val_counts = val_counts.reset_index().sort_values('index')\n",
    "val_counts.plot(x = 'index', y = 'pitch_type', kind='bar')\n",
    " \n",
    "plt.title('2 Balls and 1 Strikes')\n",
    "plt.xlabel('Pitch Type')\n",
    "plt.ylabel('Counts');\n",
    "\n",
    "_32count = basics[(basics['balls'] == 3.0) & (basics['strikes'] == 2.0)]\n",
    "val_counts1 = pd.DataFrame(_32count.pitch_type.value_counts())\n",
    "val_counts1 = val_counts1.reset_index().sort_values('index')\n",
    "val_counts1.plot(x = 'index', y = 'pitch_type', kind='bar')\n",
    " \n",
    "plt.title('3 Balls and 2 Strikes')\n",
    "plt.xlabel('Pitch Type')\n",
    "plt.ylabel('Counts');"
   ]
  },
  {
   "cell_type": "markdown",
   "metadata": {},
   "source": [
    "Almost identical and very similar to the distributions we saw by pitch number. Let's see if the 3 balls, 2 strikes distribution looks any different with no outs compared to 2 outs."
   ]
  },
  {
   "cell_type": "code",
   "execution_count": 57,
   "metadata": {},
   "outputs": [
    {
     "data": {
      "image/png": "[encoded data removed]",
      "text/plain": [
       "<Figure size 432x288 with 1 Axes>"
      ]
     },
     "metadata": {
      "needs_background": "light"
     },
     "output_type": "display_data"
    },
    {
     "data": {
      "image/png": "[encoded data removed]",
      "text/plain": [
       "<Figure size 432x288 with 1 Axes>"
      ]
     },
     "metadata": {
      "needs_background": "light"
     },
     "output_type": "display_data"
    }
   ],
   "source": [
    "_0outs = basics[(basics['balls'] == 3.0) & (basics['strikes'] == 2.0) & (basics['outs_when_up'] == 0.0)]\n",
    "val_counts = pd.DataFrame(_0outs.pitch_type.value_counts())\n",
    "val_counts = val_counts.reset_index().sort_values('index')\n",
    "val_counts.plot(x = 'index', y = 'pitch_type', kind='bar')\n",
    " \n",
    "plt.title('Full Count and 0 Outs')\n",
    "plt.xlabel('Pitch Type')\n",
    "plt.ylabel('Counts');\n",
    "\n",
    "_2outs = basics[(basics['balls'] == 3.0) & (basics['strikes'] == 2.0) & (basics['outs_when_up'] == 2.0)]\n",
    "val_counts1 = pd.DataFrame(_2outs.pitch_type.value_counts())\n",
    "val_counts1 = val_counts1.reset_index().sort_values('index')\n",
    "val_counts1.plot(x = 'index', y = 'pitch_type', kind='bar')\n",
    " \n",
    "plt.title('Full Count and 2 Outs')\n",
    "plt.xlabel('Pitch Type')\n",
    "plt.ylabel('Counts');"
   ]
  },
  {
   "cell_type": "markdown",
   "metadata": {},
   "source": [
    "No meaningful difference and they continue to align with the previous plots. One last distribution to explore is for all pitch counts with 0 outs compared to 2 outs."
   ]
  },
  {
   "cell_type": "code",
   "execution_count": 58,
   "metadata": {},
   "outputs": [
    {
     "data": {
      "image/png": "[encoded data removed]",
      "text/plain": [
       "<Figure size 432x288 with 1 Axes>"
      ]
     },
     "metadata": {
      "needs_background": "light"
     },
     "output_type": "display_data"
    },
    {
     "data": {
      "image/png": "[encoded data removed]",
      "text/plain": [
       "<Figure size 432x288 with 1 Axes>"
      ]
     },
     "metadata": {
      "needs_background": "light"
     },
     "output_type": "display_data"
    }
   ],
   "source": [
    "_0outs = basics[(basics['outs_when_up'] == 0.0)]\n",
    "val_counts = pd.DataFrame(_0outs.pitch_type.value_counts())\n",
    "val_counts = val_counts.reset_index().sort_values('index')\n",
    "val_counts.plot(x = 'index', y = 'pitch_type', kind='bar')\n",
    " \n",
    "plt.title('0 Outs')\n",
    "plt.xlabel('Pitch Type')\n",
    "plt.ylabel('Counts');\n",
    "\n",
    "_2outs = basics[(basics['outs_when_up'] == 2.0)]\n",
    "val_counts1 = pd.DataFrame(_2outs.pitch_type.value_counts())\n",
    "val_counts1 = val_counts1.reset_index().sort_values('index')\n",
    "val_counts1.plot(x = 'index', y = 'pitch_type', kind='bar')\n",
    " \n",
    "plt.title('2 Outs')\n",
    "plt.xlabel('Pitch Type')\n",
    "plt.ylabel('Counts');"
   ]
  },
  {
   "cell_type": "markdown",
   "metadata": {},
   "source": [
    "Once again, there is a minimal difference. The two extreme cases of 3 balls, 0 strikes and 0 balls, 2 strikes are the only distributions with an evident variance in pitch type frequencies."
   ]
  },
  {
   "cell_type": "markdown",
   "metadata": {},
   "source": [
    "Now that we have decided to treat each pitch as independent from other pitches, we can drop the 301 observations with null values for 'pitch_type' without impacting the other pitches in the respective at-bat. There are also a few observations of fielding alignments that have null values. Given the large quantity of data we are working with, we will drop these rows as well. The on_(x)b features are expected to have large values for null as there are rarely runners on base."
   ]
  },
  {
   "cell_type": "code",
   "execution_count": 59,
   "metadata": {},
   "outputs": [
    {
     "data": {
      "text/plain": [
       "pitch_type                  301\n",
       "release_speed               288\n",
       "batter                        0\n",
       "pitcher                       0\n",
       "stand                         0\n",
       "p_throws                      0\n",
       "balls                         0\n",
       "strikes                       0\n",
       "on_3b                    100659\n",
       "on_2b                     90384\n",
       "on_1b                     77477\n",
       "outs_when_up                  0\n",
       "inning                        0\n",
       "inning_topbot                 0\n",
       "fielder_2                     0\n",
       "game_pk                       0\n",
       "at_bat_number                 0\n",
       "pitch_number                  0\n",
       "home_score                    0\n",
       "away_score                    0\n",
       "bat_score                     0\n",
       "fld_score                     0\n",
       "if_fielding_alignment        13\n",
       "of_fielding_alignment        13\n",
       "dtype: int64"
      ]
     },
     "execution_count": 59,
     "metadata": {},
     "output_type": "execute_result"
    }
   ],
   "source": [
    "data.isnull().sum()"
   ]
  },
  {
   "cell_type": "code",
   "execution_count": 60,
   "metadata": {},
   "outputs": [],
   "source": [
    "data.dropna(subset=['pitch_type', 'release_speed', \n",
    "                                    'if_fielding_alignment', 'of_fielding_alignment'], inplace=True)"
   ]
  },
  {
   "cell_type": "code",
   "execution_count": 61,
   "metadata": {},
   "outputs": [
    {
     "name": "stdout",
     "output_type": "stream",
     "text": [
      "<class 'pandas.core.frame.DataFrame'>\n",
      "Int64Index: 110301 entries, 1778 to 22574\n",
      "Data columns (total 24 columns):\n",
      " #   Column                 Non-Null Count   Dtype  \n",
      "---  ------                 --------------   -----  \n",
      " 0   pitch_type             110301 non-null  object \n",
      " 1   release_speed          110301 non-null  float64\n",
      " 2   batter                 110301 non-null  float64\n",
      " 3   pitcher                110301 non-null  float64\n",
      " 4   stand                  110301 non-null  object \n",
      " 5   p_throws               110301 non-null  object \n",
      " 6   balls                  110301 non-null  float64\n",
      " 7   strikes                110301 non-null  float64\n",
      " 8   on_3b                  9954 non-null    float64\n",
      " 9   on_2b                  20207 non-null   float64\n",
      " 10  on_1b                  33042 non-null   float64\n",
      " 11  outs_when_up           110301 non-null  float64\n",
      " 12  inning                 110301 non-null  float64\n",
      " 13  inning_topbot          110301 non-null  object \n",
      " 14  fielder_2              110301 non-null  float64\n",
      " 15  game_pk                110301 non-null  float64\n",
      " 16  at_bat_number          110301 non-null  float64\n",
      " 17  pitch_number           110301 non-null  float64\n",
      " 18  home_score             110301 non-null  float64\n",
      " 19  away_score             110301 non-null  float64\n",
      " 20  bat_score              110301 non-null  float64\n",
      " 21  fld_score              110301 non-null  float64\n",
      " 22  if_fielding_alignment  110301 non-null  object \n",
      " 23  of_fielding_alignment  110301 non-null  object \n",
      "dtypes: float64(18), object(6)\n",
      "memory usage: 21.0+ MB\n"
     ]
    }
   ],
   "source": [
    "data.info()"
   ]
  },
  {
   "cell_type": "markdown",
   "metadata": {},
   "source": [
    "## Summary"
   ]
  },
  {
   "cell_type": "markdown",
   "metadata": {},
   "source": [
    "We started the EDA process by loading our previously wrangled data containing over 60 features and 110k observations. Exploration of all features resulted in 38 of the features being dropped. We also dropped a few hundred observations that contained at least 1 null value in 4 of the remaining features. The dropped features were almost entirely due to the nature of our prediction interest. Rather than simply demonstrating predictive power, we want to predict pitch types with the information available in between pitches and with enough time to hypothetically communicate this predictions to a batter. This means that any information gained from the pitch of interest can not be used. For example, we can't use the speed, spin, or position of a pitch to predict the pitch with our intent.\n",
    "\n",
    "During our exploration of which arm a pitcher throws with compared to the position of the batter, we discovered meaningful differences in the pitch type distributons for same hand vs. opposite hand combinations. Specifically, when a right handed pitcher throws to a right handed batter, we see a higher count of sliders and lower count of changeups. The same is true for left handed pitchers throwing to left handed batters. We also found the count of balls, strikes, and outs to have minimal effect on the pitch type distributions except for extreme cases such as 3 balls, 0 strikes and 0 balls, 2 strikes. Finally, we transformed the data to allow for discovery of pitch sequences within at-bats. The very high count of unique combinations, combined with consistent pitch type distributions for any given pitch number in sequence, allowed us comfort in moving forward with pitches remaining as independent events.\n",
    "\n",
    "As we move into preprocessing, we will need to create dummy variables, apply feature scaling, and split the data into train and test sets."
   ]
  },
  {
   "cell_type": "code",
   "execution_count": 62,
   "metadata": {},
   "outputs": [
    {
     "data": {
      "text/html": [
       "<div>\n",
       "<style scoped>\n",
       "    .dataframe tbody tr th:only-of-type {\n",
       "        vertical-align: middle;\n",
       "    }\n",
       "\n",
       "    .dataframe tbody tr th {\n",
       "        vertical-align: top;\n",
       "    }\n",
       "\n",
       "    .dataframe thead th {\n",
       "        text-align: right;\n",
       "    }\n",
       "</style>\n",
       "<table border=\"1\" class=\"dataframe\">\n",
       "  <thead>\n",
       "    <tr style=\"text-align: right;\">\n",
       "      <th>index</th>\n",
       "      <th>1778</th>\n",
       "      <th>1839</th>\n",
       "      <th>1867</th>\n",
       "      <th>1932</th>\n",
       "      <th>1956</th>\n",
       "    </tr>\n",
       "  </thead>\n",
       "  <tbody>\n",
       "    <tr>\n",
       "      <th>pitch_type</th>\n",
       "      <td>SI</td>\n",
       "      <td>SL</td>\n",
       "      <td>SL</td>\n",
       "      <td>FF</td>\n",
       "      <td>FF</td>\n",
       "    </tr>\n",
       "    <tr>\n",
       "      <th>release_speed</th>\n",
       "      <td>101.0</td>\n",
       "      <td>88.1</td>\n",
       "      <td>85.8</td>\n",
       "      <td>96.5</td>\n",
       "      <td>96.8</td>\n",
       "    </tr>\n",
       "    <tr>\n",
       "      <th>batter</th>\n",
       "      <td>606466.0</td>\n",
       "      <td>606466.0</td>\n",
       "      <td>606466.0</td>\n",
       "      <td>572233.0</td>\n",
       "      <td>572233.0</td>\n",
       "    </tr>\n",
       "    <tr>\n",
       "      <th>pitcher</th>\n",
       "      <td>547973.0</td>\n",
       "      <td>547973.0</td>\n",
       "      <td>547973.0</td>\n",
       "      <td>547973.0</td>\n",
       "      <td>547973.0</td>\n",
       "    </tr>\n",
       "    <tr>\n",
       "      <th>stand</th>\n",
       "      <td>R</td>\n",
       "      <td>R</td>\n",
       "      <td>R</td>\n",
       "      <td>R</td>\n",
       "      <td>R</td>\n",
       "    </tr>\n",
       "    <tr>\n",
       "      <th>p_throws</th>\n",
       "      <td>L</td>\n",
       "      <td>L</td>\n",
       "      <td>L</td>\n",
       "      <td>L</td>\n",
       "      <td>L</td>\n",
       "    </tr>\n",
       "    <tr>\n",
       "      <th>balls</th>\n",
       "      <td>0.0</td>\n",
       "      <td>0.0</td>\n",
       "      <td>0.0</td>\n",
       "      <td>3.0</td>\n",
       "      <td>2.0</td>\n",
       "    </tr>\n",
       "    <tr>\n",
       "      <th>strikes</th>\n",
       "      <td>2.0</td>\n",
       "      <td>1.0</td>\n",
       "      <td>0.0</td>\n",
       "      <td>0.0</td>\n",
       "      <td>0.0</td>\n",
       "    </tr>\n",
       "    <tr>\n",
       "      <th>on_3b</th>\n",
       "      <td>NaN</td>\n",
       "      <td>NaN</td>\n",
       "      <td>NaN</td>\n",
       "      <td>NaN</td>\n",
       "      <td>NaN</td>\n",
       "    </tr>\n",
       "    <tr>\n",
       "      <th>on_2b</th>\n",
       "      <td>444482.0</td>\n",
       "      <td>444482.0</td>\n",
       "      <td>444482.0</td>\n",
       "      <td>444482.0</td>\n",
       "      <td>444482.0</td>\n",
       "    </tr>\n",
       "    <tr>\n",
       "      <th>on_1b</th>\n",
       "      <td>572233.0</td>\n",
       "      <td>572233.0</td>\n",
       "      <td>572233.0</td>\n",
       "      <td>NaN</td>\n",
       "      <td>NaN</td>\n",
       "    </tr>\n",
       "    <tr>\n",
       "      <th>outs_when_up</th>\n",
       "      <td>2.0</td>\n",
       "      <td>2.0</td>\n",
       "      <td>2.0</td>\n",
       "      <td>2.0</td>\n",
       "      <td>2.0</td>\n",
       "    </tr>\n",
       "    <tr>\n",
       "      <th>inning</th>\n",
       "      <td>9.0</td>\n",
       "      <td>9.0</td>\n",
       "      <td>9.0</td>\n",
       "      <td>9.0</td>\n",
       "      <td>9.0</td>\n",
       "    </tr>\n",
       "    <tr>\n",
       "      <th>inning_topbot</th>\n",
       "      <td>Top</td>\n",
       "      <td>Top</td>\n",
       "      <td>Top</td>\n",
       "      <td>Top</td>\n",
       "      <td>Top</td>\n",
       "    </tr>\n",
       "    <tr>\n",
       "      <th>fielder_2</th>\n",
       "      <td>519222.0</td>\n",
       "      <td>519222.0</td>\n",
       "      <td>519222.0</td>\n",
       "      <td>519222.0</td>\n",
       "      <td>519222.0</td>\n",
       "    </tr>\n",
       "    <tr>\n",
       "      <th>game_pk</th>\n",
       "      <td>567514.0</td>\n",
       "      <td>567514.0</td>\n",
       "      <td>567514.0</td>\n",
       "      <td>567514.0</td>\n",
       "      <td>567514.0</td>\n",
       "    </tr>\n",
       "    <tr>\n",
       "      <th>at_bat_number</th>\n",
       "      <td>77.0</td>\n",
       "      <td>77.0</td>\n",
       "      <td>77.0</td>\n",
       "      <td>76.0</td>\n",
       "      <td>76.0</td>\n",
       "    </tr>\n",
       "    <tr>\n",
       "      <th>pitch_number</th>\n",
       "      <td>3.0</td>\n",
       "      <td>2.0</td>\n",
       "      <td>1.0</td>\n",
       "      <td>4.0</td>\n",
       "      <td>3.0</td>\n",
       "    </tr>\n",
       "    <tr>\n",
       "      <th>home_score</th>\n",
       "      <td>7.0</td>\n",
       "      <td>7.0</td>\n",
       "      <td>7.0</td>\n",
       "      <td>7.0</td>\n",
       "      <td>7.0</td>\n",
       "    </tr>\n",
       "    <tr>\n",
       "      <th>away_score</th>\n",
       "      <td>5.0</td>\n",
       "      <td>5.0</td>\n",
       "      <td>5.0</td>\n",
       "      <td>5.0</td>\n",
       "      <td>5.0</td>\n",
       "    </tr>\n",
       "    <tr>\n",
       "      <th>bat_score</th>\n",
       "      <td>5.0</td>\n",
       "      <td>5.0</td>\n",
       "      <td>5.0</td>\n",
       "      <td>5.0</td>\n",
       "      <td>5.0</td>\n",
       "    </tr>\n",
       "    <tr>\n",
       "      <th>fld_score</th>\n",
       "      <td>7.0</td>\n",
       "      <td>7.0</td>\n",
       "      <td>7.0</td>\n",
       "      <td>7.0</td>\n",
       "      <td>7.0</td>\n",
       "    </tr>\n",
       "    <tr>\n",
       "      <th>if_fielding_alignment</th>\n",
       "      <td>Standard</td>\n",
       "      <td>Standard</td>\n",
       "      <td>Standard</td>\n",
       "      <td>Standard</td>\n",
       "      <td>Standard</td>\n",
       "    </tr>\n",
       "    <tr>\n",
       "      <th>of_fielding_alignment</th>\n",
       "      <td>Standard</td>\n",
       "      <td>Standard</td>\n",
       "      <td>Standard</td>\n",
       "      <td>Standard</td>\n",
       "      <td>Standard</td>\n",
       "    </tr>\n",
       "  </tbody>\n",
       "</table>\n",
       "</div>"
      ],
      "text/plain": [
       "index                      1778      1839      1867      1932      1956\n",
       "pitch_type                   SI        SL        SL        FF        FF\n",
       "release_speed             101.0      88.1      85.8      96.5      96.8\n",
       "batter                 606466.0  606466.0  606466.0  572233.0  572233.0\n",
       "pitcher                547973.0  547973.0  547973.0  547973.0  547973.0\n",
       "stand                         R         R         R         R         R\n",
       "p_throws                      L         L         L         L         L\n",
       "balls                       0.0       0.0       0.0       3.0       2.0\n",
       "strikes                     2.0       1.0       0.0       0.0       0.0\n",
       "on_3b                       NaN       NaN       NaN       NaN       NaN\n",
       "on_2b                  444482.0  444482.0  444482.0  444482.0  444482.0\n",
       "on_1b                  572233.0  572233.0  572233.0       NaN       NaN\n",
       "outs_when_up                2.0       2.0       2.0       2.0       2.0\n",
       "inning                      9.0       9.0       9.0       9.0       9.0\n",
       "inning_topbot               Top       Top       Top       Top       Top\n",
       "fielder_2              519222.0  519222.0  519222.0  519222.0  519222.0\n",
       "game_pk                567514.0  567514.0  567514.0  567514.0  567514.0\n",
       "at_bat_number              77.0      77.0      77.0      76.0      76.0\n",
       "pitch_number                3.0       2.0       1.0       4.0       3.0\n",
       "home_score                  7.0       7.0       7.0       7.0       7.0\n",
       "away_score                  5.0       5.0       5.0       5.0       5.0\n",
       "bat_score                   5.0       5.0       5.0       5.0       5.0\n",
       "fld_score                   7.0       7.0       7.0       7.0       7.0\n",
       "if_fielding_alignment  Standard  Standard  Standard  Standard  Standard\n",
       "of_fielding_alignment  Standard  Standard  Standard  Standard  Standard"
      ]
     },
     "execution_count": 62,
     "metadata": {},
     "output_type": "execute_result"
    }
   ],
   "source": [
    "data.head().T"
   ]
  },
  {
   "cell_type": "code",
   "execution_count": 63,
   "metadata": {},
   "outputs": [
    {
     "data": {
      "text/plain": [
       "'C:\\\\Users\\\\Louie\\\\GitHub\\\\Capstone2_Project'"
      ]
     },
     "execution_count": 63,
     "metadata": {},
     "output_type": "execute_result"
    }
   ],
   "source": [
    "pwd"
   ]
  },
  {
   "cell_type": "code",
   "execution_count": 64,
   "metadata": {},
   "outputs": [],
   "source": [
    "#data.to_csv(r'C:\\\\Users\\\\Louie\\\\GitHub\\\\Capstone2_Project\\baseball_features.csv, index=False)"
   ]
  }
 ],
 "metadata": {
  "kernelspec": {
   "display_name": "Python 3",
   "language": "python",
   "name": "python3"
  },
  "language_info": {
   "codemirror_mode": {
    "name": "ipython",
    "version": 3
   },
   "file_extension": ".py",
   "mimetype": "text/x-python",
   "name": "python",
   "nbconvert_exporter": "python",
   "pygments_lexer": "ipython3",
   "version": "3.7.6"
  }
 },
 "nbformat": 4,
 "nbformat_minor": 4
}
