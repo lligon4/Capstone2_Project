{
 "cells": [
  {
   "cell_type": "markdown",
   "metadata": {},
   "source": [
    "# Exploratory Data Analysis"
   ]
  },
  {
   "cell_type": "markdown",
   "metadata": {},
   "source": [
    "## Introduction\n",
    "\n",
    "EDA will continue the effort of predicting MLB pitch types using Statcast data. We start with 61 feature variables and the target variable of pitch_type. Given the high dimensionality of our data, we will be focused on exploring features to potentially drop and will consider conducting PCA. There will also be a need to transform our data to discover pitch sequences within a single at-bat. "
   ]
  },
  {
   "cell_type": "markdown",
   "metadata": {},
   "source": [
    "## Imports and Data Load"
   ]
  },
  {
   "cell_type": "code",
   "execution_count": 155,
   "metadata": {},
   "outputs": [],
   "source": [
    "import pandas as pd\n",
    "import numpy as np\n",
    "import matplotlib.pyplot as plt\n",
    "import seaborn as sns"
   ]
  },
  {
   "cell_type": "code",
   "execution_count": 156,
   "metadata": {},
   "outputs": [],
   "source": [
    "data = pd.read_csv('data_cleaned.csv', index_col='index')"
   ]
  },
  {
   "cell_type": "code",
   "execution_count": 157,
   "metadata": {},
   "outputs": [
    {
     "data": {
      "text/html": [
       "<div>\n",
       "<style scoped>\n",
       "    .dataframe tbody tr th:only-of-type {\n",
       "        vertical-align: middle;\n",
       "    }\n",
       "\n",
       "    .dataframe tbody tr th {\n",
       "        vertical-align: top;\n",
       "    }\n",
       "\n",
       "    .dataframe thead th {\n",
       "        text-align: right;\n",
       "    }\n",
       "</style>\n",
       "<table border=\"1\" class=\"dataframe\">\n",
       "  <thead>\n",
       "    <tr style=\"text-align: right;\">\n",
       "      <th></th>\n",
       "      <th>pitch_type</th>\n",
       "      <th>game_date</th>\n",
       "      <th>release_speed</th>\n",
       "      <th>release_pos_x</th>\n",
       "      <th>release_pos_z</th>\n",
       "      <th>batter</th>\n",
       "      <th>pitcher</th>\n",
       "      <th>events</th>\n",
       "      <th>description</th>\n",
       "      <th>zone</th>\n",
       "      <th>...</th>\n",
       "      <th>home_score</th>\n",
       "      <th>away_score</th>\n",
       "      <th>bat_score</th>\n",
       "      <th>fld_score</th>\n",
       "      <th>post_away_score</th>\n",
       "      <th>post_home_score</th>\n",
       "      <th>post_bat_score</th>\n",
       "      <th>post_fld_score</th>\n",
       "      <th>if_fielding_alignment</th>\n",
       "      <th>of_fielding_alignment</th>\n",
       "    </tr>\n",
       "    <tr>\n",
       "      <th>index</th>\n",
       "      <th></th>\n",
       "      <th></th>\n",
       "      <th></th>\n",
       "      <th></th>\n",
       "      <th></th>\n",
       "      <th></th>\n",
       "      <th></th>\n",
       "      <th></th>\n",
       "      <th></th>\n",
       "      <th></th>\n",
       "      <th></th>\n",
       "      <th></th>\n",
       "      <th></th>\n",
       "      <th></th>\n",
       "      <th></th>\n",
       "      <th></th>\n",
       "      <th></th>\n",
       "      <th></th>\n",
       "      <th></th>\n",
       "      <th></th>\n",
       "      <th></th>\n",
       "    </tr>\n",
       "  </thead>\n",
       "  <tbody>\n",
       "    <tr>\n",
       "      <th>1778</th>\n",
       "      <td>SI</td>\n",
       "      <td>2019-07-31</td>\n",
       "      <td>101.0</td>\n",
       "      <td>0.56</td>\n",
       "      <td>6.14</td>\n",
       "      <td>606466.0</td>\n",
       "      <td>547973.0</td>\n",
       "      <td>force_out</td>\n",
       "      <td>hit_into_play</td>\n",
       "      <td>6.0</td>\n",
       "      <td>...</td>\n",
       "      <td>7.0</td>\n",
       "      <td>5.0</td>\n",
       "      <td>5.0</td>\n",
       "      <td>7.0</td>\n",
       "      <td>5.0</td>\n",
       "      <td>7.0</td>\n",
       "      <td>5.0</td>\n",
       "      <td>7.0</td>\n",
       "      <td>Standard</td>\n",
       "      <td>Standard</td>\n",
       "    </tr>\n",
       "    <tr>\n",
       "      <th>1839</th>\n",
       "      <td>SL</td>\n",
       "      <td>2019-07-31</td>\n",
       "      <td>88.1</td>\n",
       "      <td>0.55</td>\n",
       "      <td>6.24</td>\n",
       "      <td>606466.0</td>\n",
       "      <td>547973.0</td>\n",
       "      <td>NaN</td>\n",
       "      <td>foul</td>\n",
       "      <td>5.0</td>\n",
       "      <td>...</td>\n",
       "      <td>7.0</td>\n",
       "      <td>5.0</td>\n",
       "      <td>5.0</td>\n",
       "      <td>7.0</td>\n",
       "      <td>5.0</td>\n",
       "      <td>7.0</td>\n",
       "      <td>5.0</td>\n",
       "      <td>7.0</td>\n",
       "      <td>Standard</td>\n",
       "      <td>Standard</td>\n",
       "    </tr>\n",
       "    <tr>\n",
       "      <th>1867</th>\n",
       "      <td>SL</td>\n",
       "      <td>2019-07-31</td>\n",
       "      <td>85.8</td>\n",
       "      <td>0.39</td>\n",
       "      <td>6.13</td>\n",
       "      <td>606466.0</td>\n",
       "      <td>547973.0</td>\n",
       "      <td>NaN</td>\n",
       "      <td>swinging_strike</td>\n",
       "      <td>13.0</td>\n",
       "      <td>...</td>\n",
       "      <td>7.0</td>\n",
       "      <td>5.0</td>\n",
       "      <td>5.0</td>\n",
       "      <td>7.0</td>\n",
       "      <td>5.0</td>\n",
       "      <td>7.0</td>\n",
       "      <td>5.0</td>\n",
       "      <td>7.0</td>\n",
       "      <td>Standard</td>\n",
       "      <td>Standard</td>\n",
       "    </tr>\n",
       "    <tr>\n",
       "      <th>1932</th>\n",
       "      <td>FF</td>\n",
       "      <td>2019-07-31</td>\n",
       "      <td>96.5</td>\n",
       "      <td>0.72</td>\n",
       "      <td>6.13</td>\n",
       "      <td>572233.0</td>\n",
       "      <td>547973.0</td>\n",
       "      <td>walk</td>\n",
       "      <td>ball</td>\n",
       "      <td>12.0</td>\n",
       "      <td>...</td>\n",
       "      <td>7.0</td>\n",
       "      <td>5.0</td>\n",
       "      <td>5.0</td>\n",
       "      <td>7.0</td>\n",
       "      <td>5.0</td>\n",
       "      <td>7.0</td>\n",
       "      <td>5.0</td>\n",
       "      <td>7.0</td>\n",
       "      <td>Standard</td>\n",
       "      <td>Standard</td>\n",
       "    </tr>\n",
       "    <tr>\n",
       "      <th>1956</th>\n",
       "      <td>FF</td>\n",
       "      <td>2019-07-31</td>\n",
       "      <td>96.8</td>\n",
       "      <td>0.50</td>\n",
       "      <td>6.16</td>\n",
       "      <td>572233.0</td>\n",
       "      <td>547973.0</td>\n",
       "      <td>NaN</td>\n",
       "      <td>ball</td>\n",
       "      <td>12.0</td>\n",
       "      <td>...</td>\n",
       "      <td>7.0</td>\n",
       "      <td>5.0</td>\n",
       "      <td>5.0</td>\n",
       "      <td>7.0</td>\n",
       "      <td>5.0</td>\n",
       "      <td>7.0</td>\n",
       "      <td>5.0</td>\n",
       "      <td>7.0</td>\n",
       "      <td>Standard</td>\n",
       "      <td>Standard</td>\n",
       "    </tr>\n",
       "  </tbody>\n",
       "</table>\n",
       "<p>5 rows × 62 columns</p>\n",
       "</div>"
      ],
      "text/plain": [
       "      pitch_type   game_date  release_speed  release_pos_x  release_pos_z  \\\n",
       "index                                                                       \n",
       "1778          SI  2019-07-31          101.0           0.56           6.14   \n",
       "1839          SL  2019-07-31           88.1           0.55           6.24   \n",
       "1867          SL  2019-07-31           85.8           0.39           6.13   \n",
       "1932          FF  2019-07-31           96.5           0.72           6.13   \n",
       "1956          FF  2019-07-31           96.8           0.50           6.16   \n",
       "\n",
       "         batter   pitcher     events      description  zone  ... home_score  \\\n",
       "index                                                        ...              \n",
       "1778   606466.0  547973.0  force_out    hit_into_play   6.0  ...        7.0   \n",
       "1839   606466.0  547973.0        NaN             foul   5.0  ...        7.0   \n",
       "1867   606466.0  547973.0        NaN  swinging_strike  13.0  ...        7.0   \n",
       "1932   572233.0  547973.0       walk             ball  12.0  ...        7.0   \n",
       "1956   572233.0  547973.0        NaN             ball  12.0  ...        7.0   \n",
       "\n",
       "      away_score bat_score  fld_score post_away_score  post_home_score  \\\n",
       "index                                                                    \n",
       "1778         5.0       5.0        7.0             5.0              7.0   \n",
       "1839         5.0       5.0        7.0             5.0              7.0   \n",
       "1867         5.0       5.0        7.0             5.0              7.0   \n",
       "1932         5.0       5.0        7.0             5.0              7.0   \n",
       "1956         5.0       5.0        7.0             5.0              7.0   \n",
       "\n",
       "       post_bat_score  post_fld_score  if_fielding_alignment  \\\n",
       "index                                                          \n",
       "1778              5.0             7.0               Standard   \n",
       "1839              5.0             7.0               Standard   \n",
       "1867              5.0             7.0               Standard   \n",
       "1932              5.0             7.0               Standard   \n",
       "1956              5.0             7.0               Standard   \n",
       "\n",
       "       of_fielding_alignment  \n",
       "index                         \n",
       "1778                Standard  \n",
       "1839                Standard  \n",
       "1867                Standard  \n",
       "1932                Standard  \n",
       "1956                Standard  \n",
       "\n",
       "[5 rows x 62 columns]"
      ]
     },
     "execution_count": 157,
     "metadata": {},
     "output_type": "execute_result"
    }
   ],
   "source": [
    "data.head()"
   ]
  },
  {
   "cell_type": "code",
   "execution_count": 158,
   "metadata": {},
   "outputs": [
    {
     "name": "stdout",
     "output_type": "stream",
     "text": [
      "<class 'pandas.core.frame.DataFrame'>\n",
      "Int64Index: 110615 entries, 1778 to 22574\n",
      "Data columns (total 62 columns):\n",
      " #   Column                 Non-Null Count   Dtype  \n",
      "---  ------                 --------------   -----  \n",
      " 0   pitch_type             110314 non-null  object \n",
      " 1   game_date              110615 non-null  object \n",
      " 2   release_speed          110327 non-null  float64\n",
      " 3   release_pos_x          110323 non-null  float64\n",
      " 4   release_pos_z          110323 non-null  float64\n",
      " 5   batter                 110615 non-null  float64\n",
      " 6   pitcher                110615 non-null  float64\n",
      " 7   events                 28216 non-null   object \n",
      " 8   description            110615 non-null  object \n",
      " 9   zone                   110323 non-null  float64\n",
      " 10  stand                  110615 non-null  object \n",
      " 11  p_throws               110615 non-null  object \n",
      " 12  type                   110615 non-null  object \n",
      " 13  hit_location           24620 non-null   float64\n",
      " 14  bb_type                19165 non-null   object \n",
      " 15  balls                  110615 non-null  float64\n",
      " 16  strikes                110615 non-null  float64\n",
      " 17  pfx_x                  110323 non-null  float64\n",
      " 18  pfx_z                  110323 non-null  float64\n",
      " 19  plate_x                110323 non-null  float64\n",
      " 20  plate_z                110323 non-null  float64\n",
      " 21  on_3b                  9956 non-null    float64\n",
      " 22  on_2b                  20231 non-null   float64\n",
      " 23  on_1b                  33138 non-null   float64\n",
      " 24  outs_when_up           110615 non-null  float64\n",
      " 25  inning                 110615 non-null  float64\n",
      " 26  inning_topbot          110615 non-null  object \n",
      " 27  hc_x                   19131 non-null   float64\n",
      " 28  hc_y                   19131 non-null   float64\n",
      " 29  fielder_2              110615 non-null  float64\n",
      " 30  vx0                    110323 non-null  float64\n",
      " 31  vy0                    110323 non-null  float64\n",
      " 32  vz0                    110323 non-null  float64\n",
      " 33  ax                     110323 non-null  float64\n",
      " 34  ay                     110323 non-null  float64\n",
      " 35  az                     110323 non-null  float64\n",
      " 36  sz_top                 110323 non-null  float64\n",
      " 37  sz_bot                 110323 non-null  float64\n",
      " 38  hit_distance_sc        29607 non-null   float64\n",
      " 39  launch_speed           30921 non-null   float64\n",
      " 40  launch_angle           30921 non-null   float64\n",
      " 41  effective_speed        110612 non-null  float64\n",
      " 42  release_spin_rate      108285 non-null  float64\n",
      " 43  release_extension      110323 non-null  float64\n",
      " 44  game_pk                110615 non-null  float64\n",
      " 45  pitcher.1              110615 non-null  float64\n",
      " 46  fielder_2.1            110615 non-null  float64\n",
      " 47  release_pos_y          110323 non-null  float64\n",
      " 48  launch_speed_angle     18969 non-null   float64\n",
      " 49  at_bat_number          110615 non-null  float64\n",
      " 50  pitch_number           110615 non-null  float64\n",
      " 51  pitch_name             110314 non-null  object \n",
      " 52  home_score             110615 non-null  float64\n",
      " 53  away_score             110615 non-null  float64\n",
      " 54  bat_score              110615 non-null  float64\n",
      " 55  fld_score              110615 non-null  float64\n",
      " 56  post_away_score        110615 non-null  float64\n",
      " 57  post_home_score        110615 non-null  float64\n",
      " 58  post_bat_score         110615 non-null  float64\n",
      " 59  post_fld_score         110615 non-null  float64\n",
      " 60  if_fielding_alignment  110602 non-null  object \n",
      " 61  of_fielding_alignment  110602 non-null  object \n",
      "dtypes: float64(50), object(12)\n",
      "memory usage: 53.2+ MB\n"
     ]
    }
   ],
   "source": [
    "data.info()"
   ]
  },
  {
   "cell_type": "markdown",
   "metadata": {},
   "source": [
    "## Data Exploration"
   ]
  },
  {
   "cell_type": "markdown",
   "metadata": {},
   "source": [
    "There are currently an excessive number of feature variables in our dataset based on the [Statcast data dictionary](https://baseballsavant.mlb.com/csv-docs 'Data Dictionary'). We will confirm this and determine the appropriate features by exploring each variable."
   ]
  },
  {
   "cell_type": "markdown",
   "metadata": {},
   "source": [
    "### Feature Variables of type 'object'"
   ]
  },
  {
   "cell_type": "markdown",
   "metadata": {},
   "source": [
    "The [Statcast data dictionary](https://baseballsavant.mlb.com/csv-docs 'Data Dictionary') will be used to help determine which features are insignificant. Starting with 'object' type features, we reserve exploration of our target feature 'pitch_type' and begin with 'game_date'."
   ]
  },
  {
   "cell_type": "code",
   "execution_count": 159,
   "metadata": {},
   "outputs": [
    {
     "data": {
      "text/plain": [
       "Index(['pitch_type', 'game_date', 'events', 'description', 'stand', 'p_throws',\n",
       "       'type', 'bb_type', 'inning_topbot', 'pitch_name',\n",
       "       'if_fielding_alignment', 'of_fielding_alignment'],\n",
       "      dtype='object')"
      ]
     },
     "execution_count": 159,
     "metadata": {},
     "output_type": "execute_result"
    }
   ],
   "source": [
    "data.select_dtypes('object').columns"
   ]
  },
  {
   "cell_type": "markdown",
   "metadata": {},
   "source": [
    "'game_date' is the date a game was played and will not determine 'pitch_type'."
   ]
  },
  {
   "cell_type": "code",
   "execution_count": 160,
   "metadata": {},
   "outputs": [],
   "source": [
    "# Do I need to confirm this or can I drop 'game_date' based on domain knowledge?\n",
    "data.drop(columns='game_date', inplace=True)"
   ]
  },
  {
   "cell_type": "markdown",
   "metadata": {},
   "source": [
    "'events' capture the various baseball events that occur within a game. An event does not happen with every pitch; however, 'description' will and it provides a reference to the outcome of each pitch. I expect 'description' to have more of an influence on 'pitch_type' than 'events'."
   ]
  },
  {
   "cell_type": "code",
   "execution_count": 161,
   "metadata": {},
   "outputs": [
    {
     "data": {
      "text/plain": [
       "field_out                       10907\n",
       "strikeout                        6522\n",
       "single                           3999\n",
       "walk                             2183\n",
       "double                           1363\n",
       "home_run                         1057\n",
       "force_out                         528\n",
       "grounded_into_double_play         525\n",
       "hit_by_pitch                      281\n",
       "field_error                       214\n",
       "sac_fly                           172\n",
       "triple                            121\n",
       "sac_bunt                          104\n",
       "double_play                        67\n",
       "fielders_choice                    64\n",
       "fielders_choice_out                41\n",
       "strikeout_double_play              24\n",
       "caught_stealing_2b                 21\n",
       "catcher_interf                      8\n",
       "batter_interference                 8\n",
       "pickoff_2b                          1\n",
       "pickoff_caught_stealing_home        1\n",
       "caught_stealing_3b                  1\n",
       "pickoff_3b                          1\n",
       "pickoff_1b                          1\n",
       "other_out                           1\n",
       "triple_play                         1\n",
       "Name: events, dtype: int64"
      ]
     },
     "execution_count": 161,
     "metadata": {},
     "output_type": "execute_result"
    }
   ],
   "source": [
    "data['events'].value_counts()"
   ]
  },
  {
   "cell_type": "code",
   "execution_count": 162,
   "metadata": {},
   "outputs": [
    {
     "data": {
      "text/plain": [
       "ball                       36706\n",
       "foul                       20130\n",
       "hit_into_play              19166\n",
       "called_strike              17882\n",
       "swinging_strike            11708\n",
       "blocked_ball                2573\n",
       "foul_tip                     967\n",
       "swinging_strike_blocked      895\n",
       "hit_by_pitch                 281\n",
       "foul_bunt                    256\n",
       "missed_bunt                   37\n",
       "pitchout                      11\n",
       "bunt_foul_tip                  3\n",
       "Name: description, dtype: int64"
      ]
     },
     "execution_count": 162,
     "metadata": {},
     "output_type": "execute_result"
    }
   ],
   "source": [
    "data['description'].value_counts()"
   ]
  },
  {
   "cell_type": "markdown",
   "metadata": {},
   "source": [
    "'stand' and 'p_throws' reference the batter and pitcher, respectively, and indicates if each is left or right handed. Pitchers could be throwing different pitch types based on where the batter stands to face him."
   ]
  },
  {
   "cell_type": "code",
   "execution_count": 163,
   "metadata": {},
   "outputs": [
    {
     "data": {
      "text/plain": [
       "R    0.581856\n",
       "L    0.418144\n",
       "Name: stand, dtype: float64"
      ]
     },
     "execution_count": 163,
     "metadata": {},
     "output_type": "execute_result"
    }
   ],
   "source": [
    "data['stand'].value_counts(normalize=True)"
   ]
  },
  {
   "cell_type": "code",
   "execution_count": 164,
   "metadata": {},
   "outputs": [
    {
     "data": {
      "text/plain": [
       "R    0.721304\n",
       "L    0.278696\n",
       "Name: p_throws, dtype: float64"
      ]
     },
     "execution_count": 164,
     "metadata": {},
     "output_type": "execute_result"
    }
   ],
   "source": [
    "data['p_throws'].value_counts(normalize=True)"
   ]
  },
  {
   "cell_type": "markdown",
   "metadata": {},
   "source": [
    "It's interesting to see the disproportionate mix of R and L between batters and hitters. Do right handed pitchers tend to throw different pitches based on the batting position? What about left handed pitchers?"
   ]
  },
  {
   "cell_type": "code",
   "execution_count": 165,
   "metadata": {},
   "outputs": [
    {
     "data": {
      "image/png": "[encoded data removed]",
      "text/plain": [
       "<Figure size 432x288 with 1 Axes>"
      ]
     },
     "metadata": {
      "needs_background": "light"
     },
     "output_type": "display_data"
    }
   ],
   "source": [
    "data_RtoR = data[(data['p_throws'] == 'R') & (data['stand'] == 'R')]\n",
    "data_RtoR.pitch_type.value_counts().plot(kind='bar');"
   ]
  },
  {
   "cell_type": "code",
   "execution_count": 166,
   "metadata": {},
   "outputs": [
    {
     "data": {
      "image/png": "[encoded data removed]",
      "text/plain": [
       "<Figure size 432x288 with 1 Axes>"
      ]
     },
     "metadata": {
      "needs_background": "light"
     },
     "output_type": "display_data"
    }
   ],
   "source": [
    "data_RtoL = data[(data['p_throws'] == 'R') & (data['stand'] == 'L')]\n",
    "data_RtoL.pitch_type.value_counts().plot(kind='bar');"
   ]
  },
  {
   "cell_type": "markdown",
   "metadata": {},
   "source": [
    "### Should I add labels and a title to the above plots and do the 4 plots need to be more compact by using subplots?\n",
    "Right handed (RH) pitchers are throwing FF the most to both sides of the plate, but there's a clear difference betweeen \n",
    "the next most frequent pitch types! A RH batter receives a lot more sliders than a LH batter while a LH batter will see a changeup more than any other pitch except fastballs. What about left handed pitchers?"
   ]
  },
  {
   "cell_type": "code",
   "execution_count": 167,
   "metadata": {},
   "outputs": [
    {
     "data": {
      "image/png": "[encoded data removed]",
      "text/plain": [
       "<Figure size 432x288 with 1 Axes>"
      ]
     },
     "metadata": {
      "needs_background": "light"
     },
     "output_type": "display_data"
    }
   ],
   "source": [
    "data_LtoR = data[(data['p_throws'] == 'L') & (data['stand'] == 'R')]\n",
    "data_LtoR.pitch_type.value_counts().plot(kind='bar');"
   ]
  },
  {
   "cell_type": "code",
   "execution_count": 168,
   "metadata": {},
   "outputs": [
    {
     "data": {
      "image/png": "[encoded data removed]",
      "text/plain": [
       "<Figure size 432x288 with 1 Axes>"
      ]
     },
     "metadata": {
      "needs_background": "light"
     },
     "output_type": "display_data"
    }
   ],
   "source": [
    "data_LtoL = data[(data['p_throws'] == 'L') & (data['stand'] == 'L')]\n",
    "data_LtoL.pitch_type.value_counts().plot(kind='bar');"
   ]
  },
  {
   "cell_type": "markdown",
   "metadata": {},
   "source": [
    "Not suprisingly, the reciprical is occuring with LH pitchers. This is due to the nature of how pitches move. A slider breaks down and away from a batter of the same orientation which is one of the more desired pitch locations to make a batter miss the ball. "
   ]
  },
  {
   "cell_type": "markdown",
   "metadata": {},
   "source": [
    "'type' is a short hand general reference to the result of each pitch: \n",
    "\n",
    "- B = ball \n",
    "- S = strike \n",
    "- X = in play\n",
    "\n",
    "It won't make sense for us to use 'type' as a predictor for the 'pitch_type' as this is a post-pitch reference. We should try to incorporate previous 'type' along with previous 'pitch_type' as potential predictor variables. We'll revisit this later with our additional data transformation efforts."
   ]
  },
  {
   "cell_type": "code",
   "execution_count": 35,
   "metadata": {},
   "outputs": [
    {
     "data": {
      "text/plain": [
       "S    51879\n",
       "B    39570\n",
       "X    19166\n",
       "Name: type, dtype: int64"
      ]
     },
     "execution_count": 35,
     "metadata": {},
     "output_type": "execute_result"
    }
   ],
   "source": [
    "data['type'].value_counts()"
   ]
  },
  {
   "cell_type": "markdown",
   "metadata": {},
   "source": [
    "'bb_type' indicates the type of batted ball. 'bb_type' will have a value only when 'type' = X (in play)."
   ]
  },
  {
   "cell_type": "code",
   "execution_count": 36,
   "metadata": {},
   "outputs": [
    {
     "data": {
      "text/plain": [
       "ground_ball    8344\n",
       "line_drive     4802\n",
       "fly_ball       4631\n",
       "popup          1388\n",
       "Name: bb_type, dtype: int64"
      ]
     },
     "execution_count": 36,
     "metadata": {},
     "output_type": "execute_result"
    }
   ],
   "source": [
    "data['bb_type'].value_counts()"
   ]
  },
  {
   "cell_type": "markdown",
   "metadata": {},
   "source": [
    "The last 3 object features indicate the inning and fielding alignment for the infield and outfield. "
   ]
  },
  {
   "cell_type": "code",
   "execution_count": 37,
   "metadata": {},
   "outputs": [
    {
     "data": {
      "text/plain": [
       "Top    56263\n",
       "Bot    54352\n",
       "Name: inning_topbot, dtype: int64"
      ]
     },
     "execution_count": 37,
     "metadata": {},
     "output_type": "execute_result"
    }
   ],
   "source": [
    "data['inning_topbot'].value_counts()"
   ]
  },
  {
   "cell_type": "code",
   "execution_count": 38,
   "metadata": {},
   "outputs": [
    {
     "data": {
      "text/plain": [
       "Standard         71739\n",
       "Infield shift    28271\n",
       "Strategic        10592\n",
       "Name: if_fielding_alignment, dtype: int64"
      ]
     },
     "execution_count": 38,
     "metadata": {},
     "output_type": "execute_result"
    }
   ],
   "source": [
    "data['if_fielding_alignment'].value_counts()"
   ]
  },
  {
   "cell_type": "code",
   "execution_count": 39,
   "metadata": {},
   "outputs": [
    {
     "data": {
      "text/plain": [
       "Standard          99249\n",
       "Strategic         11267\n",
       "4th outfielder       86\n",
       "Name: of_fielding_alignment, dtype: int64"
      ]
     },
     "execution_count": 39,
     "metadata": {},
     "output_type": "execute_result"
    }
   ],
   "source": [
    "data['of_fielding_alignment'].value_counts()"
   ]
  },
  {
   "cell_type": "markdown",
   "metadata": {},
   "source": [
    "We'll keep all of our object features for now except for 'game_date'. There may be justification later to drop additional object features"
   ]
  },
  {
   "cell_type": "markdown",
   "metadata": {},
   "source": [
    "### Feature Variables of type 'float64'"
   ]
  },
  {
   "cell_type": "markdown",
   "metadata": {},
   "source": [
    "Now we'll begin exploring variables of numeric type."
   ]
  },
  {
   "cell_type": "code",
   "execution_count": 169,
   "metadata": {},
   "outputs": [
    {
     "data": {
      "text/plain": [
       "Index(['release_speed', 'release_pos_x', 'release_pos_z', 'batter', 'pitcher',\n",
       "       'zone', 'hit_location', 'balls', 'strikes', 'pfx_x', 'pfx_z', 'plate_x',\n",
       "       'plate_z', 'on_3b', 'on_2b', 'on_1b', 'outs_when_up', 'inning', 'hc_x',\n",
       "       'hc_y', 'fielder_2', 'vx0', 'vy0', 'vz0', 'ax', 'ay', 'az', 'sz_top',\n",
       "       'sz_bot', 'hit_distance_sc', 'launch_speed', 'launch_angle',\n",
       "       'effective_speed', 'release_spin_rate', 'release_extension', 'game_pk',\n",
       "       'pitcher.1', 'fielder_2.1', 'release_pos_y', 'launch_speed_angle',\n",
       "       'at_bat_number', 'pitch_number', 'home_score', 'away_score',\n",
       "       'bat_score', 'fld_score', 'post_away_score', 'post_home_score',\n",
       "       'post_bat_score', 'post_fld_score'],\n",
       "      dtype='object')"
      ]
     },
     "execution_count": 169,
     "metadata": {},
     "output_type": "execute_result"
    }
   ],
   "source": [
    "data.select_dtypes('float64').columns"
   ]
  },
  {
   "cell_type": "markdown",
   "metadata": {},
   "source": [
    "One of two major benefits, and arguably the most valuable, in predicting pitch type is the knowledge of expected pitch speed. The other is ball movement and both are associated with pitch type. The data has reference to 2 speeds: release_speed and effective_speed. The release speed is measured by Statcast as the ball leaves the pitcher's hand, and the effective speed is a derived speed based on the extension of the pitcher's release."
   ]
  },
  {
   "cell_type": "code",
   "execution_count": 170,
   "metadata": {},
   "outputs": [
    {
     "data": {
      "text/html": [
       "<div>\n",
       "<style scoped>\n",
       "    .dataframe tbody tr th:only-of-type {\n",
       "        vertical-align: middle;\n",
       "    }\n",
       "\n",
       "    .dataframe tbody tr th {\n",
       "        vertical-align: top;\n",
       "    }\n",
       "\n",
       "    .dataframe thead th {\n",
       "        text-align: right;\n",
       "    }\n",
       "</style>\n",
       "<table border=\"1\" class=\"dataframe\">\n",
       "  <thead>\n",
       "    <tr style=\"text-align: right;\">\n",
       "      <th></th>\n",
       "      <th>release_speed</th>\n",
       "      <th>effective_speed</th>\n",
       "    </tr>\n",
       "  </thead>\n",
       "  <tbody>\n",
       "    <tr>\n",
       "      <th>count</th>\n",
       "      <td>110327.000000</td>\n",
       "      <td>110612.000000</td>\n",
       "    </tr>\n",
       "    <tr>\n",
       "      <th>mean</th>\n",
       "      <td>88.742331</td>\n",
       "      <td>88.233588</td>\n",
       "    </tr>\n",
       "    <tr>\n",
       "      <th>std</th>\n",
       "      <td>5.966305</td>\n",
       "      <td>7.743009</td>\n",
       "    </tr>\n",
       "    <tr>\n",
       "      <th>min</th>\n",
       "      <td>50.800000</td>\n",
       "      <td>0.000000</td>\n",
       "    </tr>\n",
       "    <tr>\n",
       "      <th>25%</th>\n",
       "      <td>84.500000</td>\n",
       "      <td>84.000000</td>\n",
       "    </tr>\n",
       "    <tr>\n",
       "      <th>50%</th>\n",
       "      <td>90.000000</td>\n",
       "      <td>89.700000</td>\n",
       "    </tr>\n",
       "    <tr>\n",
       "      <th>75%</th>\n",
       "      <td>93.500000</td>\n",
       "      <td>93.500000</td>\n",
       "    </tr>\n",
       "    <tr>\n",
       "      <th>max</th>\n",
       "      <td>102.300000</td>\n",
       "      <td>103.500000</td>\n",
       "    </tr>\n",
       "  </tbody>\n",
       "</table>\n",
       "</div>"
      ],
      "text/plain": [
       "       release_speed  effective_speed\n",
       "count  110327.000000    110612.000000\n",
       "mean       88.742331        88.233588\n",
       "std         5.966305         7.743009\n",
       "min        50.800000         0.000000\n",
       "25%        84.500000        84.000000\n",
       "50%        90.000000        89.700000\n",
       "75%        93.500000        93.500000\n",
       "max       102.300000       103.500000"
      ]
     },
     "execution_count": 170,
     "metadata": {},
     "output_type": "execute_result"
    }
   ],
   "source": [
    "data[['release_speed', 'effective_speed']].describe()"
   ]
  },
  {
   "cell_type": "code",
   "execution_count": 171,
   "metadata": {},
   "outputs": [
    {
     "data": {
      "text/plain": [
       "289"
      ]
     },
     "execution_count": 171,
     "metadata": {},
     "output_type": "execute_result"
    }
   ],
   "source": [
    "len(data['effective_speed'][data['effective_speed'] == 0])"
   ]
  },
  {
   "cell_type": "markdown",
   "metadata": {},
   "source": [
    "A minimum speed of 0.0 doesn't make sense. Effective speed stats are skewed by 289 zero values so we'll filter for speeds greater than 0."
   ]
  },
  {
   "cell_type": "code",
   "execution_count": 172,
   "metadata": {},
   "outputs": [
    {
     "data": {
      "text/plain": [
       "count    110323.000000\n",
       "mean         88.464723\n",
       "std           6.297918\n",
       "min          48.500000\n",
       "25%          84.000000\n",
       "50%          89.700000\n",
       "75%          93.500000\n",
       "max         103.500000\n",
       "Name: effective_speed, dtype: float64"
      ]
     },
     "execution_count": 172,
     "metadata": {},
     "output_type": "execute_result"
    }
   ],
   "source": [
    "data.loc[data['effective_speed'] > 0, 'effective_speed'].describe()"
   ]
  },
  {
   "cell_type": "markdown",
   "metadata": {},
   "source": [
    "We can see the release speed and effective speed are very close. Given the definitions of the two speeds, we'll focus on release_speed moving forward."
   ]
  },
  {
   "cell_type": "markdown",
   "metadata": {},
   "source": [
    "'release_pos_x' is defined as the horizontal release position of the ball measured in feet from the catcher's perspective, and 'release_pos_z' is defined as the vertical release position of the ball measured in feet from the catcher's perspective. We can use these 2 values to graph a 2-D representation of release position for each pitch and differentiate between a pitcher that throws left handed from right handed with 'p_throws'."
   ]
  },
  {
   "cell_type": "code",
   "execution_count": 173,
   "metadata": {},
   "outputs": [
    {
     "data": {
      "image/png": "[encoded data removed]",
      "text/plain": [
       "<Figure size 720x432 with 1 Axes>"
      ]
     },
     "metadata": {
      "needs_background": "light"
     },
     "output_type": "display_data"
    }
   ],
   "source": [
    "plt.figure(figsize = (10,6))\n",
    "sns.scatterplot(x='release_pos_x', y='release_pos_z', data=data, hue='p_throws', alpha=0.8);"
   ]
  },
  {
   "cell_type": "markdown",
   "metadata": {},
   "source": [
    "While this is interesting, we can't rely on the position of the pitch to help determine 'pitch_type'. A 100 mph fastball will reach the plate in less than 500 milliseconds. This is obviously not enough time to identify the release position, predict the pitch, and communicate the prediction."
   ]
  },
  {
   "cell_type": "code",
   "execution_count": 174,
   "metadata": {},
   "outputs": [],
   "source": [
    "data.drop(columns=['release_pos_x', 'release_pos_z', 'effective_speed'], inplace=True)"
   ]
  },
  {
   "cell_type": "markdown",
   "metadata": {},
   "source": [
    "'batter', 'pitcher', 'on_1b', 'on_2b', 'on_3b', 'fielder_2', 'fielder_2.1', and 'pitcher.1' are all numerical identifiers and so descriptive statistics are not meaningful. I suspect that 'fielder_2.1' and 'pitcher.1' are duplicates of 'fielder_2' and 'pitcher', so let's at least see what the stats look like for those:"
   ]
  },
  {
   "cell_type": "code",
   "execution_count": 175,
   "metadata": {},
   "outputs": [
    {
     "data": {
      "text/html": [
       "<div>\n",
       "<style scoped>\n",
       "    .dataframe tbody tr th:only-of-type {\n",
       "        vertical-align: middle;\n",
       "    }\n",
       "\n",
       "    .dataframe tbody tr th {\n",
       "        vertical-align: top;\n",
       "    }\n",
       "\n",
       "    .dataframe thead th {\n",
       "        text-align: right;\n",
       "    }\n",
       "</style>\n",
       "<table border=\"1\" class=\"dataframe\">\n",
       "  <thead>\n",
       "    <tr style=\"text-align: right;\">\n",
       "      <th></th>\n",
       "      <th>fielder_2</th>\n",
       "      <th>fielder_2.1</th>\n",
       "      <th>pitcher</th>\n",
       "      <th>pitcher.1</th>\n",
       "    </tr>\n",
       "  </thead>\n",
       "  <tbody>\n",
       "    <tr>\n",
       "      <th>count</th>\n",
       "      <td>110615.000000</td>\n",
       "      <td>110615.000000</td>\n",
       "      <td>110615.000000</td>\n",
       "      <td>110615.000000</td>\n",
       "    </tr>\n",
       "    <tr>\n",
       "      <th>mean</th>\n",
       "      <td>545935.081842</td>\n",
       "      <td>545935.081842</td>\n",
       "      <td>572594.659793</td>\n",
       "      <td>572594.659793</td>\n",
       "    </tr>\n",
       "    <tr>\n",
       "      <th>std</th>\n",
       "      <td>66114.784146</td>\n",
       "      <td>66114.784146</td>\n",
       "      <td>67262.753649</td>\n",
       "      <td>67262.753649</td>\n",
       "    </tr>\n",
       "    <tr>\n",
       "      <th>min</th>\n",
       "      <td>425772.000000</td>\n",
       "      <td>425772.000000</td>\n",
       "      <td>282332.000000</td>\n",
       "      <td>282332.000000</td>\n",
       "    </tr>\n",
       "    <tr>\n",
       "      <th>25%</th>\n",
       "      <td>488771.000000</td>\n",
       "      <td>488771.000000</td>\n",
       "      <td>519443.000000</td>\n",
       "      <td>519443.000000</td>\n",
       "    </tr>\n",
       "    <tr>\n",
       "      <th>50%</th>\n",
       "      <td>547172.000000</td>\n",
       "      <td>547172.000000</td>\n",
       "      <td>592858.000000</td>\n",
       "      <td>592858.000000</td>\n",
       "    </tr>\n",
       "    <tr>\n",
       "      <th>75%</th>\n",
       "      <td>595978.000000</td>\n",
       "      <td>595978.000000</td>\n",
       "      <td>621366.000000</td>\n",
       "      <td>621366.000000</td>\n",
       "    </tr>\n",
       "    <tr>\n",
       "      <th>max</th>\n",
       "      <td>669257.000000</td>\n",
       "      <td>669257.000000</td>\n",
       "      <td>673633.000000</td>\n",
       "      <td>673633.000000</td>\n",
       "    </tr>\n",
       "  </tbody>\n",
       "</table>\n",
       "</div>"
      ],
      "text/plain": [
       "           fielder_2    fielder_2.1        pitcher      pitcher.1\n",
       "count  110615.000000  110615.000000  110615.000000  110615.000000\n",
       "mean   545935.081842  545935.081842  572594.659793  572594.659793\n",
       "std     66114.784146   66114.784146   67262.753649   67262.753649\n",
       "min    425772.000000  425772.000000  282332.000000  282332.000000\n",
       "25%    488771.000000  488771.000000  519443.000000  519443.000000\n",
       "50%    547172.000000  547172.000000  592858.000000  592858.000000\n",
       "75%    595978.000000  595978.000000  621366.000000  621366.000000\n",
       "max    669257.000000  669257.000000  673633.000000  673633.000000"
      ]
     },
     "execution_count": 175,
     "metadata": {},
     "output_type": "execute_result"
    }
   ],
   "source": [
    "data[['fielder_2', 'fielder_2.1', 'pitcher', 'pitcher.1']].describe()"
   ]
  },
  {
   "cell_type": "markdown",
   "metadata": {},
   "source": [
    "Confirmed! The fields have identical descriptive statistics and can be considered duplicate columns. "
   ]
  },
  {
   "cell_type": "code",
   "execution_count": 176,
   "metadata": {},
   "outputs": [],
   "source": [
    "data.drop(columns=['fielder_2.1', 'pitcher.1'], inplace=True)"
   ]
  },
  {
   "cell_type": "markdown",
   "metadata": {},
   "source": [
    "The count of balls, strikes, and outs are fundamental metrics in baseball. For any given pitch, there should be a maximum of 3 balls, 2 strikes, and 2 outs. When a pitch results in a 4th ball, 3rd strike, or 3rd out, the batter changes and the pitch count will reset. We don't see those counts in the data because it is pre-pitch data that we're working with, as desired."
   ]
  },
  {
   "cell_type": "code",
   "execution_count": 177,
   "metadata": {},
   "outputs": [
    {
     "data": {
      "text/html": [
       "<div>\n",
       "<style scoped>\n",
       "    .dataframe tbody tr th:only-of-type {\n",
       "        vertical-align: middle;\n",
       "    }\n",
       "\n",
       "    .dataframe tbody tr th {\n",
       "        vertical-align: top;\n",
       "    }\n",
       "\n",
       "    .dataframe thead th {\n",
       "        text-align: right;\n",
       "    }\n",
       "</style>\n",
       "<table border=\"1\" class=\"dataframe\">\n",
       "  <thead>\n",
       "    <tr style=\"text-align: right;\">\n",
       "      <th></th>\n",
       "      <th>balls</th>\n",
       "      <th>strikes</th>\n",
       "      <th>outs_when_up</th>\n",
       "    </tr>\n",
       "  </thead>\n",
       "  <tbody>\n",
       "    <tr>\n",
       "      <th>count</th>\n",
       "      <td>110615.000000</td>\n",
       "      <td>110615.000000</td>\n",
       "      <td>110615.000000</td>\n",
       "    </tr>\n",
       "    <tr>\n",
       "      <th>mean</th>\n",
       "      <td>0.882602</td>\n",
       "      <td>0.901894</td>\n",
       "      <td>0.978782</td>\n",
       "    </tr>\n",
       "    <tr>\n",
       "      <th>std</th>\n",
       "      <td>0.968063</td>\n",
       "      <td>0.828099</td>\n",
       "      <td>0.817827</td>\n",
       "    </tr>\n",
       "    <tr>\n",
       "      <th>min</th>\n",
       "      <td>0.000000</td>\n",
       "      <td>0.000000</td>\n",
       "      <td>0.000000</td>\n",
       "    </tr>\n",
       "    <tr>\n",
       "      <th>25%</th>\n",
       "      <td>0.000000</td>\n",
       "      <td>0.000000</td>\n",
       "      <td>0.000000</td>\n",
       "    </tr>\n",
       "    <tr>\n",
       "      <th>50%</th>\n",
       "      <td>1.000000</td>\n",
       "      <td>1.000000</td>\n",
       "      <td>1.000000</td>\n",
       "    </tr>\n",
       "    <tr>\n",
       "      <th>75%</th>\n",
       "      <td>2.000000</td>\n",
       "      <td>2.000000</td>\n",
       "      <td>2.000000</td>\n",
       "    </tr>\n",
       "    <tr>\n",
       "      <th>max</th>\n",
       "      <td>3.000000</td>\n",
       "      <td>2.000000</td>\n",
       "      <td>2.000000</td>\n",
       "    </tr>\n",
       "  </tbody>\n",
       "</table>\n",
       "</div>"
      ],
      "text/plain": [
       "               balls        strikes   outs_when_up\n",
       "count  110615.000000  110615.000000  110615.000000\n",
       "mean        0.882602       0.901894       0.978782\n",
       "std         0.968063       0.828099       0.817827\n",
       "min         0.000000       0.000000       0.000000\n",
       "25%         0.000000       0.000000       0.000000\n",
       "50%         1.000000       1.000000       1.000000\n",
       "75%         2.000000       2.000000       2.000000\n",
       "max         3.000000       2.000000       2.000000"
      ]
     },
     "execution_count": 177,
     "metadata": {},
     "output_type": "execute_result"
    }
   ],
   "source": [
    "data[['balls', 'strikes', 'outs_when_up']].describe()"
   ]
  },
  {
   "cell_type": "code",
   "execution_count": 178,
   "metadata": {},
   "outputs": [
    {
     "data": {
      "text/plain": [
       "balls           0\n",
       "strikes         0\n",
       "outs_when_up    0\n",
       "dtype: int64"
      ]
     },
     "execution_count": 178,
     "metadata": {},
     "output_type": "execute_result"
    }
   ],
   "source": [
    "data[['balls', 'strikes', 'outs_when_up']].isnull().sum()"
   ]
  },
  {
   "cell_type": "markdown",
   "metadata": {},
   "source": [
    "These features appear as expected and do not have any null values to address. *What does the pitch distribution look like for the variety of these features?*"
   ]
  },
  {
   "cell_type": "markdown",
   "metadata": {},
   "source": [
    "The 'hit_location' is an integer value (1-9) for the position player that first touches the hit ball. 'zone', 'pfx_x', 'pfx_z', 'plate_x', 'plate_z', 'hc_x', 'hc_y', 'vx0', 'vy0', 'vz0', 'ax', 'ay', 'az', 'sz_top', 'sz_bot', 'hit_distance_sc', 'launch_speed', 'launch_angle', 'release_spin_rate', 'release_extension', 'release_pos_y', 'launch_speed_angle' are all movement, position, or velocity references to the pitch or hit ball. While some of these features will certainly help predict pitch type, it wouldn't be practical for our use as the pitch has to occur in order to gather this information. Our aim is to predict 'pitch_type' with only the information we have before a pitch is thrown.  "
   ]
  },
  {
   "cell_type": "code",
   "execution_count": 180,
   "metadata": {},
   "outputs": [],
   "source": [
    "data.drop(columns=['hit_location', 'zone', 'pfx_x', 'pfx_z', 'plate_x', 'plate_z', 'hc_x', 'hc_y', 'vx0', 'vy0', 'vz0', \n",
    "                   'ax', 'ay', 'az', 'sz_top', 'sz_bot', 'hit_distance_sc', 'launch_speed', 'launch_angle', \n",
    "                   'release_spin_rate', 'release_extension', 'release_pos_y', 'launch_speed_angle'], inplace=True)"
   ]
  },
  {
   "cell_type": "markdown",
   "metadata": {},
   "source": [
    "Finally, we know that the last 4 object categories starting with 'post_' are post-pitch references and again do not align \n",
    "with our intentions."
   ]
  },
  {
   "cell_type": "code",
   "execution_count": 181,
   "metadata": {},
   "outputs": [],
   "source": [
    "data.drop(columns=['post_away_score', 'post_home_score', 'post_bat_score', 'post_fld_score'], inplace=True)"
   ]
  },
  {
   "cell_type": "code",
   "execution_count": 182,
   "metadata": {},
   "outputs": [
    {
     "data": {
      "text/plain": [
       "Index(['release_speed', 'batter', 'pitcher', 'balls', 'strikes', 'on_3b',\n",
       "       'on_2b', 'on_1b', 'outs_when_up', 'inning', 'fielder_2', 'game_pk',\n",
       "       'at_bat_number', 'pitch_number', 'home_score', 'away_score',\n",
       "       'bat_score', 'fld_score'],\n",
       "      dtype='object')"
      ]
     },
     "execution_count": 182,
     "metadata": {},
     "output_type": "execute_result"
    }
   ],
   "source": [
    "data.select_dtypes('float64').columns"
   ]
  },
  {
   "cell_type": "code",
   "execution_count": 185,
   "metadata": {},
   "outputs": [
    {
     "name": "stdout",
     "output_type": "stream",
     "text": [
      "Index(['pitch_type', 'release_speed', 'batter', 'pitcher', 'events',\n",
      "       'description', 'stand', 'p_throws', 'type', 'bb_type', 'balls',\n",
      "       'strikes', 'on_3b', 'on_2b', 'on_1b', 'outs_when_up', 'inning',\n",
      "       'inning_topbot', 'fielder_2', 'game_pk', 'at_bat_number',\n",
      "       'pitch_number', 'pitch_name', 'home_score', 'away_score', 'bat_score',\n",
      "       'fld_score', 'if_fielding_alignment', 'of_fielding_alignment'],\n",
      "      dtype='object')\n"
     ]
    },
    {
     "data": {
      "text/plain": [
       "29"
      ]
     },
     "execution_count": 185,
     "metadata": {},
     "output_type": "execute_result"
    }
   ],
   "source": [
    "print(data.columns)\n",
    "len(data.columns)"
   ]
  },
  {
   "cell_type": "markdown",
   "metadata": {},
   "source": [
    "We know have less than 30 features plus our target feature. Let's dive into our target feature, 'pitch_type'. We'll see what we can discover within and how 'pitch_type' relates to other features."
   ]
  },
  {
   "cell_type": "markdown",
   "metadata": {},
   "source": [
    "### Target Variable: pitch_type"
   ]
  },
  {
   "cell_type": "markdown",
   "metadata": {},
   "source": [
    "We start by diving into our target feature, 'pitch_type'. Pitch type is defined as the type of pitch derived from Statcast. It is possible that the Statcast system occasionally misclassifies a pitch type but we may not have a way to determine if and when this happens. The statcast pitch type abbreviations are associated with the following pitch types:\n",
    "\n",
    "- Changeup (CH)\n",
    "- Curveball (CU)\n",
    "- Cutter (FC)\n",
    "- Eephus (EP)\n",
    "- Forkball (FO)\n",
    "- Four-Seam Fastball (FF)\n",
    "- Knuckleball (KN)\n",
    "- Knuckle-curve (KC)\n",
    "- Screwball (SC)\n",
    "- Sinker (SI)\n",
    "- Slider (SL)\n",
    "- Splitter (FS)\n",
    "- Two-Seam Fastball (FT)"
   ]
  },
  {
   "cell_type": "code",
   "execution_count": 186,
   "metadata": {},
   "outputs": [
    {
     "data": {
      "text/plain": [
       "array(['SI', 'SL', 'FF', 'CH', 'FS', 'FC', 'FT', 'EP', 'CU', 'KC', nan,\n",
       "       'FO', 'KN'], dtype=object)"
      ]
     },
     "execution_count": 186,
     "metadata": {},
     "output_type": "execute_result"
    }
   ],
   "source": [
    "data['pitch_type'].unique()"
   ]
  },
  {
   "cell_type": "markdown",
   "metadata": {},
   "source": [
    "Every pitch type except SC (screwball) is represented in the data. This is not surprising given the difficulty of throwing this pitch. In fact, New York Daily News reports no one has thrown a SC in 2019 as of 7/21/19. Our data is from July 2019."
   ]
  },
  {
   "cell_type": "code",
   "execution_count": 187,
   "metadata": {},
   "outputs": [
    {
     "data": {
      "image/png": "[encoded data removed]",
      "text/plain": [
       "<Figure size 432x288 with 1 Axes>"
      ]
     },
     "metadata": {
      "needs_background": "light"
     },
     "output_type": "display_data"
    }
   ],
   "source": [
    "data.pitch_type.value_counts().plot(kind='bar');"
   ]
  },
  {
   "cell_type": "markdown",
   "metadata": {},
   "source": [
    "FF is the most frequent pitch type with 36.3% of all pitches. SL and CH are the only other types with more than 10% at 17.8% and 11.2% respectively. "
   ]
  },
  {
   "cell_type": "code",
   "execution_count": 188,
   "metadata": {},
   "outputs": [
    {
     "data": {
      "text/html": [
       "<div>\n",
       "<style scoped>\n",
       "    .dataframe tbody tr th:only-of-type {\n",
       "        vertical-align: middle;\n",
       "    }\n",
       "\n",
       "    .dataframe tbody tr th {\n",
       "        vertical-align: top;\n",
       "    }\n",
       "\n",
       "    .dataframe thead th {\n",
       "        text-align: right;\n",
       "    }\n",
       "</style>\n",
       "<table border=\"1\" class=\"dataframe\">\n",
       "  <thead>\n",
       "    <tr style=\"text-align: right;\">\n",
       "      <th></th>\n",
       "      <th>%</th>\n",
       "      <th>count</th>\n",
       "    </tr>\n",
       "  </thead>\n",
       "  <tbody>\n",
       "    <tr>\n",
       "      <th>FF</th>\n",
       "      <td>36.3</td>\n",
       "      <td>40020</td>\n",
       "    </tr>\n",
       "    <tr>\n",
       "      <th>SL</th>\n",
       "      <td>17.8</td>\n",
       "      <td>19666</td>\n",
       "    </tr>\n",
       "    <tr>\n",
       "      <th>CH</th>\n",
       "      <td>11.2</td>\n",
       "      <td>12350</td>\n",
       "    </tr>\n",
       "    <tr>\n",
       "      <th>FT</th>\n",
       "      <td>8.7</td>\n",
       "      <td>9638</td>\n",
       "    </tr>\n",
       "    <tr>\n",
       "      <th>CU</th>\n",
       "      <td>8.3</td>\n",
       "      <td>9160</td>\n",
       "    </tr>\n",
       "    <tr>\n",
       "      <th>SI</th>\n",
       "      <td>7.4</td>\n",
       "      <td>8181</td>\n",
       "    </tr>\n",
       "    <tr>\n",
       "      <th>FC</th>\n",
       "      <td>6.5</td>\n",
       "      <td>7153</td>\n",
       "    </tr>\n",
       "    <tr>\n",
       "      <th>KC</th>\n",
       "      <td>2.3</td>\n",
       "      <td>2586</td>\n",
       "    </tr>\n",
       "    <tr>\n",
       "      <th>FS</th>\n",
       "      <td>1.3</td>\n",
       "      <td>1480</td>\n",
       "    </tr>\n",
       "    <tr>\n",
       "      <th>KN</th>\n",
       "      <td>0.0</td>\n",
       "      <td>50</td>\n",
       "    </tr>\n",
       "    <tr>\n",
       "      <th>FO</th>\n",
       "      <td>0.0</td>\n",
       "      <td>25</td>\n",
       "    </tr>\n",
       "    <tr>\n",
       "      <th>EP</th>\n",
       "      <td>0.0</td>\n",
       "      <td>5</td>\n",
       "    </tr>\n",
       "  </tbody>\n",
       "</table>\n",
       "</div>"
      ],
      "text/plain": [
       "       %  count\n",
       "FF  36.3  40020\n",
       "SL  17.8  19666\n",
       "CH  11.2  12350\n",
       "FT   8.7   9638\n",
       "CU   8.3   9160\n",
       "SI   7.4   8181\n",
       "FC   6.5   7153\n",
       "KC   2.3   2586\n",
       "FS   1.3   1480\n",
       "KN   0.0     50\n",
       "FO   0.0     25\n",
       "EP   0.0      5"
      ]
     },
     "execution_count": 188,
     "metadata": {},
     "output_type": "execute_result"
    }
   ],
   "source": [
    "pitch_counts = pd.concat([100 * data['pitch_type'].value_counts(normalize=True).round(3), \n",
    "                          data['pitch_type'].value_counts()], axis=1)\n",
    "pitch_counts.columns = ['%', 'count']\n",
    "pitch_counts"
   ]
  },
  {
   "cell_type": "markdown",
   "metadata": {},
   "source": [
    "KN, FO, and EP have exceptionally low counts. This is expected as these 3 types of pitches are very difficult to throw and are rarely seen in MLB. Let's take a look at the pitchers that are capable of these pitches."
   ]
  },
  {
   "cell_type": "code",
   "execution_count": 189,
   "metadata": {},
   "outputs": [
    {
     "data": {
      "text/plain": [
       "array([453214.])"
      ]
     },
     "execution_count": 189,
     "metadata": {},
     "output_type": "execute_result"
    }
   ],
   "source": [
    "data.loc[data['pitch_type'] == 'KN', 'pitcher'].unique()"
   ]
  },
  {
   "cell_type": "code",
   "execution_count": 190,
   "metadata": {},
   "outputs": [
    {
     "data": {
      "text/plain": [
       "array([571539.])"
      ]
     },
     "execution_count": 190,
     "metadata": {},
     "output_type": "execute_result"
    }
   ],
   "source": [
    "data.loc[data['pitch_type'] == 'FO', 'pitcher'].unique()"
   ]
  },
  {
   "cell_type": "code",
   "execution_count": 191,
   "metadata": {},
   "outputs": [
    {
     "data": {
      "text/plain": [
       "array([425844., 506433.])"
      ]
     },
     "execution_count": 191,
     "metadata": {},
     "output_type": "execute_result"
    }
   ],
   "source": [
    "data.loc[data['pitch_type'] == 'EP', 'pitcher'].unique()"
   ]
  },
  {
   "cell_type": "markdown",
   "metadata": {},
   "source": [
    "One pitcher is responsible for each of the two types KN and FO. Somewhat unexpectedly given a count of 5, the EP pitch type was thrown by 2 different pitchers. The EP (eephus) is an extremely slow pitch that is usually thrown in jest or as an attempt to aggitate your opponent."
   ]
  },
  {
   "cell_type": "markdown",
   "metadata": {},
   "source": [
    "## Speed vs. Pitch Type"
   ]
  },
  {
   "cell_type": "code",
   "execution_count": 192,
   "metadata": {},
   "outputs": [
    {
     "data": {
      "image/png": "[encoded data removed]",
      "text/plain": [
       "<Figure size 864x576 with 1 Axes>"
      ]
     },
     "metadata": {
      "needs_background": "light"
     },
     "output_type": "display_data"
    }
   ],
   "source": [
    "plt.subplots(figsize=(12, 8))\n",
    "sns.boxplot(x='pitch_type', y='release_speed', hue='p_throws', data=data)\n",
    "plt.xticks(rotation='horizontal')\n",
    "plt.ylabel('Speed')\n",
    "plt.xlabel('Pitch Type');"
   ]
  },
  {
   "cell_type": "markdown",
   "metadata": {},
   "source": [
    "Here we can see how speed varies by pitch type. A batter's swing timing will depend on the speed of the pitch. The box plot above shows how a FF is much faster than a SL or CH. Note that right handed pitchers tend to throw faster pitches for all pitch types. They also have a larger range, especially on the slow end, than left handed pitchers. The range is most likely due to the higher count of right handers.\n",
    "\n",
    "Pitch speed is not post-pitch data, so it won't be used to predict 'pitch_type'. Instead, this illustrates some of the value in predicting pitch type as a batter can be better prepared for the timing of his swing."
   ]
  },
  {
   "cell_type": "markdown",
   "metadata": {},
   "source": [
    "## Data Transformation"
   ]
  },
  {
   "cell_type": "code",
   "execution_count": 50,
   "metadata": {},
   "outputs": [
    {
     "data": {
      "text/html": [
       "<div>\n",
       "<style scoped>\n",
       "    .dataframe tbody tr th:only-of-type {\n",
       "        vertical-align: middle;\n",
       "    }\n",
       "\n",
       "    .dataframe tbody tr th {\n",
       "        vertical-align: top;\n",
       "    }\n",
       "\n",
       "    .dataframe thead th {\n",
       "        text-align: right;\n",
       "    }\n",
       "</style>\n",
       "<table border=\"1\" class=\"dataframe\">\n",
       "  <thead>\n",
       "    <tr style=\"text-align: right;\">\n",
       "      <th></th>\n",
       "      <th>game_pk</th>\n",
       "      <th>at_bat_number</th>\n",
       "      <th>pitch_number</th>\n",
       "      <th>pitch_type</th>\n",
       "      <th>balls</th>\n",
       "      <th>strikes</th>\n",
       "      <th>outs_when_up</th>\n",
       "      <th>inning</th>\n",
       "      <th>on_3b</th>\n",
       "      <th>on_2b</th>\n",
       "      <th>on_1b</th>\n",
       "    </tr>\n",
       "    <tr>\n",
       "      <th>index</th>\n",
       "      <th></th>\n",
       "      <th></th>\n",
       "      <th></th>\n",
       "      <th></th>\n",
       "      <th></th>\n",
       "      <th></th>\n",
       "      <th></th>\n",
       "      <th></th>\n",
       "      <th></th>\n",
       "      <th></th>\n",
       "      <th></th>\n",
       "    </tr>\n",
       "  </thead>\n",
       "  <tbody>\n",
       "    <tr>\n",
       "      <th>1778</th>\n",
       "      <td>567514.0</td>\n",
       "      <td>77.0</td>\n",
       "      <td>3.0</td>\n",
       "      <td>SI</td>\n",
       "      <td>0.0</td>\n",
       "      <td>2.0</td>\n",
       "      <td>2.0</td>\n",
       "      <td>9.0</td>\n",
       "      <td>NaN</td>\n",
       "      <td>444482.0</td>\n",
       "      <td>572233.0</td>\n",
       "    </tr>\n",
       "    <tr>\n",
       "      <th>1839</th>\n",
       "      <td>567514.0</td>\n",
       "      <td>77.0</td>\n",
       "      <td>2.0</td>\n",
       "      <td>SL</td>\n",
       "      <td>0.0</td>\n",
       "      <td>1.0</td>\n",
       "      <td>2.0</td>\n",
       "      <td>9.0</td>\n",
       "      <td>NaN</td>\n",
       "      <td>444482.0</td>\n",
       "      <td>572233.0</td>\n",
       "    </tr>\n",
       "    <tr>\n",
       "      <th>1867</th>\n",
       "      <td>567514.0</td>\n",
       "      <td>77.0</td>\n",
       "      <td>1.0</td>\n",
       "      <td>SL</td>\n",
       "      <td>0.0</td>\n",
       "      <td>0.0</td>\n",
       "      <td>2.0</td>\n",
       "      <td>9.0</td>\n",
       "      <td>NaN</td>\n",
       "      <td>444482.0</td>\n",
       "      <td>572233.0</td>\n",
       "    </tr>\n",
       "    <tr>\n",
       "      <th>1932</th>\n",
       "      <td>567514.0</td>\n",
       "      <td>76.0</td>\n",
       "      <td>4.0</td>\n",
       "      <td>FF</td>\n",
       "      <td>3.0</td>\n",
       "      <td>0.0</td>\n",
       "      <td>2.0</td>\n",
       "      <td>9.0</td>\n",
       "      <td>NaN</td>\n",
       "      <td>444482.0</td>\n",
       "      <td>NaN</td>\n",
       "    </tr>\n",
       "    <tr>\n",
       "      <th>1956</th>\n",
       "      <td>567514.0</td>\n",
       "      <td>76.0</td>\n",
       "      <td>3.0</td>\n",
       "      <td>FF</td>\n",
       "      <td>2.0</td>\n",
       "      <td>0.0</td>\n",
       "      <td>2.0</td>\n",
       "      <td>9.0</td>\n",
       "      <td>NaN</td>\n",
       "      <td>444482.0</td>\n",
       "      <td>NaN</td>\n",
       "    </tr>\n",
       "  </tbody>\n",
       "</table>\n",
       "</div>"
      ],
      "text/plain": [
       "        game_pk  at_bat_number  pitch_number pitch_type  balls  strikes  \\\n",
       "index                                                                     \n",
       "1778   567514.0           77.0           3.0         SI    0.0      2.0   \n",
       "1839   567514.0           77.0           2.0         SL    0.0      1.0   \n",
       "1867   567514.0           77.0           1.0         SL    0.0      0.0   \n",
       "1932   567514.0           76.0           4.0         FF    3.0      0.0   \n",
       "1956   567514.0           76.0           3.0         FF    2.0      0.0   \n",
       "\n",
       "       outs_when_up  inning  on_3b     on_2b     on_1b  \n",
       "index                                                   \n",
       "1778            2.0     9.0    NaN  444482.0  572233.0  \n",
       "1839            2.0     9.0    NaN  444482.0  572233.0  \n",
       "1867            2.0     9.0    NaN  444482.0  572233.0  \n",
       "1932            2.0     9.0    NaN  444482.0       NaN  \n",
       "1956            2.0     9.0    NaN  444482.0       NaN  "
      ]
     },
     "execution_count": 50,
     "metadata": {},
     "output_type": "execute_result"
    }
   ],
   "source": [
    "basics = data[['game_pk', 'at_bat_number', 'pitch_number', 'pitch_type', 'balls', 'strikes', 'outs_when_up', 'inning', \n",
    "               'on_3b', 'on_2b', 'on_1b']]\n",
    "basics.head()"
   ]
  },
  {
   "cell_type": "code",
   "execution_count": 62,
   "metadata": {},
   "outputs": [],
   "source": [
    "pitches = pd.pivot(basics, index=['game_pk', 'at_bat_number'], columns='pitch_number', values='pitch_type')"
   ]
  },
  {
   "cell_type": "code",
   "execution_count": 63,
   "metadata": {},
   "outputs": [
    {
     "data": {
      "text/html": [
       "<div>\n",
       "<style scoped>\n",
       "    .dataframe tbody tr th:only-of-type {\n",
       "        vertical-align: middle;\n",
       "    }\n",
       "\n",
       "    .dataframe tbody tr th {\n",
       "        vertical-align: top;\n",
       "    }\n",
       "\n",
       "    .dataframe thead th {\n",
       "        text-align: right;\n",
       "    }\n",
       "</style>\n",
       "<table border=\"1\" class=\"dataframe\">\n",
       "  <thead>\n",
       "    <tr style=\"text-align: right;\">\n",
       "      <th></th>\n",
       "      <th>pitch_number</th>\n",
       "      <th>1.0</th>\n",
       "      <th>2.0</th>\n",
       "      <th>3.0</th>\n",
       "      <th>4.0</th>\n",
       "      <th>5.0</th>\n",
       "      <th>6.0</th>\n",
       "      <th>7.0</th>\n",
       "      <th>8.0</th>\n",
       "      <th>9.0</th>\n",
       "      <th>10.0</th>\n",
       "      <th>11.0</th>\n",
       "      <th>12.0</th>\n",
       "      <th>13.0</th>\n",
       "    </tr>\n",
       "    <tr>\n",
       "      <th>game_pk</th>\n",
       "      <th>at_bat_number</th>\n",
       "      <th></th>\n",
       "      <th></th>\n",
       "      <th></th>\n",
       "      <th></th>\n",
       "      <th></th>\n",
       "      <th></th>\n",
       "      <th></th>\n",
       "      <th></th>\n",
       "      <th></th>\n",
       "      <th></th>\n",
       "      <th></th>\n",
       "      <th></th>\n",
       "      <th></th>\n",
       "    </tr>\n",
       "  </thead>\n",
       "  <tbody>\n",
       "    <tr>\n",
       "      <th rowspan=\"5\" valign=\"top\">564777.0</th>\n",
       "      <th>1.0</th>\n",
       "      <td>CH</td>\n",
       "      <td>CH</td>\n",
       "      <td>CH</td>\n",
       "      <td>CH</td>\n",
       "      <td>NaN</td>\n",
       "      <td>NaN</td>\n",
       "      <td>NaN</td>\n",
       "      <td>NaN</td>\n",
       "      <td>NaN</td>\n",
       "      <td>NaN</td>\n",
       "      <td>NaN</td>\n",
       "      <td>NaN</td>\n",
       "      <td>NaN</td>\n",
       "    </tr>\n",
       "    <tr>\n",
       "      <th>2.0</th>\n",
       "      <td>FF</td>\n",
       "      <td>SL</td>\n",
       "      <td>FC</td>\n",
       "      <td>CH</td>\n",
       "      <td>NaN</td>\n",
       "      <td>NaN</td>\n",
       "      <td>NaN</td>\n",
       "      <td>NaN</td>\n",
       "      <td>NaN</td>\n",
       "      <td>NaN</td>\n",
       "      <td>NaN</td>\n",
       "      <td>NaN</td>\n",
       "      <td>NaN</td>\n",
       "    </tr>\n",
       "    <tr>\n",
       "      <th>3.0</th>\n",
       "      <td>SL</td>\n",
       "      <td>FF</td>\n",
       "      <td>FF</td>\n",
       "      <td>FF</td>\n",
       "      <td>NaN</td>\n",
       "      <td>NaN</td>\n",
       "      <td>NaN</td>\n",
       "      <td>NaN</td>\n",
       "      <td>NaN</td>\n",
       "      <td>NaN</td>\n",
       "      <td>NaN</td>\n",
       "      <td>NaN</td>\n",
       "      <td>NaN</td>\n",
       "    </tr>\n",
       "    <tr>\n",
       "      <th>4.0</th>\n",
       "      <td>SI</td>\n",
       "      <td>FC</td>\n",
       "      <td>CH</td>\n",
       "      <td>CH</td>\n",
       "      <td>KC</td>\n",
       "      <td>FF</td>\n",
       "      <td>FC</td>\n",
       "      <td>NaN</td>\n",
       "      <td>NaN</td>\n",
       "      <td>NaN</td>\n",
       "      <td>NaN</td>\n",
       "      <td>NaN</td>\n",
       "      <td>NaN</td>\n",
       "    </tr>\n",
       "    <tr>\n",
       "      <th>5.0</th>\n",
       "      <td>SI</td>\n",
       "      <td>NaN</td>\n",
       "      <td>NaN</td>\n",
       "      <td>NaN</td>\n",
       "      <td>NaN</td>\n",
       "      <td>NaN</td>\n",
       "      <td>NaN</td>\n",
       "      <td>NaN</td>\n",
       "      <td>NaN</td>\n",
       "      <td>NaN</td>\n",
       "      <td>NaN</td>\n",
       "      <td>NaN</td>\n",
       "      <td>NaN</td>\n",
       "    </tr>\n",
       "  </tbody>\n",
       "</table>\n",
       "</div>"
      ],
      "text/plain": [
       "pitch_number           1.0  2.0  3.0  4.0  5.0  6.0  7.0  8.0  9.0  10.0 11.0  \\\n",
       "game_pk  at_bat_number                                                          \n",
       "564777.0 1.0             CH   CH   CH   CH  NaN  NaN  NaN  NaN  NaN  NaN  NaN   \n",
       "         2.0             FF   SL   FC   CH  NaN  NaN  NaN  NaN  NaN  NaN  NaN   \n",
       "         3.0             SL   FF   FF   FF  NaN  NaN  NaN  NaN  NaN  NaN  NaN   \n",
       "         4.0             SI   FC   CH   CH   KC   FF   FC  NaN  NaN  NaN  NaN   \n",
       "         5.0             SI  NaN  NaN  NaN  NaN  NaN  NaN  NaN  NaN  NaN  NaN   \n",
       "\n",
       "pitch_number           12.0 13.0  \n",
       "game_pk  at_bat_number            \n",
       "564777.0 1.0            NaN  NaN  \n",
       "         2.0            NaN  NaN  \n",
       "         3.0            NaN  NaN  \n",
       "         4.0            NaN  NaN  \n",
       "         5.0            NaN  NaN  "
      ]
     },
     "execution_count": 63,
     "metadata": {},
     "output_type": "execute_result"
    }
   ],
   "source": [
    "pitches.head()"
   ]
  },
  {
   "cell_type": "code",
   "execution_count": 64,
   "metadata": {},
   "outputs": [],
   "source": [
    "pitches['sequence'] = pitches[pitches.columns[0:]].apply(\n",
    "    lambda x: ','.join(x.dropna().astype(str)), axis=1)"
   ]
  },
  {
   "cell_type": "code",
   "execution_count": 65,
   "metadata": {},
   "outputs": [
    {
     "data": {
      "text/html": [
       "<div>\n",
       "<style scoped>\n",
       "    .dataframe tbody tr th:only-of-type {\n",
       "        vertical-align: middle;\n",
       "    }\n",
       "\n",
       "    .dataframe tbody tr th {\n",
       "        vertical-align: top;\n",
       "    }\n",
       "\n",
       "    .dataframe thead th {\n",
       "        text-align: right;\n",
       "    }\n",
       "</style>\n",
       "<table border=\"1\" class=\"dataframe\">\n",
       "  <thead>\n",
       "    <tr style=\"text-align: right;\">\n",
       "      <th></th>\n",
       "      <th>pitch_number</th>\n",
       "      <th>1.0</th>\n",
       "      <th>2.0</th>\n",
       "      <th>3.0</th>\n",
       "      <th>4.0</th>\n",
       "      <th>5.0</th>\n",
       "      <th>6.0</th>\n",
       "      <th>7.0</th>\n",
       "      <th>8.0</th>\n",
       "      <th>9.0</th>\n",
       "      <th>10.0</th>\n",
       "      <th>11.0</th>\n",
       "      <th>12.0</th>\n",
       "      <th>13.0</th>\n",
       "      <th>sequence</th>\n",
       "    </tr>\n",
       "    <tr>\n",
       "      <th>game_pk</th>\n",
       "      <th>at_bat_number</th>\n",
       "      <th></th>\n",
       "      <th></th>\n",
       "      <th></th>\n",
       "      <th></th>\n",
       "      <th></th>\n",
       "      <th></th>\n",
       "      <th></th>\n",
       "      <th></th>\n",
       "      <th></th>\n",
       "      <th></th>\n",
       "      <th></th>\n",
       "      <th></th>\n",
       "      <th></th>\n",
       "      <th></th>\n",
       "    </tr>\n",
       "  </thead>\n",
       "  <tbody>\n",
       "    <tr>\n",
       "      <th rowspan=\"5\" valign=\"top\">564777.0</th>\n",
       "      <th>1.0</th>\n",
       "      <td>CH</td>\n",
       "      <td>CH</td>\n",
       "      <td>CH</td>\n",
       "      <td>CH</td>\n",
       "      <td>NaN</td>\n",
       "      <td>NaN</td>\n",
       "      <td>NaN</td>\n",
       "      <td>NaN</td>\n",
       "      <td>NaN</td>\n",
       "      <td>NaN</td>\n",
       "      <td>NaN</td>\n",
       "      <td>NaN</td>\n",
       "      <td>NaN</td>\n",
       "      <td>CH,CH,CH,CH</td>\n",
       "    </tr>\n",
       "    <tr>\n",
       "      <th>2.0</th>\n",
       "      <td>FF</td>\n",
       "      <td>SL</td>\n",
       "      <td>FC</td>\n",
       "      <td>CH</td>\n",
       "      <td>NaN</td>\n",
       "      <td>NaN</td>\n",
       "      <td>NaN</td>\n",
       "      <td>NaN</td>\n",
       "      <td>NaN</td>\n",
       "      <td>NaN</td>\n",
       "      <td>NaN</td>\n",
       "      <td>NaN</td>\n",
       "      <td>NaN</td>\n",
       "      <td>FF,SL,FC,CH</td>\n",
       "    </tr>\n",
       "    <tr>\n",
       "      <th>3.0</th>\n",
       "      <td>SL</td>\n",
       "      <td>FF</td>\n",
       "      <td>FF</td>\n",
       "      <td>FF</td>\n",
       "      <td>NaN</td>\n",
       "      <td>NaN</td>\n",
       "      <td>NaN</td>\n",
       "      <td>NaN</td>\n",
       "      <td>NaN</td>\n",
       "      <td>NaN</td>\n",
       "      <td>NaN</td>\n",
       "      <td>NaN</td>\n",
       "      <td>NaN</td>\n",
       "      <td>SL,FF,FF,FF</td>\n",
       "    </tr>\n",
       "    <tr>\n",
       "      <th>4.0</th>\n",
       "      <td>SI</td>\n",
       "      <td>FC</td>\n",
       "      <td>CH</td>\n",
       "      <td>CH</td>\n",
       "      <td>KC</td>\n",
       "      <td>FF</td>\n",
       "      <td>FC</td>\n",
       "      <td>NaN</td>\n",
       "      <td>NaN</td>\n",
       "      <td>NaN</td>\n",
       "      <td>NaN</td>\n",
       "      <td>NaN</td>\n",
       "      <td>NaN</td>\n",
       "      <td>SI,FC,CH,CH,KC,FF,FC</td>\n",
       "    </tr>\n",
       "    <tr>\n",
       "      <th>5.0</th>\n",
       "      <td>SI</td>\n",
       "      <td>NaN</td>\n",
       "      <td>NaN</td>\n",
       "      <td>NaN</td>\n",
       "      <td>NaN</td>\n",
       "      <td>NaN</td>\n",
       "      <td>NaN</td>\n",
       "      <td>NaN</td>\n",
       "      <td>NaN</td>\n",
       "      <td>NaN</td>\n",
       "      <td>NaN</td>\n",
       "      <td>NaN</td>\n",
       "      <td>NaN</td>\n",
       "      <td>SI</td>\n",
       "    </tr>\n",
       "  </tbody>\n",
       "</table>\n",
       "</div>"
      ],
      "text/plain": [
       "pitch_number           1.0  2.0  3.0  4.0  5.0  6.0  7.0  8.0  9.0 10.0 11.0  \\\n",
       "game_pk  at_bat_number                                                         \n",
       "564777.0 1.0            CH   CH   CH   CH  NaN  NaN  NaN  NaN  NaN  NaN  NaN   \n",
       "         2.0            FF   SL   FC   CH  NaN  NaN  NaN  NaN  NaN  NaN  NaN   \n",
       "         3.0            SL   FF   FF   FF  NaN  NaN  NaN  NaN  NaN  NaN  NaN   \n",
       "         4.0            SI   FC   CH   CH   KC   FF   FC  NaN  NaN  NaN  NaN   \n",
       "         5.0            SI  NaN  NaN  NaN  NaN  NaN  NaN  NaN  NaN  NaN  NaN   \n",
       "\n",
       "pitch_number           12.0 13.0              sequence  \n",
       "game_pk  at_bat_number                                  \n",
       "564777.0 1.0            NaN  NaN           CH,CH,CH,CH  \n",
       "         2.0            NaN  NaN           FF,SL,FC,CH  \n",
       "         3.0            NaN  NaN           SL,FF,FF,FF  \n",
       "         4.0            NaN  NaN  SI,FC,CH,CH,KC,FF,FC  \n",
       "         5.0            NaN  NaN                    SI  "
      ]
     },
     "execution_count": 65,
     "metadata": {},
     "output_type": "execute_result"
    }
   ],
   "source": [
    "pitches.head()"
   ]
  },
  {
   "cell_type": "code",
   "execution_count": 103,
   "metadata": {},
   "outputs": [
    {
     "data": {
      "text/plain": [
       "FF                               1222\n",
       "FF,FF                             653\n",
       "FF,FF,FF                          449\n",
       "SL                                432\n",
       "FT                                379\n",
       "                                 ... \n",
       "SI,FS,SI,FS,SI,SI,FS                1\n",
       "FC,CU,FF,FF,FC,FC,FF,FF,CU,FF       1\n",
       "FC,CH,KC,SI                         1\n",
       "CU,CH,CH,CU,CU,CU,SI                1\n",
       "FF,SI,SL,SL                         1\n",
       "Name: sequence, Length: 8401, dtype: int64"
      ]
     },
     "execution_count": 103,
     "metadata": {},
     "output_type": "execute_result"
    }
   ],
   "source": [
    "pitches['sequence'].value_counts()"
   ]
  },
  {
   "cell_type": "code",
   "execution_count": 102,
   "metadata": {},
   "outputs": [
    {
     "data": {
      "image/png": "[encoded data removed]",
      "text/plain": [
       "<Figure size 432x288 with 1 Axes>"
      ]
     },
     "metadata": {
      "needs_background": "light"
     },
     "output_type": "display_data"
    },
    {
     "data": {
      "image/png": "[encoded data removed]",
      "text/plain": [
       "<Figure size 432x288 with 1 Axes>"
      ]
     },
     "metadata": {
      "needs_background": "light"
     },
     "output_type": "display_data"
    },
    {
     "data": {
      "image/png": "[encoded data removed]",
      "text/plain": [
       "<Figure size 432x288 with 1 Axes>"
      ]
     },
     "metadata": {
      "needs_background": "light"
     },
     "output_type": "display_data"
    },
    {
     "data": {
      "image/png": "[encoded data removed]",
      "text/plain": [
       "<Figure size 432x288 with 1 Axes>"
      ]
     },
     "metadata": {
      "needs_background": "light"
     },
     "output_type": "display_data"
    },
    {
     "data": {
      "image/png": "[encoded data removed]",
      "text/plain": [
       "<Figure size 432x288 with 1 Axes>"
      ]
     },
     "metadata": {
      "needs_background": "light"
     },
     "output_type": "display_data"
    },
    {
     "data": {
      "image/png": "[encoded data removed]",
      "text/plain": [
       "<Figure size 432x288 with 1 Axes>"
      ]
     },
     "metadata": {
      "needs_background": "light"
     },
     "output_type": "display_data"
    },
    {
     "data": {
      "image/png": "[encoded data removed]",
      "text/plain": [
       "<Figure size 432x288 with 1 Axes>"
      ]
     },
     "metadata": {
      "needs_background": "light"
     },
     "output_type": "display_data"
    },
    {
     "data": {
      "image/png": "[encoded data removed]",
      "text/plain": [
       "<Figure size 432x288 with 1 Axes>"
      ]
     },
     "metadata": {
      "needs_background": "light"
     },
     "output_type": "display_data"
    },
    {
     "data": {
      "image/png": "[encoded data removed]",
      "text/plain": [
       "<Figure size 432x288 with 1 Axes>"
      ]
     },
     "metadata": {
      "needs_background": "light"
     },
     "output_type": "display_data"
    },
    {
     "data": {
      "image/png": "[encoded data removed]",
      "text/plain": [
       "<Figure size 432x288 with 1 Axes>"
      ]
     },
     "metadata": {
      "needs_background": "light"
     },
     "output_type": "display_data"
    },
    {
     "data": {
      "image/png": "[encoded data removed]",
      "text/plain": [
       "<Figure size 432x288 with 1 Axes>"
      ]
     },
     "metadata": {
      "needs_background": "light"
     },
     "output_type": "display_data"
    },
    {
     "data": {
      "image/png": "[encoded data removed]",
      "text/plain": [
       "<Figure size 432x288 with 1 Axes>"
      ]
     },
     "metadata": {
      "needs_background": "light"
     },
     "output_type": "display_data"
    },
    {
     "data": {
      "image/png": "[encoded data removed]",
      "text/plain": [
       "<Figure size 432x288 with 1 Axes>"
      ]
     },
     "metadata": {
      "needs_background": "light"
     },
     "output_type": "display_data"
    }
   ],
   "source": [
    "for pitch in range(1,14):\n",
    "    sns.countplot(x=pitch, data=pitches)\n",
    "    plt.show();"
   ]
  },
  {
   "cell_type": "markdown",
   "metadata": {},
   "source": [
    "How many at-bats are there per game?"
   ]
  },
  {
   "cell_type": "code",
   "execution_count": 5,
   "metadata": {},
   "outputs": [
    {
     "data": {
      "text/plain": [
       "77.42896174863388"
      ]
     },
     "execution_count": 5,
     "metadata": {},
     "output_type": "execute_result"
    }
   ],
   "source": [
    "data.groupby('game_pk')['at_bat_number'].agg(max).mean()"
   ]
  },
  {
   "cell_type": "markdown",
   "metadata": {},
   "source": [
    " How many pitches per at-bat?"
   ]
  },
  {
   "cell_type": "code",
   "execution_count": 6,
   "metadata": {},
   "outputs": [
    {
     "data": {
      "text/plain": [
       "3.9148823217129713"
      ]
     },
     "execution_count": 6,
     "metadata": {},
     "output_type": "execute_result"
    }
   ],
   "source": [
    "data.groupby(['game_pk', 'at_bat_number'])['pitch_number'].agg(max).mean()"
   ]
  },
  {
   "cell_type": "code",
   "execution_count": null,
   "metadata": {},
   "outputs": [],
   "source": []
  }
 ],
 "metadata": {
  "kernelspec": {
   "display_name": "Python 3",
   "language": "python",
   "name": "python3"
  },
  "language_info": {
   "codemirror_mode": {
    "name": "ipython",
    "version": 3
   },
   "file_extension": ".py",
   "mimetype": "text/x-python",
   "name": "python",
   "nbconvert_exporter": "python",
   "pygments_lexer": "ipython3",
   "version": "3.7.6"
  }
 },
 "nbformat": 4,
 "nbformat_minor": 4
}
