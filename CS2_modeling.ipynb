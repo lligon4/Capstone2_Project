{
 "cells": [
  {
   "cell_type": "markdown",
   "metadata": {},
   "source": [
    "# Modeling"
   ]
  },
  {
   "cell_type": "markdown",
   "metadata": {},
   "source": [
    "## Introduction\n",
    "\n",
    "In this notebook, we finally get to explore some machine learning models in attempt to predict baseball pitch types. We have wrangled, explored, and processed Statcast data resulting in 3 datasets available for modeling:\n",
    "\n",
    "- no_pitchers - All pitches without pitcher reference\n",
    "- pitchers - All pitches with reference to top 5 pitchers based on pitch count\n",
    "- first_pitch - Only the first pitch in each at-bat without pitcher reference\n",
    "\n",
    "From here, we can explore modeling various scenarios with the data above. We'll begin by setting a baseline from predicting all pitches as the most common pitch type, FF. Our modeling efforts will include scaling the data, creating a train/test split, and evaluating performance metrics. We will also complete tuning of some hyperparameters relevant to each model. After creating a baseline prediction using sklearn's DummyClassifier, we'll work with a Decision Tree, Random Forest, and Support Vector Machine."
   ]
  },
  {
   "cell_type": "markdown",
   "metadata": {},
   "source": [
    "## Imports and Data Load"
   ]
  },
  {
   "cell_type": "code",
   "execution_count": 114,
   "metadata": {},
   "outputs": [],
   "source": [
    "import pandas as pd\n",
    "import numpy as np\n",
    "import matplotlib.pyplot as plt\n",
    "import seaborn as sns\n",
    "from sklearn import tree, metrics\n",
    "from sklearn.preprocessing import scale\n",
    "from sklearn.model_selection import train_test_split, cross_validate, GridSearchCV, learning_curve\n",
    "from sklearn.preprocessing import StandardScaler, MinMaxScaler\n",
    "from sklearn.dummy import DummyClassifier\n",
    "from sklearn.ensemble import RandomForestClassifier\n",
    "from sklearn.metrics import classification_report\n",
    "from sklearn.pipeline import make_pipeline, Pipeline"
   ]
  },
  {
   "cell_type": "code",
   "execution_count": 115,
   "metadata": {},
   "outputs": [],
   "source": [
    "no_pitchers = pd.read_csv('no_pitchers.csv')\n",
    "pitchers = pd.read_csv('pitchers.csv')\n",
    "first_pitch = pd.read_csv('first_pitch.csv')"
   ]
  },
  {
   "cell_type": "markdown",
   "metadata": {},
   "source": [
    "Given that we have split the data we've been working with, let's check to make sure we have enough observations (pitches) within each dataset."
   ]
  },
  {
   "cell_type": "code",
   "execution_count": 158,
   "metadata": {},
   "outputs": [
    {
     "name": "stdout",
     "output_type": "stream",
     "text": [
      "(110301, 26)\n",
      "(3114, 31)\n",
      "(28166, 26)\n"
     ]
    }
   ],
   "source": [
    "print(no_pitchers.shape)\n",
    "print(pitchers.shape)\n",
    "print(first_pitch.shape)"
   ]
  },
  {
   "cell_type": "markdown",
   "metadata": {},
   "source": [
    "We have plenty of pitches to work with. The 5 extra features in the 'pitchers' dataset are the 5 pitchers we kept and encoded."
   ]
  },
  {
   "cell_type": "markdown",
   "metadata": {},
   "source": [
    "## Train/Test Split"
   ]
  },
  {
   "cell_type": "markdown",
   "metadata": {},
   "source": [
    "We begin with our first_pitch dataset containing only the first pitch of each at-bat in a given game."
   ]
  },
  {
   "cell_type": "code",
   "execution_count": 159,
   "metadata": {},
   "outputs": [
    {
     "data": {
      "text/html": [
       "<div>\n",
       "<style scoped>\n",
       "    .dataframe tbody tr th:only-of-type {\n",
       "        vertical-align: middle;\n",
       "    }\n",
       "\n",
       "    .dataframe tbody tr th {\n",
       "        vertical-align: top;\n",
       "    }\n",
       "\n",
       "    .dataframe thead th {\n",
       "        text-align: right;\n",
       "    }\n",
       "</style>\n",
       "<table border=\"1\" class=\"dataframe\">\n",
       "  <thead>\n",
       "    <tr style=\"text-align: right;\">\n",
       "      <th></th>\n",
       "      <th>0</th>\n",
       "      <th>1</th>\n",
       "      <th>2</th>\n",
       "      <th>3</th>\n",
       "      <th>4</th>\n",
       "    </tr>\n",
       "  </thead>\n",
       "  <tbody>\n",
       "    <tr>\n",
       "      <th>pitch_type</th>\n",
       "      <td>SL</td>\n",
       "      <td>FF</td>\n",
       "      <td>FF</td>\n",
       "      <td>SL</td>\n",
       "      <td>FF</td>\n",
       "    </tr>\n",
       "    <tr>\n",
       "      <th>balls</th>\n",
       "      <td>0</td>\n",
       "      <td>0</td>\n",
       "      <td>0</td>\n",
       "      <td>0</td>\n",
       "      <td>0</td>\n",
       "    </tr>\n",
       "    <tr>\n",
       "      <th>strikes</th>\n",
       "      <td>0</td>\n",
       "      <td>0</td>\n",
       "      <td>0</td>\n",
       "      <td>0</td>\n",
       "      <td>0</td>\n",
       "    </tr>\n",
       "    <tr>\n",
       "      <th>on_3b</th>\n",
       "      <td>0</td>\n",
       "      <td>0</td>\n",
       "      <td>0</td>\n",
       "      <td>0</td>\n",
       "      <td>0</td>\n",
       "    </tr>\n",
       "    <tr>\n",
       "      <th>on_2b</th>\n",
       "      <td>1</td>\n",
       "      <td>1</td>\n",
       "      <td>1</td>\n",
       "      <td>1</td>\n",
       "      <td>0</td>\n",
       "    </tr>\n",
       "    <tr>\n",
       "      <th>on_1b</th>\n",
       "      <td>1</td>\n",
       "      <td>0</td>\n",
       "      <td>0</td>\n",
       "      <td>0</td>\n",
       "      <td>1</td>\n",
       "    </tr>\n",
       "    <tr>\n",
       "      <th>outs_when_up</th>\n",
       "      <td>2</td>\n",
       "      <td>2</td>\n",
       "      <td>2</td>\n",
       "      <td>1</td>\n",
       "      <td>0</td>\n",
       "    </tr>\n",
       "    <tr>\n",
       "      <th>inning</th>\n",
       "      <td>9</td>\n",
       "      <td>9</td>\n",
       "      <td>9</td>\n",
       "      <td>9</td>\n",
       "      <td>9</td>\n",
       "    </tr>\n",
       "    <tr>\n",
       "      <th>at_bat_number</th>\n",
       "      <td>77</td>\n",
       "      <td>76</td>\n",
       "      <td>75</td>\n",
       "      <td>74</td>\n",
       "      <td>73</td>\n",
       "    </tr>\n",
       "    <tr>\n",
       "      <th>pitch_number</th>\n",
       "      <td>1</td>\n",
       "      <td>1</td>\n",
       "      <td>1</td>\n",
       "      <td>1</td>\n",
       "      <td>1</td>\n",
       "    </tr>\n",
       "    <tr>\n",
       "      <th>home_score</th>\n",
       "      <td>7</td>\n",
       "      <td>7</td>\n",
       "      <td>7</td>\n",
       "      <td>7</td>\n",
       "      <td>7</td>\n",
       "    </tr>\n",
       "    <tr>\n",
       "      <th>away_score</th>\n",
       "      <td>5</td>\n",
       "      <td>5</td>\n",
       "      <td>4</td>\n",
       "      <td>4</td>\n",
       "      <td>4</td>\n",
       "    </tr>\n",
       "    <tr>\n",
       "      <th>bat_score</th>\n",
       "      <td>5</td>\n",
       "      <td>5</td>\n",
       "      <td>4</td>\n",
       "      <td>4</td>\n",
       "      <td>4</td>\n",
       "    </tr>\n",
       "    <tr>\n",
       "      <th>fld_score</th>\n",
       "      <td>7</td>\n",
       "      <td>7</td>\n",
       "      <td>7</td>\n",
       "      <td>7</td>\n",
       "      <td>7</td>\n",
       "    </tr>\n",
       "    <tr>\n",
       "      <th>stand_L</th>\n",
       "      <td>0</td>\n",
       "      <td>0</td>\n",
       "      <td>1</td>\n",
       "      <td>0</td>\n",
       "      <td>0</td>\n",
       "    </tr>\n",
       "    <tr>\n",
       "      <th>stand_R</th>\n",
       "      <td>1</td>\n",
       "      <td>1</td>\n",
       "      <td>0</td>\n",
       "      <td>1</td>\n",
       "      <td>1</td>\n",
       "    </tr>\n",
       "    <tr>\n",
       "      <th>p_throws_L</th>\n",
       "      <td>1</td>\n",
       "      <td>1</td>\n",
       "      <td>1</td>\n",
       "      <td>1</td>\n",
       "      <td>1</td>\n",
       "    </tr>\n",
       "    <tr>\n",
       "      <th>p_throws_R</th>\n",
       "      <td>0</td>\n",
       "      <td>0</td>\n",
       "      <td>0</td>\n",
       "      <td>0</td>\n",
       "      <td>0</td>\n",
       "    </tr>\n",
       "    <tr>\n",
       "      <th>inning_topbot_Bot</th>\n",
       "      <td>0</td>\n",
       "      <td>0</td>\n",
       "      <td>0</td>\n",
       "      <td>0</td>\n",
       "      <td>0</td>\n",
       "    </tr>\n",
       "    <tr>\n",
       "      <th>inning_topbot_Top</th>\n",
       "      <td>1</td>\n",
       "      <td>1</td>\n",
       "      <td>1</td>\n",
       "      <td>1</td>\n",
       "      <td>1</td>\n",
       "    </tr>\n",
       "    <tr>\n",
       "      <th>if_fielding_alignment_Infield shift</th>\n",
       "      <td>0</td>\n",
       "      <td>0</td>\n",
       "      <td>0</td>\n",
       "      <td>0</td>\n",
       "      <td>0</td>\n",
       "    </tr>\n",
       "    <tr>\n",
       "      <th>if_fielding_alignment_Standard</th>\n",
       "      <td>1</td>\n",
       "      <td>1</td>\n",
       "      <td>1</td>\n",
       "      <td>1</td>\n",
       "      <td>1</td>\n",
       "    </tr>\n",
       "    <tr>\n",
       "      <th>if_fielding_alignment_Strategic</th>\n",
       "      <td>0</td>\n",
       "      <td>0</td>\n",
       "      <td>0</td>\n",
       "      <td>0</td>\n",
       "      <td>0</td>\n",
       "    </tr>\n",
       "    <tr>\n",
       "      <th>of_fielding_alignment_4th outfielder</th>\n",
       "      <td>0</td>\n",
       "      <td>0</td>\n",
       "      <td>0</td>\n",
       "      <td>0</td>\n",
       "      <td>0</td>\n",
       "    </tr>\n",
       "    <tr>\n",
       "      <th>of_fielding_alignment_Standard</th>\n",
       "      <td>1</td>\n",
       "      <td>1</td>\n",
       "      <td>1</td>\n",
       "      <td>1</td>\n",
       "      <td>1</td>\n",
       "    </tr>\n",
       "    <tr>\n",
       "      <th>of_fielding_alignment_Strategic</th>\n",
       "      <td>0</td>\n",
       "      <td>0</td>\n",
       "      <td>0</td>\n",
       "      <td>0</td>\n",
       "      <td>0</td>\n",
       "    </tr>\n",
       "  </tbody>\n",
       "</table>\n",
       "</div>"
      ],
      "text/plain": [
       "                                       0   1   2   3   4\n",
       "pitch_type                            SL  FF  FF  SL  FF\n",
       "balls                                  0   0   0   0   0\n",
       "strikes                                0   0   0   0   0\n",
       "on_3b                                  0   0   0   0   0\n",
       "on_2b                                  1   1   1   1   0\n",
       "on_1b                                  1   0   0   0   1\n",
       "outs_when_up                           2   2   2   1   0\n",
       "inning                                 9   9   9   9   9\n",
       "at_bat_number                         77  76  75  74  73\n",
       "pitch_number                           1   1   1   1   1\n",
       "home_score                             7   7   7   7   7\n",
       "away_score                             5   5   4   4   4\n",
       "bat_score                              5   5   4   4   4\n",
       "fld_score                              7   7   7   7   7\n",
       "stand_L                                0   0   1   0   0\n",
       "stand_R                                1   1   0   1   1\n",
       "p_throws_L                             1   1   1   1   1\n",
       "p_throws_R                             0   0   0   0   0\n",
       "inning_topbot_Bot                      0   0   0   0   0\n",
       "inning_topbot_Top                      1   1   1   1   1\n",
       "if_fielding_alignment_Infield shift    0   0   0   0   0\n",
       "if_fielding_alignment_Standard         1   1   1   1   1\n",
       "if_fielding_alignment_Strategic        0   0   0   0   0\n",
       "of_fielding_alignment_4th outfielder   0   0   0   0   0\n",
       "of_fielding_alignment_Standard         1   1   1   1   1\n",
       "of_fielding_alignment_Strategic        0   0   0   0   0"
      ]
     },
     "execution_count": 159,
     "metadata": {},
     "output_type": "execute_result"
    }
   ],
   "source": [
    "first_pitch.head().T"
   ]
  },
  {
   "cell_type": "markdown",
   "metadata": {},
   "source": [
    "Let's define X and y, then check the partition sizes if we use a 70/30 train/test split."
   ]
  },
  {
   "cell_type": "code",
   "execution_count": 160,
   "metadata": {},
   "outputs": [],
   "source": [
    "X = first_pitch.drop(columns='pitch_type')\n",
    "y = first_pitch['pitch_type']"
   ]
  },
  {
   "cell_type": "code",
   "execution_count": 161,
   "metadata": {},
   "outputs": [
    {
     "data": {
      "text/plain": [
       "(19716.199999999997, 8449.8)"
      ]
     },
     "execution_count": 161,
     "metadata": {},
     "output_type": "execute_result"
    }
   ],
   "source": [
    "len(first_pitch) * .7, len(first_pitch) * .3"
   ]
  },
  {
   "cell_type": "code",
   "execution_count": 288,
   "metadata": {},
   "outputs": [],
   "source": [
    "#Creating train/test split\n",
    "X_train, X_test, y_train, y_test = train_test_split(X, y, test_size=0.3, random_state=42)"
   ]
  },
  {
   "cell_type": "code",
   "execution_count": 163,
   "metadata": {},
   "outputs": [
    {
     "data": {
      "text/plain": [
       "((19716, 25), (8450, 25))"
      ]
     },
     "execution_count": 163,
     "metadata": {},
     "output_type": "execute_result"
    }
   ],
   "source": [
    "X_train.shape, X_test.shape"
   ]
  },
  {
   "cell_type": "code",
   "execution_count": 164,
   "metadata": {},
   "outputs": [
    {
     "data": {
      "text/plain": [
       "((19716,), (8450,))"
      ]
     },
     "execution_count": 164,
     "metadata": {},
     "output_type": "execute_result"
    }
   ],
   "source": [
    "y_train.shape, y_test.shape"
   ]
  },
  {
   "cell_type": "markdown",
   "metadata": {},
   "source": [
    "The shape of our train/test split aligns with expectations for a 70/30 train/test split. Let's check to make sure all or our features are of numeric type."
   ]
  },
  {
   "cell_type": "code",
   "execution_count": 165,
   "metadata": {},
   "outputs": [
    {
     "data": {
      "text/plain": [
       "balls                                   int64\n",
       "strikes                                 int64\n",
       "on_3b                                   int64\n",
       "on_2b                                   int64\n",
       "on_1b                                   int64\n",
       "outs_when_up                            int64\n",
       "inning                                  int64\n",
       "at_bat_number                           int64\n",
       "pitch_number                            int64\n",
       "home_score                              int64\n",
       "away_score                              int64\n",
       "bat_score                               int64\n",
       "fld_score                               int64\n",
       "stand_L                                 int64\n",
       "stand_R                                 int64\n",
       "p_throws_L                              int64\n",
       "p_throws_R                              int64\n",
       "inning_topbot_Bot                       int64\n",
       "inning_topbot_Top                       int64\n",
       "if_fielding_alignment_Infield shift     int64\n",
       "if_fielding_alignment_Standard          int64\n",
       "if_fielding_alignment_Strategic         int64\n",
       "of_fielding_alignment_4th outfielder    int64\n",
       "of_fielding_alignment_Standard          int64\n",
       "of_fielding_alignment_Strategic         int64\n",
       "dtype: object"
      ]
     },
     "execution_count": 165,
     "metadata": {},
     "output_type": "execute_result"
    }
   ],
   "source": [
    "X_train.dtypes"
   ]
  },
  {
   "cell_type": "code",
   "execution_count": 166,
   "metadata": {},
   "outputs": [
    {
     "data": {
      "text/plain": [
       "balls                                   int64\n",
       "strikes                                 int64\n",
       "on_3b                                   int64\n",
       "on_2b                                   int64\n",
       "on_1b                                   int64\n",
       "outs_when_up                            int64\n",
       "inning                                  int64\n",
       "at_bat_number                           int64\n",
       "pitch_number                            int64\n",
       "home_score                              int64\n",
       "away_score                              int64\n",
       "bat_score                               int64\n",
       "fld_score                               int64\n",
       "stand_L                                 int64\n",
       "stand_R                                 int64\n",
       "p_throws_L                              int64\n",
       "p_throws_R                              int64\n",
       "inning_topbot_Bot                       int64\n",
       "inning_topbot_Top                       int64\n",
       "if_fielding_alignment_Infield shift     int64\n",
       "if_fielding_alignment_Standard          int64\n",
       "if_fielding_alignment_Strategic         int64\n",
       "of_fielding_alignment_4th outfielder    int64\n",
       "of_fielding_alignment_Standard          int64\n",
       "of_fielding_alignment_Strategic         int64\n",
       "dtype: object"
      ]
     },
     "execution_count": 166,
     "metadata": {},
     "output_type": "execute_result"
    }
   ],
   "source": [
    "X_test.dtypes"
   ]
  },
  {
   "cell_type": "markdown",
   "metadata": {},
   "source": [
    "## Baseline\n",
    "We begin with our baseline of predicting the most frequent pitch type (FF) for all pitches. Sklearn's DummyClassifier allows us to easily accomplish this."
   ]
  },
  {
   "cell_type": "code",
   "execution_count": 271,
   "metadata": {},
   "outputs": [
    {
     "data": {
      "text/plain": [
       "'FF'"
      ]
     },
     "execution_count": 271,
     "metadata": {},
     "output_type": "execute_result"
    }
   ],
   "source": [
    "dumb_class = DummyClassifier(strategy='constant', constant='FF')\n",
    "dumb_class.fit(X_train, y_train)\n",
    "dumb_class.constant"
   ]
  },
  {
   "cell_type": "code",
   "execution_count": 272,
   "metadata": {},
   "outputs": [
    {
     "name": "stdout",
     "output_type": "stream",
     "text": [
      "['FF' 'FF' 'FF' 'FF' 'FF']\n"
     ]
    }
   ],
   "source": [
    "#Confirming our predictions for the DummyClassifier are all 'FF'\n",
    "y_train_pred = dumb_class.predict(X_test)\n",
    "print(y_train_pred[:5])"
   ]
  },
  {
   "cell_type": "code",
   "execution_count": 273,
   "metadata": {},
   "outputs": [
    {
     "name": "stdout",
     "output_type": "stream",
     "text": [
      "              precision    recall  f1-score   support\n",
      "\n",
      "          CH       0.00      0.00      0.00       653\n",
      "          CU       0.00      0.00      0.00       859\n",
      "          FC       0.00      0.00      0.00       493\n",
      "          FF       0.38      1.00      0.55      3216\n",
      "          FS       0.00      0.00      0.00        63\n",
      "          FT       0.00      0.00      0.00       800\n",
      "          KC       0.00      0.00      0.00       249\n",
      "          KN       0.00      0.00      0.00         4\n",
      "          SI       0.00      0.00      0.00       771\n",
      "          SL       0.00      0.00      0.00      1342\n",
      "\n",
      "    accuracy                           0.38      8450\n",
      "   macro avg       0.04      0.10      0.06      8450\n",
      "weighted avg       0.14      0.38      0.21      8450\n",
      "\n"
     ]
    }
   ],
   "source": [
    "print(classification_report(y_test, y_train_pred, zero_division=0))"
   ]
  },
  {
   "cell_type": "markdown",
   "metadata": {},
   "source": [
    "The classification report confirms our dummy classification model predicted only FF as it's the only class with non-zero values. The report also confirms FF is the most frequent pitch type as its support value is the largest. Both the precision and recall for FF are as expected given the accuracy of our positive predictions for FF, precision, should be equal to the ratio of FF to all, and our recall, or the percent of positives we predicted accurately, should be 100% or 1.0.\n",
    "\n",
    "Due to the nature of the unbalanced classes in our multivariate classification problem, we will be focused on the macro avg f1-score for performance measurement of our models in addition to class specific performance. We're starting with a low bar of 0.06 for the f1-score macro avg. The accuracy of 0.38 alone is misleading because it doesn't reflect our inability to predict any class other than 'FF'. Let's move on to our first real model using sklearn's DecisionTreeClassifier."
   ]
  },
  {
   "cell_type": "markdown",
   "metadata": {},
   "source": [
    "## Decision Tree"
   ]
  },
  {
   "cell_type": "markdown",
   "metadata": {},
   "source": [
    "Now that we have a baseline for comparison, let's move on by exploring a decision tree model. We'll begin with a tree using default parameter settings then move to explore the class_weight setting before tuning some parameters. Given a decision tree's tendancy to overfit, we will focus on pruning our tree with parameters such as max_depth and max_leaf_nodes. We also want to evaluate the resources required for each model by using the timeit cell magic."
   ]
  },
  {
   "cell_type": "code",
   "execution_count": 305,
   "metadata": {},
   "outputs": [
    {
     "name": "stdout",
     "output_type": "stream",
     "text": [
      "107 ms ± 2.66 ms per loop (mean ± std. dev. of 7 runs, 10 loops each)\n"
     ]
    }
   ],
   "source": [
    "%%timeit\n",
    "#Default option: class_weight = none\n",
    "#All classes are weighted evenly, so the model is considering individual errors of each prediction to be equally important. \n",
    "#This isn't great with inbalanced classes because the larger classes being predicted accurately will naturally happen more \n",
    "#often because there is more data there.\n",
    "\n",
    "default_tree = tree.DecisionTreeClassifier()\n",
    "default_tree.fit(X_train, y_train) "
   ]
  },
  {
   "cell_type": "markdown",
   "metadata": {},
   "source": [
    "Let's try to visualize our default tree. The initial attempt required a kernel interruption due to the size and complexity of our tree. Our default tree is splitting until leaf nodes have a purity of 0, and with 11 pitch types (target variable) and 25 features, this will create a tree too large to visualize and one that is almost certainly overfitting. We can prune the tree for visualization by setting the max_depth within plot_tree."
   ]
  },
  {
   "cell_type": "code",
   "execution_count": 301,
   "metadata": {
    "scrolled": false
   },
   "outputs": [
    {
     "data": {
      "image/png": "[encoded data removed]",
      "text/plain": [
       "<Figure size 1800x1440 with 1 Axes>"
      ]
     },
     "metadata": {
      "needs_background": "light"
     },
     "output_type": "display_data"
    }
   ],
   "source": [
    "fig = plt.figure(figsize=(25,20))\n",
    "tree.plot_tree(default_tree, \n",
    "                   feature_names=X_train.columns,  \n",
    "                   max_depth=3,\n",
    "                   fontsize=16,\n",
    "                   filled=True);"
   ]
  },
  {
   "cell_type": "markdown",
   "metadata": {},
   "source": [
    "The tree appears to give feature importance to the at_bat_number. We can explort this in greater detail later. For now, let's move on to explore if class_weight settings affects the performance of our model."
   ]
  },
  {
   "cell_type": "code",
   "execution_count": 306,
   "metadata": {},
   "outputs": [
    {
     "name": "stdout",
     "output_type": "stream",
     "text": [
      "119 ms ± 1.68 ms per loop (mean ± std. dev. of 7 runs, 10 loops each)\n"
     ]
    }
   ],
   "source": [
    "%%timeit\n",
    "#Balanced classes: class_weight = balanced\n",
    "#The classes are weighted according to the inverse of their frequency. This class weighting is better for highly inbalanced \n",
    "#classes because the errors made in the smaller classes are penalized more heavily than the errors made in the larger \n",
    "#classes. \n",
    "\n",
    "balanced_tree = tree.DecisionTreeClassifier(class_weight = 'balanced')\n",
    "balanced_tree.fit(X_train, y_train) "
   ]
  },
  {
   "cell_type": "code",
   "execution_count": 307,
   "metadata": {},
   "outputs": [
    {
     "name": "stdout",
     "output_type": "stream",
     "text": [
      "119 ms ± 3.98 ms per loop (mean ± std. dev. of 7 runs, 10 loops each)\n"
     ]
    }
   ],
   "source": [
    "%%timeit\n",
    "#Manual assignments to the classes - class weight = dictionary \n",
    "#Say a given batter has a lot of trouble hitting pitches categorized as \"SL\". We are going to weight that class more\n",
    "#heavily than the other classes because we want to model to be especially accurate with that class. In other words, when \n",
    "#the model is splitting at the nodes, we want it to most heavily penalize incorrect predictions for the \"SL\" class. \n",
    "#We have given the \"SL\" class twice the weight as any other class.\n",
    "\n",
    "#Creating the weighting dictionary\n",
    "pitches = y_train.unique().tolist()\n",
    "weights = [1] * len(pitches)\n",
    "pitch_weight_dict = dict(zip(pitches, [1] * len(pitches)))\n",
    "pitch_weight_dict['SL'] = 2\n",
    "\n",
    "weighted_tree = tree.DecisionTreeClassifier(class_weight = pitch_weight_dict)\n",
    "weighted_tree.fit(X_train, y_train) "
   ]
  },
  {
   "cell_type": "markdown",
   "metadata": {},
   "source": [
    "Let's use the 3 models above to predict pitch types and then evaluate their performance using the respective classification reports."
   ]
  },
  {
   "cell_type": "code",
   "execution_count": 221,
   "metadata": {},
   "outputs": [
    {
     "name": "stdout",
     "output_type": "stream",
     "text": [
      "              precision    recall  f1-score   support\n",
      "\n",
      "          CH       0.13      0.14      0.14       653\n",
      "          CU       0.12      0.13      0.13       859\n",
      "          FC       0.10      0.11      0.11       493\n",
      "          FF       0.42      0.43      0.43      3216\n",
      "          FS       0.03      0.03      0.03        63\n",
      "          FT       0.11      0.11      0.11       800\n",
      "          KC       0.07      0.05      0.06       249\n",
      "          KN       0.00      0.00      0.00         4\n",
      "          SI       0.12      0.11      0.12       771\n",
      "          SL       0.21      0.20      0.21      1342\n",
      "\n",
      "    accuracy                           0.25      8450\n",
      "   macro avg       0.13      0.13      0.13      8450\n",
      "weighted avg       0.25      0.25      0.25      8450\n",
      "\n"
     ]
    }
   ],
   "source": [
    "default_pred = default_tree.predict(X_test)\n",
    "print(classification_report(y_test, default_pred))"
   ]
  },
  {
   "cell_type": "code",
   "execution_count": 223,
   "metadata": {},
   "outputs": [
    {
     "name": "stdout",
     "output_type": "stream",
     "text": [
      "              precision    recall  f1-score   support\n",
      "\n",
      "          CH       0.12      0.14      0.13       653\n",
      "          CU       0.12      0.13      0.12       859\n",
      "          EP       0.00      0.00      0.00         0\n",
      "          FC       0.09      0.12      0.11       493\n",
      "          FF       0.40      0.33      0.36      3216\n",
      "          FS       0.03      0.05      0.04        63\n",
      "          FT       0.13      0.16      0.14       800\n",
      "          KC       0.05      0.06      0.06       249\n",
      "          KN       0.00      0.00      0.00         4\n",
      "          SI       0.16      0.17      0.17       771\n",
      "          SL       0.22      0.21      0.22      1342\n",
      "\n",
      "    accuracy                           0.22      8450\n",
      "   macro avg       0.12      0.12      0.12      8450\n",
      "weighted avg       0.24      0.22      0.23      8450\n",
      "\n"
     ]
    }
   ],
   "source": [
    "balanced_pred = balanced_tree.predict(X_test)\n",
    "print(classification_report(y_test, balanced_pred, zero_division=0))"
   ]
  },
  {
   "cell_type": "code",
   "execution_count": 239,
   "metadata": {},
   "outputs": [
    {
     "name": "stdout",
     "output_type": "stream",
     "text": [
      "              precision    recall  f1-score   support\n",
      "\n",
      "          CH       0.11      0.11      0.11       653\n",
      "          CU       0.12      0.13      0.12       859\n",
      "          EP       0.00      0.00      0.00         0\n",
      "          FC       0.10      0.10      0.10       493\n",
      "          FF       0.42      0.41      0.41      3216\n",
      "          FS       0.03      0.03      0.03        63\n",
      "          FT       0.12      0.13      0.13       800\n",
      "          KC       0.07      0.05      0.06       249\n",
      "          KN       0.00      0.00      0.00         4\n",
      "          SI       0.15      0.13      0.14       771\n",
      "          SL       0.18      0.21      0.19      1342\n",
      "\n",
      "    accuracy                           0.24      8450\n",
      "   macro avg       0.12      0.12      0.12      8450\n",
      "weighted avg       0.24      0.24      0.24      8450\n",
      "\n"
     ]
    }
   ],
   "source": [
    "weighted_pred = weighted_tree.predict(X_test)\n",
    "print(classification_report(y_test, weighted_pred, zero_division=0))"
   ]
  },
  {
   "cell_type": "markdown",
   "metadata": {},
   "source": [
    "Starting with accuracy and macro avg f1-scores, we don't see much loss/gain in performance by varying the class weights. If anything, we see a class level decline by changing class weight from the default setting on None. We'll continue with the default setting for class_weight as we tune parameters. \n",
    "\n",
    "Let's change our criterion from gini to entropy and see how that affects performance:"
   ]
  },
  {
   "cell_type": "code",
   "execution_count": 322,
   "metadata": {},
   "outputs": [
    {
     "name": "stdout",
     "output_type": "stream",
     "text": [
      "              precision    recall  f1-score   support\n",
      "\n",
      "          CH       0.13      0.14      0.14       615\n",
      "          CU       0.13      0.13      0.13       871\n",
      "          EP       0.00      0.00      0.00         1\n",
      "          FC       0.11      0.12      0.11       509\n",
      "          FF       0.43      0.42      0.43      3287\n",
      "          FS       0.04      0.05      0.04        63\n",
      "          FT       0.13      0.13      0.13       809\n",
      "          KC       0.04      0.05      0.04       199\n",
      "          KN       0.20      0.33      0.25         3\n",
      "          SI       0.14      0.13      0.13       711\n",
      "          SL       0.24      0.23      0.23      1382\n",
      "\n",
      "    accuracy                           0.26      8450\n",
      "   macro avg       0.14      0.16      0.15      8450\n",
      "weighted avg       0.26      0.26      0.26      8450\n",
      "\n"
     ]
    }
   ],
   "source": [
    "clf = tree.DecisionTreeClassifier(criterion='entropy')\n",
    "clf.fit(X_train, y_train)\n",
    "y_pred = clf.predict(X_test)\n",
    "print(classification_report(y_test, y_pred, zero_division=0))"
   ]
  },
  {
   "cell_type": "markdown",
   "metadata": {},
   "source": [
    "We see a slight improvement to our performance at the macro and class levels! What if we start pruning by limiting the number of leaf nodes or features?"
   ]
  },
  {
   "cell_type": "code",
   "execution_count": 295,
   "metadata": {
    "scrolled": true
   },
   "outputs": [
    {
     "name": "stdout",
     "output_type": "stream",
     "text": [
      "              precision    recall  f1-score   support\n",
      "\n",
      "          CH       0.00      0.00      0.00      1506\n",
      "          CU       0.00      0.00      0.00      2009\n",
      "          EP       0.00      0.00      0.00         1\n",
      "          FC       0.00      0.00      0.00      1215\n",
      "          FF       0.37      1.00      0.54      7383\n",
      "          FS       0.00      0.00      0.00       166\n",
      "          FT       0.00      0.00      0.00      1977\n",
      "          KC       0.00      0.00      0.00       490\n",
      "          KN       0.00      0.00      0.00        11\n",
      "          SI       0.00      0.00      0.00      1750\n",
      "          SL       0.00      0.00      0.00      3208\n",
      "\n",
      "    accuracy                           0.37     19716\n",
      "   macro avg       0.03      0.09      0.05     19716\n",
      "weighted avg       0.14      0.37      0.20     19716\n",
      "\n"
     ]
    }
   ],
   "source": [
    "clf = tree.DecisionTreeClassifier(max_depth=6, max_leaf_nodes=10, max_features=5)\n",
    "clf.fit(X_train, y_train)\n",
    "y_pred = clf.predict(X_train)\n",
    "print(classification_report(y_train, y_pred, zero_division=0))"
   ]
  },
  {
   "cell_type": "code",
   "execution_count": 289,
   "metadata": {},
   "outputs": [
    {
     "name": "stdout",
     "output_type": "stream",
     "text": [
      "              precision    recall  f1-score   support\n",
      "\n",
      "          CH       0.00      0.00      0.00       615\n",
      "          CU       0.00      0.00      0.00       871\n",
      "          EP       0.00      0.00      0.00         1\n",
      "          FC       0.00      0.00      0.00       509\n",
      "          FF       0.39      1.00      0.56      3287\n",
      "          FS       0.00      0.00      0.00        63\n",
      "          FT       0.00      0.00      0.00       809\n",
      "          KC       0.00      0.00      0.00       199\n",
      "          KN       0.00      0.00      0.00         3\n",
      "          SI       0.00      0.00      0.00       711\n",
      "          SL       0.00      0.00      0.00      1382\n",
      "\n",
      "    accuracy                           0.39      8450\n",
      "   macro avg       0.04      0.09      0.05      8450\n",
      "weighted avg       0.15      0.39      0.22      8450\n",
      "\n"
     ]
    }
   ],
   "source": [
    "clf = tree.DecisionTreeClassifier(criterion='gini', max_depth=2)\n",
    "clf.fit(X_train, y_train)\n",
    "y_pred = clf.predict(X_test)\n",
    "print(classification_report(y_test, y_pred, zero_division=0))"
   ]
  },
  {
   "cell_type": "markdown",
   "metadata": {},
   "source": [
    "When using a max_depth parameter less than 5, our model results in a single class prediction and effectively behaves like our dummy classifier. The decision tree model in conjunction with our statcast pitch data does not appear to have very good predictive power. This might be an indicator that the model is overfitting the training data. I will predict the accuracy of the model when predicting the training data in order to evaluate this suspicion."
   ]
  },
  {
   "cell_type": "code",
   "execution_count": 264,
   "metadata": {},
   "outputs": [
    {
     "name": "stdout",
     "output_type": "stream",
     "text": [
      "              precision    recall  f1-score   support\n",
      "\n",
      "          CH       0.93      0.97      0.95      1468\n",
      "          CU       0.91      0.96      0.93      2021\n",
      "          EP       1.00      1.00      1.00         2\n",
      "          FC       0.94      0.95      0.95      1231\n",
      "          FF       0.91      0.98      0.94      7454\n",
      "          FS       1.00      0.98      0.99       166\n",
      "          FT       0.95      0.83      0.89      1986\n",
      "          KC       0.97      0.90      0.93       440\n",
      "          KN       1.00      1.00      1.00        10\n",
      "          SI       0.98      0.87      0.92      1690\n",
      "          SL       0.99      0.91      0.95      3248\n",
      "\n",
      "    accuracy                           0.94     19716\n",
      "   macro avg       0.96      0.94      0.95     19716\n",
      "weighted avg       0.94      0.94      0.94     19716\n",
      "\n"
     ]
    }
   ],
   "source": [
    "clf = tree.DecisionTreeClassifier(criterion='entropy')\n",
    "clf.fit(X_train, y_train)\n",
    "y_pred = clf.predict(X_train)\n",
    "print(classification_report(y_train, y_pred, zero_division=0))"
   ]
  },
  {
   "cell_type": "markdown",
   "metadata": {},
   "source": [
    "Wow! The accuracy is so high compared to our test results that it's evident our model is overfitting. In an attempt to reduce overfitting, we want to stop growing the trees earlier. We tried this above with max_depth and showed it did not work. Next, we will try a random forest because they aggregate many decision trees to limit overfitting as well as error due to bias."
   ]
  },
  {
   "cell_type": "markdown",
   "metadata": {},
   "source": [
    "## Random Forest\n",
    "Let's see if an ensemble method for decision trees can help improve our accuracy. We will use a RandomForestClassifier within a pipeline that is also scaling the data, in addition to cross-validation and grid search for hyperparameter tuning."
   ]
  },
  {
   "cell_type": "code",
   "execution_count": 265,
   "metadata": {},
   "outputs": [],
   "source": [
    "RF_pipe = make_pipeline(\n",
    "    StandardScaler(),\n",
    "    RandomForestClassifier(random_state=42))"
   ]
  },
  {
   "cell_type": "code",
   "execution_count": 266,
   "metadata": {},
   "outputs": [
    {
     "name": "stderr",
     "output_type": "stream",
     "text": [
      "C:\\Users\\Louie\\anaconda3\\lib\\site-packages\\sklearn\\model_selection\\_split.py:667: UserWarning: The least populated class in y has only 2 members, which is less than n_splits=5.\n",
      "  % (min_groups, self.n_splits)), UserWarning)\n"
     ]
    }
   ],
   "source": [
    "rf_default_cv_results = cross_validate(RF_pipe, X_train, y_train, cv=5)"
   ]
  },
  {
   "cell_type": "code",
   "execution_count": 270,
   "metadata": {},
   "outputs": [
    {
     "name": "stdout",
     "output_type": "stream",
     "text": [
      "{'fit_time': array([1.79812455, 1.74097657, 1.7282002 , 1.71128893, 1.71613455]), 'score_time': array([0.11486149, 0.11299729, 0.11299992, 0.11200023, 0.11530948]), 'test_score': array([0.30806288, 0.30839462, 0.31803196, 0.31093076, 0.30864824])}\n"
     ]
    }
   ],
   "source": [
    "print(rf_default_cv_results)"
   ]
  },
  {
   "cell_type": "code",
   "execution_count": 267,
   "metadata": {},
   "outputs": [
    {
     "data": {
      "text/plain": [
       "array([0.30806288, 0.30839462, 0.31803196, 0.31093076, 0.30864824])"
      ]
     },
     "execution_count": 267,
     "metadata": {},
     "output_type": "execute_result"
    }
   ],
   "source": [
    "rf_cv_scores = rf_default_cv_results['test_score']\n",
    "rf_cv_scores"
   ]
  },
  {
   "cell_type": "code",
   "execution_count": 268,
   "metadata": {},
   "outputs": [
    {
     "data": {
      "text/plain": [
       "(0.3108136919665065, 0.003747668161533341)"
      ]
     },
     "execution_count": 268,
     "metadata": {},
     "output_type": "execute_result"
    }
   ],
   "source": [
    "np.mean(rf_cv_scores), np.std(rf_cv_scores)"
   ]
  },
  {
   "cell_type": "code",
   "execution_count": 139,
   "metadata": {},
   "outputs": [
    {
     "data": {
      "text/plain": [
       "{'randomforestclassifier__n_estimators': [10,\n",
       "  12,\n",
       "  16,\n",
       "  20,\n",
       "  26,\n",
       "  33,\n",
       "  42,\n",
       "  54,\n",
       "  69,\n",
       "  88,\n",
       "  112,\n",
       "  143,\n",
       "  183,\n",
       "  233,\n",
       "  297,\n",
       "  379,\n",
       "  483,\n",
       "  615,\n",
       "  784,\n",
       "  1000],\n",
       " 'standardscaler': [StandardScaler(copy=True, with_mean=True, with_std=True),\n",
       "  None]}"
      ]
     },
     "execution_count": 139,
     "metadata": {},
     "output_type": "execute_result"
    }
   ],
   "source": [
    "n_est = [int(n) for n in np.logspace(start=1, stop=3, num=20)]\n",
    "grid_params = {\n",
    "        'randomforestclassifier__n_estimators': n_est,\n",
    "        'standardscaler': [StandardScaler(), None],\n",
    "}\n",
    "grid_params"
   ]
  },
  {
   "cell_type": "code",
   "execution_count": 141,
   "metadata": {},
   "outputs": [
    {
     "name": "stderr",
     "output_type": "stream",
     "text": [
      "C:\\Users\\Louie\\anaconda3\\lib\\site-packages\\sklearn\\model_selection\\_split.py:667: UserWarning: The least populated class in y has only 1 members, which is less than n_splits=5.\n",
      "  % (min_groups, self.n_splits)), UserWarning)\n"
     ]
    },
    {
     "data": {
      "text/plain": [
       "GridSearchCV(cv=5, error_score=nan,\n",
       "             estimator=Pipeline(memory=None,\n",
       "                                steps=[('standardscaler',\n",
       "                                        StandardScaler(copy=True,\n",
       "                                                       with_mean=True,\n",
       "                                                       with_std=True)),\n",
       "                                       ('randomforestclassifier',\n",
       "                                        RandomForestClassifier(bootstrap=True,\n",
       "                                                               ccp_alpha=0.0,\n",
       "                                                               class_weight=None,\n",
       "                                                               criterion='gini',\n",
       "                                                               max_depth=None,\n",
       "                                                               max_features='auto',\n",
       "                                                               max_leaf_nodes=None,\n",
       "                                                               max_samples=None,\n",
       "                                                               min_impurity_decrea...\n",
       "                                                               verbose=0,\n",
       "                                                               warm_start=False))],\n",
       "                                verbose=False),\n",
       "             iid='deprecated', n_jobs=-1,\n",
       "             param_grid={'randomforestclassifier__n_estimators': [10, 12, 16,\n",
       "                                                                  20, 26, 33,\n",
       "                                                                  42, 54, 69,\n",
       "                                                                  88, 112, 143,\n",
       "                                                                  183, 233, 297,\n",
       "                                                                  379, 483, 615,\n",
       "                                                                  784, 1000],\n",
       "                         'standardscaler': [StandardScaler(copy=True,\n",
       "                                                           with_mean=True,\n",
       "                                                           with_std=True),\n",
       "                                            None]},\n",
       "             pre_dispatch='2*n_jobs', refit=True, return_train_score=False,\n",
       "             scoring=None, verbose=0)"
      ]
     },
     "execution_count": 141,
     "metadata": {},
     "output_type": "execute_result"
    }
   ],
   "source": [
    "rf_grid_cv = GridSearchCV(RF_pipe, param_grid=grid_params, cv=5, n_jobs=-1)\n",
    "rf_grid_cv.fit(X_train, y_train)"
   ]
  },
  {
   "cell_type": "code",
   "execution_count": 142,
   "metadata": {},
   "outputs": [
    {
     "data": {
      "text/plain": [
       "{'randomforestclassifier__n_estimators': 297,\n",
       " 'standardscaler': StandardScaler(copy=True, with_mean=True, with_std=True)}"
      ]
     },
     "execution_count": 142,
     "metadata": {},
     "output_type": "execute_result"
    }
   ],
   "source": [
    "rf_grid_cv.best_params_"
   ]
  },
  {
   "cell_type": "code",
   "execution_count": 145,
   "metadata": {},
   "outputs": [
    {
     "name": "stderr",
     "output_type": "stream",
     "text": [
      "C:\\Users\\Louie\\anaconda3\\lib\\site-packages\\sklearn\\model_selection\\_split.py:667: UserWarning: The least populated class in y has only 1 members, which is less than n_splits=5.\n",
      "  % (min_groups, self.n_splits)), UserWarning)\n"
     ]
    },
    {
     "data": {
      "text/plain": [
       "array([0.32023327, 0.30636571, 0.31143799, 0.32234339, 0.31321329])"
      ]
     },
     "execution_count": 145,
     "metadata": {},
     "output_type": "execute_result"
    }
   ],
   "source": [
    "rf_best_cv_results = cross_validate(rf_grid_cv.best_estimator_, X_train, y_train, cv=5)\n",
    "rf_best_scores = rf_best_cv_results['test_score']\n",
    "rf_best_scores"
   ]
  },
  {
   "cell_type": "code",
   "execution_count": 146,
   "metadata": {},
   "outputs": [
    {
     "data": {
      "text/plain": [
       "(0.31471873024267205, 0.005854026184189302)"
      ]
     },
     "execution_count": 146,
     "metadata": {},
     "output_type": "execute_result"
    }
   ],
   "source": [
    "np.mean(rf_best_scores), np.std(rf_best_scores)"
   ]
  },
  {
   "cell_type": "code",
   "execution_count": 148,
   "metadata": {},
   "outputs": [
    {
     "data": {
      "image/png": "[encoded data removed]",
      "text/plain": [
       "<Figure size 720x360 with 1 Axes>"
      ]
     },
     "metadata": {
      "needs_background": "light"
     },
     "output_type": "display_data"
    }
   ],
   "source": [
    "plt.subplots(figsize=(10, 5))\n",
    "imps = rf_grid_cv.best_estimator_.named_steps.randomforestclassifier.feature_importances_\n",
    "rf_feat_imps = pd.Series(imps, index=X_train.columns).sort_values(ascending=False)\n",
    "rf_feat_imps.plot(kind='bar')\n",
    "plt.xlabel('features')\n",
    "plt.ylabel('importance')\n",
    "plt.title('Best random forest regressor feature importances');"
   ]
  },
  {
   "cell_type": "code",
   "execution_count": null,
   "metadata": {},
   "outputs": [],
   "source": []
  },
  {
   "cell_type": "code",
   "execution_count": null,
   "metadata": {},
   "outputs": [],
   "source": []
  },
  {
   "cell_type": "code",
   "execution_count": 73,
   "metadata": {},
   "outputs": [
    {
     "name": "stderr",
     "output_type": "stream",
     "text": [
      "[Parallel(n_jobs=-1)]: Using backend ThreadingBackend with 4 concurrent workers.\n",
      "[Parallel(n_jobs=-1)]: Done  42 tasks      | elapsed:    0.4s\n",
      "[Parallel(n_jobs=-1)]: Done 100 out of 100 | elapsed:    0.9s finished\n"
     ]
    },
    {
     "data": {
      "text/plain": [
       "Pipeline(memory=None,\n",
       "         steps=[('standardscaler',\n",
       "                 StandardScaler(copy=True, with_mean=True, with_std=True)),\n",
       "                ('randomforestclassifier',\n",
       "                 RandomForestClassifier(bootstrap=True, ccp_alpha=0.0,\n",
       "                                        class_weight=None, criterion='gini',\n",
       "                                        max_depth=None, max_features='sqrt',\n",
       "                                        max_leaf_nodes=None, max_samples=None,\n",
       "                                        min_impurity_decrease=0.0,\n",
       "                                        min_impurity_split=None,\n",
       "                                        min_samples_leaf=1, min_samples_split=2,\n",
       "                                        min_weight_fraction_leaf=0.0,\n",
       "                                        n_estimators=100, n_jobs=-1,\n",
       "                                        oob_score=False, random_state=42,\n",
       "                                        verbose=1, warm_start=False))],\n",
       "         verbose=False)"
      ]
     },
     "execution_count": 73,
     "metadata": {},
     "output_type": "execute_result"
    }
   ],
   "source": [
    "pipe.fit(X_train, y_train)"
   ]
  },
  {
   "cell_type": "code",
   "execution_count": 74,
   "metadata": {},
   "outputs": [
    {
     "name": "stderr",
     "output_type": "stream",
     "text": [
      "[Parallel(n_jobs=4)]: Using backend ThreadingBackend with 4 concurrent workers.\n",
      "[Parallel(n_jobs=4)]: Done  42 tasks      | elapsed:    0.1s\n",
      "[Parallel(n_jobs=4)]: Done 100 out of 100 | elapsed:    0.2s finished\n",
      "[Parallel(n_jobs=4)]: Using backend ThreadingBackend with 4 concurrent workers.\n",
      "[Parallel(n_jobs=4)]: Done  42 tasks      | elapsed:    0.0s\n",
      "[Parallel(n_jobs=4)]: Done 100 out of 100 | elapsed:    0.0s finished\n"
     ]
    }
   ],
   "source": [
    "y_train_pred = pipe.predict(X_train)\n",
    "y_test_pred = pipe.predict(X_test)"
   ]
  },
  {
   "cell_type": "code",
   "execution_count": 78,
   "metadata": {},
   "outputs": [
    {
     "name": "stdout",
     "output_type": "stream",
     "text": [
      "              precision    recall  f1-score   support\n",
      "\n",
      "          CH       0.18      0.15      0.16       615\n",
      "          CU       0.16      0.11      0.13       871\n",
      "          EP       0.00      0.00      0.00         1\n",
      "          FC       0.15      0.08      0.10       509\n",
      "          FF       0.42      0.61      0.50      3287\n",
      "          FS       0.13      0.05      0.07        63\n",
      "          FT       0.15      0.10      0.12       809\n",
      "          KC       0.05      0.03      0.03       199\n",
      "          KN       1.00      0.67      0.80         3\n",
      "          SI       0.19      0.11      0.14       711\n",
      "          SL       0.24      0.21      0.22      1382\n",
      "\n",
      "    accuracy                           0.32      8450\n",
      "   macro avg       0.24      0.19      0.21      8450\n",
      "weighted avg       0.27      0.32      0.29      8450\n",
      "\n"
     ]
    }
   ],
   "source": [
    "print(classification_report(y_test, y_test_pred, zero_division=0))"
   ]
  },
  {
   "cell_type": "markdown",
   "metadata": {},
   "source": [
    "## Support Vector Machine"
   ]
  },
  {
   "cell_type": "code",
   "execution_count": 103,
   "metadata": {},
   "outputs": [],
   "source": [
    "from sklearn import svm\n",
    "clf = svm.SVC(kernel='linear')\n",
    "clf.fit(X_train, y_train)\n",
    "y_pred = clf.predict(X_test)"
   ]
  },
  {
   "cell_type": "code",
   "execution_count": 104,
   "metadata": {},
   "outputs": [
    {
     "name": "stdout",
     "output_type": "stream",
     "text": [
      "              precision    recall  f1-score   support\n",
      "\n",
      "          CH       0.00      0.00      0.00       615\n",
      "          CU       0.00      0.00      0.00       871\n",
      "          EP       0.00      0.00      0.00         1\n",
      "          FC       0.00      0.00      0.00       509\n",
      "          FF       0.39      1.00      0.56      3287\n",
      "          FS       0.00      0.00      0.00        63\n",
      "          FT       0.00      0.00      0.00       809\n",
      "          KC       0.00      0.00      0.00       199\n",
      "          KN       0.00      0.00      0.00         3\n",
      "          SI       0.00      0.00      0.00       711\n",
      "          SL       0.00      0.00      0.00      1382\n",
      "\n",
      "    accuracy                           0.39      8450\n",
      "   macro avg       0.04      0.09      0.05      8450\n",
      "weighted avg       0.15      0.39      0.22      8450\n",
      "\n"
     ]
    }
   ],
   "source": [
    "print(classification_report(y_test, y_pred, zero_division=0))"
   ]
  },
  {
   "cell_type": "code",
   "execution_count": 155,
   "metadata": {},
   "outputs": [
    {
     "data": {
      "text/html": [
       "<div>\n",
       "<style scoped>\n",
       "    .dataframe tbody tr th:only-of-type {\n",
       "        vertical-align: middle;\n",
       "    }\n",
       "\n",
       "    .dataframe tbody tr th {\n",
       "        vertical-align: top;\n",
       "    }\n",
       "\n",
       "    .dataframe thead th {\n",
       "        text-align: right;\n",
       "    }\n",
       "</style>\n",
       "<table border=\"1\" class=\"dataframe\">\n",
       "  <thead>\n",
       "    <tr style=\"text-align: right;\">\n",
       "      <th></th>\n",
       "      <th>pitch_type</th>\n",
       "      <th>balls</th>\n",
       "      <th>strikes</th>\n",
       "      <th>on_3b</th>\n",
       "      <th>on_2b</th>\n",
       "      <th>on_1b</th>\n",
       "      <th>outs_when_up</th>\n",
       "      <th>inning</th>\n",
       "      <th>at_bat_number</th>\n",
       "      <th>pitch_number</th>\n",
       "      <th>...</th>\n",
       "      <th>p_throws_L</th>\n",
       "      <th>p_throws_R</th>\n",
       "      <th>inning_topbot_Bot</th>\n",
       "      <th>inning_topbot_Top</th>\n",
       "      <th>if_fielding_alignment_Infield shift</th>\n",
       "      <th>if_fielding_alignment_Standard</th>\n",
       "      <th>if_fielding_alignment_Strategic</th>\n",
       "      <th>of_fielding_alignment_4th outfielder</th>\n",
       "      <th>of_fielding_alignment_Standard</th>\n",
       "      <th>of_fielding_alignment_Strategic</th>\n",
       "    </tr>\n",
       "  </thead>\n",
       "  <tbody>\n",
       "    <tr>\n",
       "      <th>0</th>\n",
       "      <td>SL</td>\n",
       "      <td>0</td>\n",
       "      <td>0</td>\n",
       "      <td>0</td>\n",
       "      <td>1</td>\n",
       "      <td>1</td>\n",
       "      <td>2</td>\n",
       "      <td>9</td>\n",
       "      <td>77</td>\n",
       "      <td>1</td>\n",
       "      <td>...</td>\n",
       "      <td>1</td>\n",
       "      <td>0</td>\n",
       "      <td>0</td>\n",
       "      <td>1</td>\n",
       "      <td>0</td>\n",
       "      <td>1</td>\n",
       "      <td>0</td>\n",
       "      <td>0</td>\n",
       "      <td>1</td>\n",
       "      <td>0</td>\n",
       "    </tr>\n",
       "    <tr>\n",
       "      <th>1</th>\n",
       "      <td>FF</td>\n",
       "      <td>0</td>\n",
       "      <td>0</td>\n",
       "      <td>0</td>\n",
       "      <td>1</td>\n",
       "      <td>0</td>\n",
       "      <td>2</td>\n",
       "      <td>9</td>\n",
       "      <td>76</td>\n",
       "      <td>1</td>\n",
       "      <td>...</td>\n",
       "      <td>1</td>\n",
       "      <td>0</td>\n",
       "      <td>0</td>\n",
       "      <td>1</td>\n",
       "      <td>0</td>\n",
       "      <td>1</td>\n",
       "      <td>0</td>\n",
       "      <td>0</td>\n",
       "      <td>1</td>\n",
       "      <td>0</td>\n",
       "    </tr>\n",
       "    <tr>\n",
       "      <th>2</th>\n",
       "      <td>FF</td>\n",
       "      <td>0</td>\n",
       "      <td>0</td>\n",
       "      <td>0</td>\n",
       "      <td>1</td>\n",
       "      <td>0</td>\n",
       "      <td>2</td>\n",
       "      <td>9</td>\n",
       "      <td>75</td>\n",
       "      <td>1</td>\n",
       "      <td>...</td>\n",
       "      <td>1</td>\n",
       "      <td>0</td>\n",
       "      <td>0</td>\n",
       "      <td>1</td>\n",
       "      <td>0</td>\n",
       "      <td>1</td>\n",
       "      <td>0</td>\n",
       "      <td>0</td>\n",
       "      <td>1</td>\n",
       "      <td>0</td>\n",
       "    </tr>\n",
       "    <tr>\n",
       "      <th>3</th>\n",
       "      <td>SL</td>\n",
       "      <td>0</td>\n",
       "      <td>0</td>\n",
       "      <td>0</td>\n",
       "      <td>1</td>\n",
       "      <td>0</td>\n",
       "      <td>1</td>\n",
       "      <td>9</td>\n",
       "      <td>74</td>\n",
       "      <td>1</td>\n",
       "      <td>...</td>\n",
       "      <td>1</td>\n",
       "      <td>0</td>\n",
       "      <td>0</td>\n",
       "      <td>1</td>\n",
       "      <td>0</td>\n",
       "      <td>1</td>\n",
       "      <td>0</td>\n",
       "      <td>0</td>\n",
       "      <td>1</td>\n",
       "      <td>0</td>\n",
       "    </tr>\n",
       "    <tr>\n",
       "      <th>4</th>\n",
       "      <td>FF</td>\n",
       "      <td>0</td>\n",
       "      <td>0</td>\n",
       "      <td>0</td>\n",
       "      <td>0</td>\n",
       "      <td>1</td>\n",
       "      <td>0</td>\n",
       "      <td>9</td>\n",
       "      <td>73</td>\n",
       "      <td>1</td>\n",
       "      <td>...</td>\n",
       "      <td>1</td>\n",
       "      <td>0</td>\n",
       "      <td>0</td>\n",
       "      <td>1</td>\n",
       "      <td>0</td>\n",
       "      <td>1</td>\n",
       "      <td>0</td>\n",
       "      <td>0</td>\n",
       "      <td>1</td>\n",
       "      <td>0</td>\n",
       "    </tr>\n",
       "  </tbody>\n",
       "</table>\n",
       "<p>5 rows × 26 columns</p>\n",
       "</div>"
      ],
      "text/plain": [
       "  pitch_type  balls  strikes  on_3b  on_2b  on_1b  outs_when_up  inning  \\\n",
       "0         SL      0        0      0      1      1             2       9   \n",
       "1         FF      0        0      0      1      0             2       9   \n",
       "2         FF      0        0      0      1      0             2       9   \n",
       "3         SL      0        0      0      1      0             1       9   \n",
       "4         FF      0        0      0      0      1             0       9   \n",
       "\n",
       "   at_bat_number  pitch_number  ...  p_throws_L  p_throws_R  \\\n",
       "0             77             1  ...           1           0   \n",
       "1             76             1  ...           1           0   \n",
       "2             75             1  ...           1           0   \n",
       "3             74             1  ...           1           0   \n",
       "4             73             1  ...           1           0   \n",
       "\n",
       "   inning_topbot_Bot  inning_topbot_Top  if_fielding_alignment_Infield shift  \\\n",
       "0                  0                  1                                    0   \n",
       "1                  0                  1                                    0   \n",
       "2                  0                  1                                    0   \n",
       "3                  0                  1                                    0   \n",
       "4                  0                  1                                    0   \n",
       "\n",
       "   if_fielding_alignment_Standard  if_fielding_alignment_Strategic  \\\n",
       "0                               1                                0   \n",
       "1                               1                                0   \n",
       "2                               1                                0   \n",
       "3                               1                                0   \n",
       "4                               1                                0   \n",
       "\n",
       "   of_fielding_alignment_4th outfielder  of_fielding_alignment_Standard  \\\n",
       "0                                     0                               1   \n",
       "1                                     0                               1   \n",
       "2                                     0                               1   \n",
       "3                                     0                               1   \n",
       "4                                     0                               1   \n",
       "\n",
       "   of_fielding_alignment_Strategic  \n",
       "0                                0  \n",
       "1                                0  \n",
       "2                                0  \n",
       "3                                0  \n",
       "4                                0  \n",
       "\n",
       "[5 rows x 26 columns]"
      ]
     },
     "execution_count": 155,
     "metadata": {},
     "output_type": "execute_result"
    }
   ],
   "source": [
    "first_pitch.head()"
   ]
  },
  {
   "cell_type": "code",
   "execution_count": null,
   "metadata": {},
   "outputs": [],
   "source": []
  }
 ],
 "metadata": {
  "kernelspec": {
   "display_name": "Python 3",
   "language": "python",
   "name": "python3"
  },
  "language_info": {
   "codemirror_mode": {
    "name": "ipython",
    "version": 3
   },
   "file_extension": ".py",
   "mimetype": "text/x-python",
   "name": "python",
   "nbconvert_exporter": "python",
   "pygments_lexer": "ipython3",
   "version": "3.7.6"
  }
 },
 "nbformat": 4,
 "nbformat_minor": 4
}
